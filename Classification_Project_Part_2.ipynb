{
 "cells": [
  {
   "cell_type": "markdown",
   "metadata": {},
   "source": [
    "### <font color='red'> Project 2\n",
    "\n",
    "Project Description:\n",
    "- Use same datasets as Project 1.\n",
    "- Preprocess data: Explore data and apply data scaling.\n",
    "\n",
    "Classification Task:\n",
    "- Apply two voting classifiers - one with hard voting and one with soft voting\n",
    "- Apply any two models with bagging and any two models with pasting.\n",
    "- Apply any two models with adaboost boosting\n",
    "- Apply one model with gradient boosting\n",
    "- Apply PCA on data and then apply all the models in project 1 again on data you get from PCA. Compare your results with results in project 1. You don't need to apply all the models twice. Just copy the result table from project 1, prepare similar table for all the models after PCA and compare both tables. Does PCA help in getting better results?\n",
    "- Apply deep learning models covered in class\n",
    "\n",
    "Deliverables:\n",
    "- Use markdown to provide inline comments for this project.\n",
    "- Your outputs should be clearly executed in the notebook i.e. we should not need to rerun the code to obtain the outputs.\n",
    "- Visualization encouraged."
   ]
  },
  {
   "cell_type": "markdown",
   "metadata": {},
   "source": [
    "## PART B - CLASSIFICATION"
   ]
  },
  {
   "cell_type": "markdown",
   "metadata": {},
   "source": [
    "### Preprocessing of the data"
   ]
  },
  {
   "cell_type": "code",
   "execution_count": 1,
   "metadata": {},
   "outputs": [],
   "source": [
    "#Importing required libraries\n",
    "import numpy as np\n",
    "import pandas as pd\n",
    "\n",
    "\n",
    "import matplotlib.pyplot as plt\n",
    "import mglearn as mg \n",
    "\n",
    "import seaborn as sns\n",
    "from sklearn.model_selection import GridSearchCV\n",
    "from sklearn.model_selection import train_test_split\n",
    "from mlxtend.plotting import plot_decision_regions\n",
    "from sklearn.model_selection import cross_val_score\n",
    "from sklearn.linear_model import LinearRegression\n",
    "from sklearn.preprocessing import MinMaxScaler\n",
    "from sklearn.preprocessing import StandardScaler\n",
    "import warnings\n",
    "warnings.filterwarnings('ignore')"
   ]
  },
  {
   "cell_type": "code",
   "execution_count": 2,
   "metadata": {},
   "outputs": [],
   "source": [
    "#We are importing data here \n",
    "sample_data = pd.read_csv('messidor.csv', header = 0)"
   ]
  },
  {
   "cell_type": "code",
   "execution_count": 3,
   "metadata": {},
   "outputs": [
    {
     "data": {
      "text/html": [
       "<div>\n",
       "<style scoped>\n",
       "    .dataframe tbody tr th:only-of-type {\n",
       "        vertical-align: middle;\n",
       "    }\n",
       "\n",
       "    .dataframe tbody tr th {\n",
       "        vertical-align: top;\n",
       "    }\n",
       "\n",
       "    .dataframe thead th {\n",
       "        text-align: right;\n",
       "    }\n",
       "</style>\n",
       "<table border=\"1\" class=\"dataframe\">\n",
       "  <thead>\n",
       "    <tr style=\"text-align: right;\">\n",
       "      <th></th>\n",
       "      <th>id</th>\n",
       "      <th>quality assessment</th>\n",
       "      <th>pre_screening</th>\n",
       "      <th>MA_0.5</th>\n",
       "      <th>MA_0.6</th>\n",
       "      <th>MA_0.7</th>\n",
       "      <th>MA_0.8</th>\n",
       "      <th>MA_0.9</th>\n",
       "      <th>MA_1.0</th>\n",
       "      <th>MA_0.5P</th>\n",
       "      <th>...</th>\n",
       "      <th>MA_0.7P</th>\n",
       "      <th>MA_0.8P</th>\n",
       "      <th>MA_0.9P</th>\n",
       "      <th>MA_1.0.1</th>\n",
       "      <th>MA_1.1</th>\n",
       "      <th>MA_1.2</th>\n",
       "      <th>euclidean distance</th>\n",
       "      <th>diameter of the optic</th>\n",
       "      <th>AM/FM</th>\n",
       "      <th>Class</th>\n",
       "    </tr>\n",
       "  </thead>\n",
       "  <tbody>\n",
       "    <tr>\n",
       "      <th>0</th>\n",
       "      <td>1</td>\n",
       "      <td>1</td>\n",
       "      <td>1</td>\n",
       "      <td>22</td>\n",
       "      <td>22</td>\n",
       "      <td>22</td>\n",
       "      <td>19</td>\n",
       "      <td>18</td>\n",
       "      <td>14</td>\n",
       "      <td>49.895756</td>\n",
       "      <td>...</td>\n",
       "      <td>5.270920</td>\n",
       "      <td>0.771761</td>\n",
       "      <td>0.018632</td>\n",
       "      <td>0.006864</td>\n",
       "      <td>0.003923</td>\n",
       "      <td>0.003923</td>\n",
       "      <td>0.486903</td>\n",
       "      <td>0.100025</td>\n",
       "      <td>1</td>\n",
       "      <td>0</td>\n",
       "    </tr>\n",
       "    <tr>\n",
       "      <th>1</th>\n",
       "      <td>2</td>\n",
       "      <td>1</td>\n",
       "      <td>1</td>\n",
       "      <td>24</td>\n",
       "      <td>24</td>\n",
       "      <td>22</td>\n",
       "      <td>18</td>\n",
       "      <td>16</td>\n",
       "      <td>13</td>\n",
       "      <td>57.709936</td>\n",
       "      <td>...</td>\n",
       "      <td>3.325423</td>\n",
       "      <td>0.234185</td>\n",
       "      <td>0.003903</td>\n",
       "      <td>0.003903</td>\n",
       "      <td>0.003903</td>\n",
       "      <td>0.003903</td>\n",
       "      <td>0.520908</td>\n",
       "      <td>0.144414</td>\n",
       "      <td>0</td>\n",
       "      <td>0</td>\n",
       "    </tr>\n",
       "    <tr>\n",
       "      <th>2</th>\n",
       "      <td>3</td>\n",
       "      <td>1</td>\n",
       "      <td>1</td>\n",
       "      <td>62</td>\n",
       "      <td>60</td>\n",
       "      <td>59</td>\n",
       "      <td>54</td>\n",
       "      <td>47</td>\n",
       "      <td>33</td>\n",
       "      <td>55.831441</td>\n",
       "      <td>...</td>\n",
       "      <td>12.687485</td>\n",
       "      <td>4.852282</td>\n",
       "      <td>1.393889</td>\n",
       "      <td>0.373252</td>\n",
       "      <td>0.041817</td>\n",
       "      <td>0.007744</td>\n",
       "      <td>0.530904</td>\n",
       "      <td>0.128548</td>\n",
       "      <td>0</td>\n",
       "      <td>1</td>\n",
       "    </tr>\n",
       "    <tr>\n",
       "      <th>3</th>\n",
       "      <td>4</td>\n",
       "      <td>1</td>\n",
       "      <td>1</td>\n",
       "      <td>55</td>\n",
       "      <td>53</td>\n",
       "      <td>53</td>\n",
       "      <td>50</td>\n",
       "      <td>43</td>\n",
       "      <td>31</td>\n",
       "      <td>40.467228</td>\n",
       "      <td>...</td>\n",
       "      <td>9.118901</td>\n",
       "      <td>3.079428</td>\n",
       "      <td>0.840261</td>\n",
       "      <td>0.272434</td>\n",
       "      <td>0.007653</td>\n",
       "      <td>0.001531</td>\n",
       "      <td>0.483284</td>\n",
       "      <td>0.114790</td>\n",
       "      <td>0</td>\n",
       "      <td>0</td>\n",
       "    </tr>\n",
       "    <tr>\n",
       "      <th>4</th>\n",
       "      <td>5</td>\n",
       "      <td>1</td>\n",
       "      <td>1</td>\n",
       "      <td>44</td>\n",
       "      <td>44</td>\n",
       "      <td>44</td>\n",
       "      <td>41</td>\n",
       "      <td>39</td>\n",
       "      <td>27</td>\n",
       "      <td>18.026254</td>\n",
       "      <td>...</td>\n",
       "      <td>0.410381</td>\n",
       "      <td>0.000000</td>\n",
       "      <td>0.000000</td>\n",
       "      <td>0.000000</td>\n",
       "      <td>0.000000</td>\n",
       "      <td>0.000000</td>\n",
       "      <td>0.475935</td>\n",
       "      <td>0.123572</td>\n",
       "      <td>0</td>\n",
       "      <td>1</td>\n",
       "    </tr>\n",
       "  </tbody>\n",
       "</table>\n",
       "<p>5 rows × 21 columns</p>\n",
       "</div>"
      ],
      "text/plain": [
       "   id  quality assessment  pre_screening  MA_0.5  MA_0.6  MA_0.7  MA_0.8  \\\n",
       "0   1                   1              1      22      22      22      19   \n",
       "1   2                   1              1      24      24      22      18   \n",
       "2   3                   1              1      62      60      59      54   \n",
       "3   4                   1              1      55      53      53      50   \n",
       "4   5                   1              1      44      44      44      41   \n",
       "\n",
       "   MA_0.9  MA_1.0    MA_0.5P  ...    MA_0.7P   MA_0.8P   MA_0.9P  MA_1.0.1  \\\n",
       "0      18      14  49.895756  ...   5.270920  0.771761  0.018632  0.006864   \n",
       "1      16      13  57.709936  ...   3.325423  0.234185  0.003903  0.003903   \n",
       "2      47      33  55.831441  ...  12.687485  4.852282  1.393889  0.373252   \n",
       "3      43      31  40.467228  ...   9.118901  3.079428  0.840261  0.272434   \n",
       "4      39      27  18.026254  ...   0.410381  0.000000  0.000000  0.000000   \n",
       "\n",
       "     MA_1.1    MA_1.2  euclidean distance  diameter of the optic  AM/FM  Class  \n",
       "0  0.003923  0.003923            0.486903               0.100025      1      0  \n",
       "1  0.003903  0.003903            0.520908               0.144414      0      0  \n",
       "2  0.041817  0.007744            0.530904               0.128548      0      1  \n",
       "3  0.007653  0.001531            0.483284               0.114790      0      0  \n",
       "4  0.000000  0.000000            0.475935               0.123572      0      1  \n",
       "\n",
       "[5 rows x 21 columns]"
      ]
     },
     "execution_count": 3,
     "metadata": {},
     "output_type": "execute_result"
    }
   ],
   "source": [
    "# We are checking the first 5 rows of the dataset\n",
    "sample_data.head()"
   ]
  },
  {
   "cell_type": "code",
   "execution_count": 4,
   "metadata": {},
   "outputs": [
    {
     "data": {
      "text/plain": [
       "(1151, 21)"
      ]
     },
     "execution_count": 4,
     "metadata": {},
     "output_type": "execute_result"
    }
   ],
   "source": [
    "# We understand the number of instances and attributes in the dataset\n",
    "sample_data.shape"
   ]
  },
  {
   "cell_type": "code",
   "execution_count": 5,
   "metadata": {},
   "outputs": [
    {
     "data": {
      "text/plain": [
       "id                       0\n",
       "quality assessment       0\n",
       "pre_screening            0\n",
       "MA_0.5                   0\n",
       "MA_0.6                   0\n",
       "MA_0.7                   0\n",
       "MA_0.8                   0\n",
       "MA_0.9                   0\n",
       "MA_1.0                   0\n",
       "MA_0.5P                  0\n",
       "MA_0.6P                  0\n",
       "MA_0.7P                  0\n",
       "MA_0.8P                  0\n",
       "MA_0.9P                  0\n",
       "MA_1.0.1                 0\n",
       "MA_1.1                   0\n",
       "MA_1.2                   0\n",
       "euclidean distance       0\n",
       "diameter of the optic    0\n",
       "AM/FM                    0\n",
       "Class                    0\n",
       "dtype: int64"
      ]
     },
     "execution_count": 5,
     "metadata": {},
     "output_type": "execute_result"
    }
   ],
   "source": [
    "# We are checking the number of missing values in the dataset\n",
    "sample_data.isnull().sum()"
   ]
  },
  {
   "cell_type": "code",
   "execution_count": 6,
   "metadata": {},
   "outputs": [
    {
     "name": "stdout",
     "output_type": "stream",
     "text": [
      "<class 'pandas.core.frame.DataFrame'>\n",
      "RangeIndex: 1151 entries, 0 to 1150\n",
      "Data columns (total 21 columns):\n",
      " #   Column                 Non-Null Count  Dtype  \n",
      "---  ------                 --------------  -----  \n",
      " 0   id                     1151 non-null   int64  \n",
      " 1   quality assessment     1151 non-null   int64  \n",
      " 2   pre_screening          1151 non-null   int64  \n",
      " 3   MA_0.5                 1151 non-null   int64  \n",
      " 4   MA_0.6                 1151 non-null   int64  \n",
      " 5   MA_0.7                 1151 non-null   int64  \n",
      " 6   MA_0.8                 1151 non-null   int64  \n",
      " 7   MA_0.9                 1151 non-null   int64  \n",
      " 8   MA_1.0                 1151 non-null   int64  \n",
      " 9   MA_0.5P                1151 non-null   float64\n",
      " 10  MA_0.6P                1151 non-null   float64\n",
      " 11  MA_0.7P                1151 non-null   float64\n",
      " 12  MA_0.8P                1151 non-null   float64\n",
      " 13  MA_0.9P                1151 non-null   float64\n",
      " 14  MA_1.0.1               1151 non-null   float64\n",
      " 15  MA_1.1                 1151 non-null   float64\n",
      " 16  MA_1.2                 1151 non-null   float64\n",
      " 17  euclidean distance     1151 non-null   float64\n",
      " 18  diameter of the optic  1151 non-null   float64\n",
      " 19  AM/FM                  1151 non-null   int64  \n",
      " 20  Class                  1151 non-null   int64  \n",
      "dtypes: float64(10), int64(11)\n",
      "memory usage: 189.0 KB\n"
     ]
    }
   ],
   "source": [
    "#Another method of checking the missing values in the dataset it also checks the data types of the columns in the dataset  \n",
    "sample_data.info()"
   ]
  },
  {
   "cell_type": "code",
   "execution_count": 7,
   "metadata": {},
   "outputs": [
    {
     "data": {
      "text/html": [
       "<div>\n",
       "<style scoped>\n",
       "    .dataframe tbody tr th:only-of-type {\n",
       "        vertical-align: middle;\n",
       "    }\n",
       "\n",
       "    .dataframe tbody tr th {\n",
       "        vertical-align: top;\n",
       "    }\n",
       "\n",
       "    .dataframe thead th {\n",
       "        text-align: right;\n",
       "    }\n",
       "</style>\n",
       "<table border=\"1\" class=\"dataframe\">\n",
       "  <thead>\n",
       "    <tr style=\"text-align: right;\">\n",
       "      <th></th>\n",
       "      <th>id</th>\n",
       "      <th>quality assessment</th>\n",
       "      <th>pre_screening</th>\n",
       "      <th>MA_0.5</th>\n",
       "      <th>MA_0.6</th>\n",
       "      <th>MA_0.7</th>\n",
       "      <th>MA_0.8</th>\n",
       "      <th>MA_0.9</th>\n",
       "      <th>MA_1.0</th>\n",
       "      <th>MA_0.5P</th>\n",
       "      <th>...</th>\n",
       "      <th>MA_0.7P</th>\n",
       "      <th>MA_0.8P</th>\n",
       "      <th>MA_0.9P</th>\n",
       "      <th>MA_1.0.1</th>\n",
       "      <th>MA_1.1</th>\n",
       "      <th>MA_1.2</th>\n",
       "      <th>euclidean distance</th>\n",
       "      <th>diameter of the optic</th>\n",
       "      <th>AM/FM</th>\n",
       "      <th>Class</th>\n",
       "    </tr>\n",
       "  </thead>\n",
       "  <tbody>\n",
       "    <tr>\n",
       "      <th>count</th>\n",
       "      <td>1151.000000</td>\n",
       "      <td>1151.000000</td>\n",
       "      <td>1151.000000</td>\n",
       "      <td>1151.000000</td>\n",
       "      <td>1151.000000</td>\n",
       "      <td>1151.000000</td>\n",
       "      <td>1151.000000</td>\n",
       "      <td>1151.000000</td>\n",
       "      <td>1151.000000</td>\n",
       "      <td>1151.000000</td>\n",
       "      <td>...</td>\n",
       "      <td>1151.000000</td>\n",
       "      <td>1151.000000</td>\n",
       "      <td>1151.000000</td>\n",
       "      <td>1151.000000</td>\n",
       "      <td>1151.000000</td>\n",
       "      <td>1151.000000</td>\n",
       "      <td>1151.000000</td>\n",
       "      <td>1151.000000</td>\n",
       "      <td>1151.000000</td>\n",
       "      <td>1151.000000</td>\n",
       "    </tr>\n",
       "    <tr>\n",
       "      <th>mean</th>\n",
       "      <td>576.000000</td>\n",
       "      <td>0.996525</td>\n",
       "      <td>0.918332</td>\n",
       "      <td>38.428323</td>\n",
       "      <td>36.909644</td>\n",
       "      <td>35.140747</td>\n",
       "      <td>32.297133</td>\n",
       "      <td>28.747176</td>\n",
       "      <td>21.151173</td>\n",
       "      <td>64.096674</td>\n",
       "      <td>...</td>\n",
       "      <td>8.704610</td>\n",
       "      <td>1.836489</td>\n",
       "      <td>0.560738</td>\n",
       "      <td>0.212290</td>\n",
       "      <td>0.085674</td>\n",
       "      <td>0.037225</td>\n",
       "      <td>0.523212</td>\n",
       "      <td>0.108431</td>\n",
       "      <td>0.336229</td>\n",
       "      <td>0.530843</td>\n",
       "    </tr>\n",
       "    <tr>\n",
       "      <th>std</th>\n",
       "      <td>332.409386</td>\n",
       "      <td>0.058874</td>\n",
       "      <td>0.273977</td>\n",
       "      <td>25.620913</td>\n",
       "      <td>24.105612</td>\n",
       "      <td>22.805400</td>\n",
       "      <td>21.114767</td>\n",
       "      <td>19.509227</td>\n",
       "      <td>15.101560</td>\n",
       "      <td>58.485289</td>\n",
       "      <td>...</td>\n",
       "      <td>11.567589</td>\n",
       "      <td>3.923224</td>\n",
       "      <td>2.484111</td>\n",
       "      <td>1.057126</td>\n",
       "      <td>0.398717</td>\n",
       "      <td>0.178959</td>\n",
       "      <td>0.028055</td>\n",
       "      <td>0.017945</td>\n",
       "      <td>0.472624</td>\n",
       "      <td>0.499265</td>\n",
       "    </tr>\n",
       "    <tr>\n",
       "      <th>min</th>\n",
       "      <td>1.000000</td>\n",
       "      <td>0.000000</td>\n",
       "      <td>0.000000</td>\n",
       "      <td>1.000000</td>\n",
       "      <td>1.000000</td>\n",
       "      <td>1.000000</td>\n",
       "      <td>1.000000</td>\n",
       "      <td>1.000000</td>\n",
       "      <td>1.000000</td>\n",
       "      <td>0.349274</td>\n",
       "      <td>...</td>\n",
       "      <td>0.000000</td>\n",
       "      <td>0.000000</td>\n",
       "      <td>0.000000</td>\n",
       "      <td>0.000000</td>\n",
       "      <td>0.000000</td>\n",
       "      <td>0.000000</td>\n",
       "      <td>0.367762</td>\n",
       "      <td>0.057906</td>\n",
       "      <td>0.000000</td>\n",
       "      <td>0.000000</td>\n",
       "    </tr>\n",
       "    <tr>\n",
       "      <th>25%</th>\n",
       "      <td>288.500000</td>\n",
       "      <td>1.000000</td>\n",
       "      <td>1.000000</td>\n",
       "      <td>16.000000</td>\n",
       "      <td>16.000000</td>\n",
       "      <td>15.000000</td>\n",
       "      <td>14.000000</td>\n",
       "      <td>11.000000</td>\n",
       "      <td>8.000000</td>\n",
       "      <td>22.271597</td>\n",
       "      <td>...</td>\n",
       "      <td>1.249050</td>\n",
       "      <td>0.081554</td>\n",
       "      <td>0.000000</td>\n",
       "      <td>0.000000</td>\n",
       "      <td>0.000000</td>\n",
       "      <td>0.000000</td>\n",
       "      <td>0.502855</td>\n",
       "      <td>0.095799</td>\n",
       "      <td>0.000000</td>\n",
       "      <td>0.000000</td>\n",
       "    </tr>\n",
       "    <tr>\n",
       "      <th>50%</th>\n",
       "      <td>576.000000</td>\n",
       "      <td>1.000000</td>\n",
       "      <td>1.000000</td>\n",
       "      <td>35.000000</td>\n",
       "      <td>35.000000</td>\n",
       "      <td>32.000000</td>\n",
       "      <td>29.000000</td>\n",
       "      <td>25.000000</td>\n",
       "      <td>18.000000</td>\n",
       "      <td>44.249119</td>\n",
       "      <td>...</td>\n",
       "      <td>4.423472</td>\n",
       "      <td>0.484829</td>\n",
       "      <td>0.022248</td>\n",
       "      <td>0.001554</td>\n",
       "      <td>0.000000</td>\n",
       "      <td>0.000000</td>\n",
       "      <td>0.523308</td>\n",
       "      <td>0.106623</td>\n",
       "      <td>0.000000</td>\n",
       "      <td>1.000000</td>\n",
       "    </tr>\n",
       "    <tr>\n",
       "      <th>75%</th>\n",
       "      <td>863.500000</td>\n",
       "      <td>1.000000</td>\n",
       "      <td>1.000000</td>\n",
       "      <td>55.000000</td>\n",
       "      <td>53.000000</td>\n",
       "      <td>51.000000</td>\n",
       "      <td>48.000000</td>\n",
       "      <td>43.000000</td>\n",
       "      <td>32.000000</td>\n",
       "      <td>87.804112</td>\n",
       "      <td>...</td>\n",
       "      <td>11.766880</td>\n",
       "      <td>1.921649</td>\n",
       "      <td>0.191953</td>\n",
       "      <td>0.038450</td>\n",
       "      <td>0.004832</td>\n",
       "      <td>0.003851</td>\n",
       "      <td>0.543670</td>\n",
       "      <td>0.119591</td>\n",
       "      <td>1.000000</td>\n",
       "      <td>1.000000</td>\n",
       "    </tr>\n",
       "    <tr>\n",
       "      <th>max</th>\n",
       "      <td>1151.000000</td>\n",
       "      <td>1.000000</td>\n",
       "      <td>1.000000</td>\n",
       "      <td>151.000000</td>\n",
       "      <td>132.000000</td>\n",
       "      <td>120.000000</td>\n",
       "      <td>105.000000</td>\n",
       "      <td>97.000000</td>\n",
       "      <td>89.000000</td>\n",
       "      <td>403.939108</td>\n",
       "      <td>...</td>\n",
       "      <td>106.070092</td>\n",
       "      <td>59.766121</td>\n",
       "      <td>51.423208</td>\n",
       "      <td>20.098605</td>\n",
       "      <td>5.937799</td>\n",
       "      <td>3.086753</td>\n",
       "      <td>0.592217</td>\n",
       "      <td>0.219199</td>\n",
       "      <td>1.000000</td>\n",
       "      <td>1.000000</td>\n",
       "    </tr>\n",
       "  </tbody>\n",
       "</table>\n",
       "<p>8 rows × 21 columns</p>\n",
       "</div>"
      ],
      "text/plain": [
       "                id  quality assessment  pre_screening       MA_0.5  \\\n",
       "count  1151.000000         1151.000000    1151.000000  1151.000000   \n",
       "mean    576.000000            0.996525       0.918332    38.428323   \n",
       "std     332.409386            0.058874       0.273977    25.620913   \n",
       "min       1.000000            0.000000       0.000000     1.000000   \n",
       "25%     288.500000            1.000000       1.000000    16.000000   \n",
       "50%     576.000000            1.000000       1.000000    35.000000   \n",
       "75%     863.500000            1.000000       1.000000    55.000000   \n",
       "max    1151.000000            1.000000       1.000000   151.000000   \n",
       "\n",
       "            MA_0.6       MA_0.7       MA_0.8       MA_0.9       MA_1.0  \\\n",
       "count  1151.000000  1151.000000  1151.000000  1151.000000  1151.000000   \n",
       "mean     36.909644    35.140747    32.297133    28.747176    21.151173   \n",
       "std      24.105612    22.805400    21.114767    19.509227    15.101560   \n",
       "min       1.000000     1.000000     1.000000     1.000000     1.000000   \n",
       "25%      16.000000    15.000000    14.000000    11.000000     8.000000   \n",
       "50%      35.000000    32.000000    29.000000    25.000000    18.000000   \n",
       "75%      53.000000    51.000000    48.000000    43.000000    32.000000   \n",
       "max     132.000000   120.000000   105.000000    97.000000    89.000000   \n",
       "\n",
       "           MA_0.5P  ...      MA_0.7P      MA_0.8P      MA_0.9P     MA_1.0.1  \\\n",
       "count  1151.000000  ...  1151.000000  1151.000000  1151.000000  1151.000000   \n",
       "mean     64.096674  ...     8.704610     1.836489     0.560738     0.212290   \n",
       "std      58.485289  ...    11.567589     3.923224     2.484111     1.057126   \n",
       "min       0.349274  ...     0.000000     0.000000     0.000000     0.000000   \n",
       "25%      22.271597  ...     1.249050     0.081554     0.000000     0.000000   \n",
       "50%      44.249119  ...     4.423472     0.484829     0.022248     0.001554   \n",
       "75%      87.804112  ...    11.766880     1.921649     0.191953     0.038450   \n",
       "max     403.939108  ...   106.070092    59.766121    51.423208    20.098605   \n",
       "\n",
       "            MA_1.1       MA_1.2  euclidean distance  diameter of the optic  \\\n",
       "count  1151.000000  1151.000000         1151.000000            1151.000000   \n",
       "mean      0.085674     0.037225            0.523212               0.108431   \n",
       "std       0.398717     0.178959            0.028055               0.017945   \n",
       "min       0.000000     0.000000            0.367762               0.057906   \n",
       "25%       0.000000     0.000000            0.502855               0.095799   \n",
       "50%       0.000000     0.000000            0.523308               0.106623   \n",
       "75%       0.004832     0.003851            0.543670               0.119591   \n",
       "max       5.937799     3.086753            0.592217               0.219199   \n",
       "\n",
       "             AM/FM        Class  \n",
       "count  1151.000000  1151.000000  \n",
       "mean      0.336229     0.530843  \n",
       "std       0.472624     0.499265  \n",
       "min       0.000000     0.000000  \n",
       "25%       0.000000     0.000000  \n",
       "50%       0.000000     1.000000  \n",
       "75%       1.000000     1.000000  \n",
       "max       1.000000     1.000000  \n",
       "\n",
       "[8 rows x 21 columns]"
      ]
     },
     "execution_count": 7,
     "metadata": {},
     "output_type": "execute_result"
    }
   ],
   "source": [
    "#outputing the descriptive statistics of the dataset\n",
    "sample_data.describe()"
   ]
  },
  {
   "cell_type": "code",
   "execution_count": 8,
   "metadata": {},
   "outputs": [
    {
     "data": {
      "text/plain": [
       "1    611\n",
       "0    540\n",
       "Name: Class, dtype: int64"
      ]
     },
     "execution_count": 8,
     "metadata": {},
     "output_type": "execute_result"
    }
   ],
   "source": [
    "# checking the range of values in the Class column\n",
    "sample_data['Class'].value_counts()"
   ]
  },
  {
   "cell_type": "code",
   "execution_count": 9,
   "metadata": {},
   "outputs": [
    {
     "data": {
      "text/plain": [
       "1    611\n",
       "0    540\n",
       "Name: Class, dtype: int64"
      ]
     },
     "execution_count": 9,
     "metadata": {},
     "output_type": "execute_result"
    }
   ],
   "source": [
    "#checking the range of values in the Class column\n",
    "sample_data['Class'].value_counts()"
   ]
  },
  {
   "cell_type": "code",
   "execution_count": 10,
   "metadata": {},
   "outputs": [],
   "source": [
    "#imputing the mean value of the column for the missing rows\n",
    "sample_data['MA_0.5'] = sample_data.groupby(['Class']) ['MA_0.5'].apply(lambda x:x.fillna(x.mean()))\n",
    "sample_data['MA_0.9'] = sample_data.groupby('Class') ['MA_0.9'].apply(lambda x:x.fillna(x.mean()))\n",
    "sample_data['MA_0.9P'] = sample_data.groupby('Class') ['MA_0.9P'].apply(lambda x:x.fillna(x.mean()))\n",
    "sample_data['MA_1.0'] = sample_data.groupby('Class') ['MA_1.0'].apply(lambda x:x.fillna(x.mean()))\n",
    "sample_data['MA_1.2']= sample_data.groupby('Class') ['MA_1.2'].apply(lambda x:x.fillna(x.mean()))\n",
    "sample_data['diameter of the optic']= sample_data.groupby('Class') ['diameter of the optic'].apply(lambda x:x.fillna(x.mean()))"
   ]
  },
  {
   "cell_type": "code",
   "execution_count": 11,
   "metadata": {},
   "outputs": [
    {
     "data": {
      "text/plain": [
       "id                       0\n",
       "quality assessment       0\n",
       "pre_screening            0\n",
       "MA_0.5                   0\n",
       "MA_0.6                   0\n",
       "MA_0.7                   0\n",
       "MA_0.8                   0\n",
       "MA_0.9                   0\n",
       "MA_1.0                   0\n",
       "MA_0.5P                  0\n",
       "MA_0.6P                  0\n",
       "MA_0.7P                  0\n",
       "MA_0.8P                  0\n",
       "MA_0.9P                  0\n",
       "MA_1.0.1                 0\n",
       "MA_1.1                   0\n",
       "MA_1.2                   0\n",
       "euclidean distance       0\n",
       "diameter of the optic    0\n",
       "AM/FM                    0\n",
       "Class                    0\n",
       "dtype: int64"
      ]
     },
     "execution_count": 11,
     "metadata": {},
     "output_type": "execute_result"
    }
   ],
   "source": [
    "#We are again checking the number of missing values in the dataset\n",
    "sample_data.isnull().sum()"
   ]
  },
  {
   "cell_type": "code",
   "execution_count": 12,
   "metadata": {},
   "outputs": [
    {
     "data": {
      "text/plain": [
       "id                      -0.024825\n",
       "quality assessment       0.062816\n",
       "pre_screening           -0.076925\n",
       "MA_0.5                   0.292603\n",
       "MA_0.6                   0.266338\n",
       "MA_0.7                   0.234691\n",
       "MA_0.8                   0.197511\n",
       "MA_0.9                   0.161631\n",
       "MA_1.0                   0.127861\n",
       "MA_0.5P                  0.058015\n",
       "MA_0.6P                  0.000479\n",
       "MA_0.7P                  0.038281\n",
       "MA_0.8P                  0.104254\n",
       "MA_0.9P                  0.142273\n",
       "MA_1.0.1                 0.151424\n",
       "MA_1.1                   0.184772\n",
       "MA_1.2                   0.177313\n",
       "euclidean distance       0.008466\n",
       "diameter of the optic   -0.030868\n",
       "AM/FM                   -0.042144\n",
       "Class                    1.000000\n",
       "Name: Class, dtype: float64"
      ]
     },
     "execution_count": 12,
     "metadata": {},
     "output_type": "execute_result"
    }
   ],
   "source": [
    "#checking the correlation between Class, which is our target variable and all attributes\n",
    "sample_data.corr()['Class']"
   ]
  },
  {
   "cell_type": "code",
   "execution_count": 13,
   "metadata": {},
   "outputs": [
    {
     "data": {
      "image/png": "[encoded data removed]",
      "text/plain": [
       "<Figure size 720x720 with 2 Axes>"
      ]
     },
     "metadata": {
      "needs_background": "light"
     },
     "output_type": "display_data"
    }
   ],
   "source": [
    "#constructing a heat map to check the correlation between all the variables\n",
    "\n",
    "import matplotlib.pyplot as plt\n",
    "import mglearn as mg \n",
    "import seaborn as sns\n",
    "plt.figure(figsize=(10,10))\n",
    "plt.tick_params(axis='both',labelsize=16)\n",
    "sns.heatmap(sample_data.corr())\n",
    "sns.set(style=\"darkgrid\")"
   ]
  },
  {
   "cell_type": "code",
   "execution_count": 14,
   "metadata": {},
   "outputs": [
    {
     "data": {
      "text/plain": [
       "array([[<matplotlib.axes._subplots.AxesSubplot object at 0x000001BF13702948>,\n",
       "        <matplotlib.axes._subplots.AxesSubplot object at 0x000001BF13477DC8>,\n",
       "        <matplotlib.axes._subplots.AxesSubplot object at 0x000001BF12CAAB88>,\n",
       "        <matplotlib.axes._subplots.AxesSubplot object at 0x000001BF134CD9C8>,\n",
       "        <matplotlib.axes._subplots.AxesSubplot object at 0x000001BF13472AC8>],\n",
       "       [<matplotlib.axes._subplots.AxesSubplot object at 0x000001BF134E1B08>,\n",
       "        <matplotlib.axes._subplots.AxesSubplot object at 0x000001BF1351AC48>,\n",
       "        <matplotlib.axes._subplots.AxesSubplot object at 0x000001BF13553D48>,\n",
       "        <matplotlib.axes._subplots.AxesSubplot object at 0x000001BF1355E948>,\n",
       "        <matplotlib.axes._subplots.AxesSubplot object at 0x000001BF13595B08>],\n",
       "       [<matplotlib.axes._subplots.AxesSubplot object at 0x000001BF136020C8>,\n",
       "        <matplotlib.axes._subplots.AxesSubplot object at 0x000001BF1363A148>,\n",
       "        <matplotlib.axes._subplots.AxesSubplot object at 0x000001BF13672288>,\n",
       "        <matplotlib.axes._subplots.AxesSubplot object at 0x000001BF136AB388>,\n",
       "        <matplotlib.axes._subplots.AxesSubplot object at 0x000001BF13784488>],\n",
       "       [<matplotlib.axes._subplots.AxesSubplot object at 0x000001BF137BC5C8>,\n",
       "        <matplotlib.axes._subplots.AxesSubplot object at 0x000001BF137F9E48>,\n",
       "        <matplotlib.axes._subplots.AxesSubplot object at 0x000001BF1382E748>,\n",
       "        <matplotlib.axes._subplots.AxesSubplot object at 0x000001BF13865888>,\n",
       "        <matplotlib.axes._subplots.AxesSubplot object at 0x000001BF1389D988>],\n",
       "       [<matplotlib.axes._subplots.AxesSubplot object at 0x000001BF138D6A88>,\n",
       "        <matplotlib.axes._subplots.AxesSubplot object at 0x000001BF1390FB88>,\n",
       "        <matplotlib.axes._subplots.AxesSubplot object at 0x000001BF13947CC8>,\n",
       "        <matplotlib.axes._subplots.AxesSubplot object at 0x000001BF13980DC8>,\n",
       "        <matplotlib.axes._subplots.AxesSubplot object at 0x000001BF139B8EC8>]],\n",
       "      dtype=object)"
      ]
     },
     "execution_count": 14,
     "metadata": {},
     "output_type": "execute_result"
    },
    {
     "data": {
      "image/png": "[encoded data removed]",
      "text/plain": [
       "<Figure size 1080x1080 with 25 Axes>"
      ]
     },
     "metadata": {},
     "output_type": "display_data"
    }
   ],
   "source": [
    "# We are generating a scatter plot for each MA detection result against the target variable Class\n",
    "\n",
    "from pandas.plotting import scatter_matrix\n",
    "X = sample_data[['quality assessment', 'pre_screening', 'MA_0.5', 'MA_0.6', 'MA_0.7', 'MA_0.8', 'MA_0.9', 'MA_1.0', 'MA_0.5P', 'MA_0.6P', 'MA_0.7P', 'MA_0.8P', 'MA_0.9P', 'MA_1.0', 'MA_1.1', 'MA_1.2', 'euclidean distance', 'diameter of the optic', 'AM/FM']]\n",
    "y = sample_data['Class']\n",
    "attributes = X.columns[2:7]\n",
    "scatter_matrix(X[attributes], figsize = (15,15), alpha = 0.9, marker = 'O')"
   ]
  },
  {
   "cell_type": "code",
   "execution_count": 15,
   "metadata": {},
   "outputs": [
    {
     "data": {
      "image/png": "[encoded data removed]",
      "text/plain": [
       "<Figure size 1080x1080 with 16 Axes>"
      ]
     },
     "metadata": {},
     "output_type": "display_data"
    }
   ],
   "source": [
    "# generating an individual scatter plot for all variable against target variable Class\n",
    "\n",
    "fig = plt.figure(figsize = (15,15))\n",
    "\n",
    "columns = 5\n",
    "rows = 5\n",
    "\n",
    "for i in range(3, 19):\n",
    "    if(i < 19):\n",
    "        fig.add_subplot(rows, columns, i)\n",
    "        plt.scatter(x = X.columns[i - 1], y= 'Class', data = sample_data)\n",
    "        plt.xlabel(X.columns[i - 1])\n",
    "        plt.ylabel('Class')\n",
    "        plt.subplots_adjust(hspace = 0.30)\n",
    "    else:\n",
    "        break\n",
    "\n",
    "plt.show()"
   ]
  },
  {
   "cell_type": "code",
   "execution_count": 16,
   "metadata": {},
   "outputs": [],
   "source": [
    "#splitting the data into training set and test set  \n",
    "#scaling the training set and test set, test size is 25\n",
    "\n",
    "from sklearn.model_selection import train_test_split\n",
    "from sklearn.preprocessing import MinMaxScaler\n",
    "X = sample_data[['quality assessment', 'pre_screening', 'MA_0.5', 'MA_0.6', 'MA_0.7', 'MA_0.8', 'MA_0.9', 'MA_1.0', 'MA_0.5P', 'MA_0.6P', 'MA_0.7P', 'MA_0.8P', 'MA_0.9P', 'MA_1.0', 'MA_1.1', 'MA_1.2', 'euclidean distance', 'diameter of the optic', 'AM/FM']]\n",
    "y = sample_data['Class']\n",
    "\n",
    "X_train_org, X_test_org, y_train, y_test = train_test_split (X, y, test_size= 0.25, random_state = 1)\n",
    "\n",
    "scaler = MinMaxScaler()\n",
    "X_train = scaler.fit_transform(X_train_org)\n",
    "X_test = scaler.transform(X_test_org)"
   ]
  },
  {
   "cell_type": "code",
   "execution_count": 17,
   "metadata": {},
   "outputs": [],
   "source": [
    "#defining the score function which help display the classification report\n",
    "#and confusion matrix for the appropriate models\n",
    "\n",
    "from sklearn.metrics import classification_report, confusion_matrix\n",
    "\n",
    "def score_func(y, y_pred):\n",
    "    a=[]\n",
    "    b=[]\n",
    "    a.append('confusion_matrix')\n",
    "    b.append(confusion_matrix(y, y_pred))\n",
    "    a.append('classification_report')\n",
    "    b.append(classification_report(y,y_pred))\n",
    "    print(classification_report(y,y_pred))\n",
    "    #return pd.DataFrame(b, a)"
   ]
  },
  {
   "cell_type": "markdown",
   "metadata": {},
   "source": [
    "## 1. Applying the Voting Classifiers - Hard and Soft Voting"
   ]
  },
  {
   "cell_type": "markdown",
   "metadata": {},
   "source": [
    "### 1 a) Voting Classifiers - Hard Voting "
   ]
  },
  {
   "cell_type": "code",
   "execution_count": 18,
   "metadata": {
    "scrolled": true
   },
   "outputs": [
    {
     "name": "stdout",
     "output_type": "stream",
     "text": [
      "LogisticRegression\n",
      "              precision    recall  f1-score   support\n",
      "\n",
      "           0       0.00      0.00      0.00       139\n",
      "           1       0.52      1.00      0.68       149\n",
      "\n",
      "    accuracy                           0.52       288\n",
      "   macro avg       0.26      0.50      0.34       288\n",
      "weighted avg       0.27      0.52      0.35       288\n",
      "\n",
      "KNeighborsClassifier\n",
      "              precision    recall  f1-score   support\n",
      "\n",
      "           0       0.63      0.68      0.65       139\n",
      "           1       0.68      0.63      0.65       149\n",
      "\n",
      "    accuracy                           0.65       288\n",
      "   macro avg       0.65      0.65      0.65       288\n",
      "weighted avg       0.65      0.65      0.65       288\n",
      "\n",
      "SVC\n",
      "              precision    recall  f1-score   support\n",
      "\n",
      "           0       0.00      0.00      0.00       139\n",
      "           1       0.52      1.00      0.68       149\n",
      "\n",
      "    accuracy                           0.52       288\n",
      "   macro avg       0.26      0.50      0.34       288\n",
      "weighted avg       0.27      0.52      0.35       288\n",
      "\n",
      "VotingClassifier\n",
      "              precision    recall  f1-score   support\n",
      "\n",
      "           0       0.00      0.00      0.00       139\n",
      "           1       0.52      1.00      0.68       149\n",
      "\n",
      "    accuracy                           0.52       288\n",
      "   macro avg       0.26      0.50      0.34       288\n",
      "weighted avg       0.27      0.52      0.35       288\n",
      "\n"
     ]
    }
   ],
   "source": [
    "# running the hard voting classifier \n",
    "from sklearn.neighbors import KNeighborsClassifier\n",
    "from sklearn.ensemble import VotingClassifier\n",
    "from sklearn.linear_model import LogisticRegression\n",
    "from sklearn.svm import SVC\n",
    "\n",
    "log_clf = LogisticRegression(C = 0.001, penalty = 'l2')\n",
    "log_clf.fit(X_train, y_train)\n",
    "knn_clf = KNeighborsClassifier(13)\n",
    "knn_clf.fit(X_train, y_train)\n",
    "svm_clf = SVC(C = 0.001, kernel = 'rbf', gamma = 0.001,probability = True)\n",
    "svm_clf.fit(X_train, y_train)\n",
    "voting_clf = VotingClassifier(estimators=[('lr', log_clf), ('knn', knn_clf), ('svc', svm_clf)], voting='hard')\n",
    "voting_clf.fit(X_train, y_train)\n",
    "for clf in (log_clf, knn_clf, svm_clf, voting_clf):\n",
    "    clf.fit(X_train, y_train)\n",
    "    y_pred = clf.predict(X_test)\n",
    "    print(clf.__class__.__name__)\n",
    "    score_func(y_test, y_pred)"
   ]
  },
  {
   "cell_type": "markdown",
   "metadata": {},
   "source": [
    "### 1 c) Voting Classifiers - Soft Voting "
   ]
  },
  {
   "cell_type": "code",
   "execution_count": 19,
   "metadata": {
    "scrolled": false
   },
   "outputs": [
    {
     "name": "stdout",
     "output_type": "stream",
     "text": [
      "LogisticRegression\n",
      "              precision    recall  f1-score   support\n",
      "\n",
      "           0       0.00      0.00      0.00       139\n",
      "           1       0.52      1.00      0.68       149\n",
      "\n",
      "    accuracy                           0.52       288\n",
      "   macro avg       0.26      0.50      0.34       288\n",
      "weighted avg       0.27      0.52      0.35       288\n",
      "\n",
      "KNeighborsClassifier\n",
      "              precision    recall  f1-score   support\n",
      "\n",
      "           0       0.63      0.68      0.65       139\n",
      "           1       0.68      0.63      0.65       149\n",
      "\n",
      "    accuracy                           0.65       288\n",
      "   macro avg       0.65      0.65      0.65       288\n",
      "weighted avg       0.65      0.65      0.65       288\n",
      "\n",
      "SVC\n",
      "              precision    recall  f1-score   support\n",
      "\n",
      "           0       0.00      0.00      0.00       139\n",
      "           1       0.52      1.00      0.68       149\n",
      "\n",
      "    accuracy                           0.52       288\n",
      "   macro avg       0.26      0.50      0.34       288\n",
      "weighted avg       0.27      0.52      0.35       288\n",
      "\n",
      "VotingClassifier\n",
      "              precision    recall  f1-score   support\n",
      "\n",
      "           0       0.64      0.40      0.49       139\n",
      "           1       0.58      0.79      0.67       149\n",
      "\n",
      "    accuracy                           0.60       288\n",
      "   macro avg       0.61      0.59      0.58       288\n",
      "weighted avg       0.61      0.60      0.58       288\n",
      "\n"
     ]
    }
   ],
   "source": [
    "# running the hard voting classifier \n",
    "\n",
    "log_clf = LogisticRegression(C = 0.001, penalty = 'l2')\n",
    "log_clf.fit(X_train, y_train)\n",
    "knn_clf = KNeighborsClassifier(13)\n",
    "knn_clf.fit(X_train, y_train)\n",
    "svm_clf = SVC(C = 0.001, kernel = 'rbf', gamma = 0.001,probability = True)\n",
    "svm_clf.fit(X_train, y_train)\n",
    "voting_clf = VotingClassifier(estimators=[('lr', log_clf), ('knn', knn_clf), ('svc', svm_clf)], voting='soft')\n",
    "voting_clf.fit(X_train, y_train)\n",
    "for clf in (log_clf, knn_clf, svm_clf, voting_clf):\n",
    "    clf.fit(X_train, y_train)\n",
    "    y_pred = clf.predict(X_test)\n",
    "    print(clf.__class__.__name__)\n",
    "    score_func(y_test, y_pred)"
   ]
  },
  {
   "cell_type": "markdown",
   "metadata": {},
   "source": [
    "## 2. Applying two models with Bagging & Pasting"
   ]
  },
  {
   "cell_type": "markdown",
   "metadata": {},
   "source": [
    "### 2 a) Bagging - Model 1 (Decision Tree)"
   ]
  },
  {
   "cell_type": "code",
   "execution_count": 20,
   "metadata": {},
   "outputs": [
    {
     "name": "stdout",
     "output_type": "stream",
     "text": [
      "Best Parameter: {'n_estimators': 900}\n",
      "Highest CrossVal score: 0.68\n"
     ]
    }
   ],
   "source": [
    "#calculating the best estimator\n",
    "\n",
    "from sklearn.ensemble import BaggingClassifier\n",
    "from sklearn.tree import DecisionTreeClassifier\n",
    "from sklearn.model_selection import GridSearchCV\n",
    "\n",
    "p_test3 = {'n_estimators':[200,500,700,900,1000]}\n",
    "dt_clf = DecisionTreeClassifier(random_state=1,max_depth = 15)\n",
    "bag_clf = BaggingClassifier(dt_clf, max_samples=100, bootstrap=True, n_jobs=-1, random_state=1)\n",
    "\n",
    "tuning = GridSearchCV(estimator =bag_clf,param_grid = p_test3, scoring='accuracy',n_jobs=4,iid=False, cv=5)\n",
    "tuning.fit(X_train,y_train)\n",
    "print(\"Best Parameter: {}\".format(tuning.best_params_))\n",
    "print(\"Highest CrossVal score: {:.2f}\".format(tuning.best_score_))"
   ]
  },
  {
   "cell_type": "code",
   "execution_count": 21,
   "metadata": {},
   "outputs": [
    {
     "name": "stdout",
     "output_type": "stream",
     "text": [
      "Train score: 0.80\n",
      "Test score: 0.66\n"
     ]
    }
   ],
   "source": [
    "#generating the train and the test score for the best parameter value\n",
    "\n",
    "dt_clf = DecisionTreeClassifier(random_state = 1, max_depth = 15)\n",
    "bag_clf = BaggingClassifier(dt_clf, n_estimators = 700, max_samples = 100, bootstrap = True, n_jobs=-1, random_state=1)\n",
    "bag_clf.fit(X_train, y_train)\n",
    "y_pred = bag_clf.predict(X_test)\n",
    "print('Train score: {:.2f}'.format(bag_clf.score(X_train, y_train)))\n",
    "print('Test score: {:.2f}'.format(bag_clf.score(X_test, y_test)))"
   ]
  },
  {
   "cell_type": "code",
   "execution_count": 22,
   "metadata": {
    "scrolled": true
   },
   "outputs": [
    {
     "name": "stdout",
     "output_type": "stream",
     "text": [
      "              precision    recall  f1-score   support\n",
      "\n",
      "           0       0.65      0.66      0.65       139\n",
      "           1       0.68      0.66      0.67       149\n",
      "\n",
      "    accuracy                           0.66       288\n",
      "   macro avg       0.66      0.66      0.66       288\n",
      "weighted avg       0.66      0.66      0.66       288\n",
      "\n"
     ]
    }
   ],
   "source": [
    "#calling out the score function\n",
    "\n",
    "score_func(y_test, y_pred)"
   ]
  },
  {
   "cell_type": "code",
   "execution_count": 23,
   "metadata": {
    "scrolled": true
   },
   "outputs": [
    {
     "data": {
      "image/png": "[encoded data removed]",
      "text/plain": [
       "<Figure size 432x288 with 1 Axes>"
      ]
     },
     "metadata": {},
     "output_type": "display_data"
    }
   ],
   "source": [
    "  \n",
    "from mlxtend.plotting import plot_decision_regions\n",
    "import numpy as np\n",
    "import pandas as pd\n",
    "import matplotlib.pyplot as plt\n",
    "import matplotlib.patches as mpatches\n",
    "from sklearn.decomposition import PCA, KernelPCA\n",
    "from sklearn.preprocessing import StandardScaler\n",
    "from sklearn.model_selection import train_test_split\n",
    "\n",
    "X_b = X_train[100:150,[2,5]]\n",
    "y_b = y_train[100:150]\n",
    "dt_clf = DecisionTreeClassifier(random_state=1,max_depth = 15)\n",
    "bag_clf = BaggingClassifier(dt_clf, n_estimators=700, max_samples=35, bootstrap=True, n_jobs=-1, random_state=1)\n",
    "\n",
    "bag_clf.fit(X_b, y_b) \n",
    "\n",
    "plot_decision_regions(X_b,y_b.values, clf=bag_clf)\n",
    "\n",
    "plt.show()\n"
   ]
  },
  {
   "cell_type": "markdown",
   "metadata": {},
   "source": [
    "### 2 b) Bagging - Model 2 (Random Forest)"
   ]
  },
  {
   "cell_type": "code",
   "execution_count": 24,
   "metadata": {},
   "outputs": [
    {
     "name": "stdout",
     "output_type": "stream",
     "text": [
      "Best Parameter: {'n_estimators': 500}\n",
      "Highest CrossVal score: 0.68\n"
     ]
    }
   ],
   "source": [
    "#using grid search cv to generate the best parameter value for \n",
    "#no of estimators hyper parameter\n",
    "\n",
    "from sklearn.model_selection import GridSearchCV\n",
    "from sklearn.ensemble import RandomForestClassifier\n",
    "\n",
    "p_test3 = {'n_estimators':[200,500,700,900,1000]}\n",
    "tuning = GridSearchCV(estimator =RandomForestClassifier(max_leaf_nodes=15, bootstrap=False, n_jobs=-1, random_state=1),\n",
    "            param_grid = p_test3, scoring='accuracy',n_jobs=4,iid=False, cv=5)\n",
    "tuning.fit(X_train,y_train)\n",
    "print(\"Best Parameter: {}\".format(tuning.best_params_))\n",
    "print(\"Highest CrossVal score: {:.2f}\".format(tuning.best_score_))"
   ]
  },
  {
   "cell_type": "code",
   "execution_count": 25,
   "metadata": {},
   "outputs": [
    {
     "name": "stdout",
     "output_type": "stream",
     "text": [
      "Best Parameter: {'max_leaf_nodes': 20}\n",
      "Highest CrossVal score: 0.68\n"
     ]
    }
   ],
   "source": [
    "#using the best value for number of estimators hyper parameter to derive the best value\n",
    "#for max leaf nodes hyper parameter\n",
    "\n",
    "from sklearn.model_selection import GridSearchCV\n",
    "from sklearn.ensemble import RandomForestClassifier\n",
    "\n",
    "p_test3 = {'max_leaf_nodes':[2, 4, 5, 7, 9, 10, 12, 15, 20, 40, 60]}\n",
    "tuning = GridSearchCV(estimator = RandomForestClassifier(n_estimators = 500, bootstrap = False, n_jobs = -1, random_state = 1),\n",
    "            param_grid = p_test3, scoring = 'accuracy',n_jobs = 4, iid = False, cv = 5)\n",
    "tuning.fit(X_train,y_train)\n",
    "print(\"Best Parameter: {}\".format(tuning.best_params_))\n",
    "print(\"Highest CrossVal score: {:.2f}\".format(tuning.best_score_))"
   ]
  },
  {
   "cell_type": "code",
   "execution_count": 26,
   "metadata": {},
   "outputs": [
    {
     "name": "stdout",
     "output_type": "stream",
     "text": [
      "Accuracy on training set: 0.889\n",
      "Accuracy on test set: 0.660\n"
     ]
    }
   ],
   "source": [
    "#generating the train and the test score for the best parameter value\n",
    "\n",
    "from sklearn.ensemble import RandomForestClassifier\n",
    "forest = RandomForestClassifier(n_estimators = 500, max_leaf_nodes = 40, bootstrap = True, n_jobs=-1, random_state = 1)\n",
    "forest.fit(X_train, y_train)\n",
    "\n",
    "print(\"Accuracy on training set: {:.3f}\".format(forest.score(X_train, y_train)))\n",
    "print(\"Accuracy on test set: {:.3f}\".format(forest.score(X_test, y_test)))"
   ]
  },
  {
   "cell_type": "code",
   "execution_count": 27,
   "metadata": {
    "scrolled": true
   },
   "outputs": [
    {
     "name": "stdout",
     "output_type": "stream",
     "text": [
      "              precision    recall  f1-score   support\n",
      "\n",
      "           0       0.65      0.63      0.64       139\n",
      "           1       0.66      0.69      0.68       149\n",
      "\n",
      "    accuracy                           0.66       288\n",
      "   macro avg       0.66      0.66      0.66       288\n",
      "weighted avg       0.66      0.66      0.66       288\n",
      "\n"
     ]
    }
   ],
   "source": [
    "#calling out the score function\n",
    "\n",
    "score_func(y_test, forest.predict(X_test))"
   ]
  },
  {
   "cell_type": "markdown",
   "metadata": {},
   "source": [
    "### 2 c) Pasting - Model 1 (Decision Tree)"
   ]
  },
  {
   "cell_type": "code",
   "execution_count": 28,
   "metadata": {},
   "outputs": [
    {
     "name": "stdout",
     "output_type": "stream",
     "text": [
      "Best Parameter: {'n_estimators': 1000}\n",
      "Highest CrossVal score: 0.69\n"
     ]
    }
   ],
   "source": [
    "#calculating the best estimator\n",
    "\n",
    "from sklearn.ensemble import BaggingClassifier\n",
    "from sklearn.tree import DecisionTreeClassifier\n",
    "from sklearn.model_selection import GridSearchCV\n",
    "\n",
    "p_test3 = {'n_estimators':[200,500,700,900,1000]}\n",
    "dt_clf = DecisionTreeClassifier(random_state=1,max_depth = 15)\n",
    "bag_clf = BaggingClassifier(dt_clf, max_samples=100, bootstrap=False, n_jobs=-1, random_state=1)\n",
    "\n",
    "tuning = GridSearchCV(estimator =bag_clf,param_grid = p_test3, scoring='accuracy',n_jobs=4,iid=False, cv=5)\n",
    "tuning.fit(X_train,y_train)\n",
    "print(\"Best Parameter: {}\".format(tuning.best_params_))\n",
    "print(\"Highest CrossVal score: {:.2f}\".format(tuning.best_score_))"
   ]
  },
  {
   "cell_type": "code",
   "execution_count": 29,
   "metadata": {},
   "outputs": [
    {
     "name": "stdout",
     "output_type": "stream",
     "text": [
      "Train score: 0.80\n",
      "Test score: 0.66\n"
     ]
    }
   ],
   "source": [
    "#generating the train and the test score for the best parameter value\n",
    "\n",
    "from sklearn.ensemble import BaggingClassifier\n",
    "from sklearn.tree import DecisionTreeClassifier\n",
    "\n",
    "dt_clf = DecisionTreeClassifier(random_state=1,max_depth = 15)\n",
    "bag_clf = BaggingClassifier(dt_clf, n_estimators=500, max_samples=100, bootstrap=False, n_jobs=-1, random_state=1)\n",
    "bag_clf.fit(X_train, y_train)\n",
    "y_pred = bag_clf.predict(X_test)\n",
    "print('Train score: {:.2f}'.format(bag_clf.score(X_train, y_train)))\n",
    "print('Test score: {:.2f}'.format(bag_clf.score(X_test, y_test)))"
   ]
  },
  {
   "cell_type": "code",
   "execution_count": 30,
   "metadata": {
    "scrolled": false
   },
   "outputs": [
    {
     "name": "stdout",
     "output_type": "stream",
     "text": [
      "              precision    recall  f1-score   support\n",
      "\n",
      "           0       0.64      0.65      0.65       139\n",
      "           1       0.67      0.66      0.67       149\n",
      "\n",
      "    accuracy                           0.66       288\n",
      "   macro avg       0.66      0.66      0.66       288\n",
      "weighted avg       0.66      0.66      0.66       288\n",
      "\n"
     ]
    }
   ],
   "source": [
    "#calling out the score function\n",
    "\n",
    "score_func(y_test, y_pred)"
   ]
  },
  {
   "cell_type": "markdown",
   "metadata": {},
   "source": [
    "### 2 d) Pasting - Model 2 (Random Forest)"
   ]
  },
  {
   "cell_type": "code",
   "execution_count": 31,
   "metadata": {},
   "outputs": [
    {
     "name": "stdout",
     "output_type": "stream",
     "text": [
      "Best Parameter: {'n_estimators': 500}\n",
      "Highest CrossVal score: 0.68\n"
     ]
    }
   ],
   "source": [
    "#using GridSearchCv to generate the best parameter value for \n",
    "#no of estimators hyper parameter\n",
    "\n",
    "from sklearn.model_selection import GridSearchCV\n",
    "from sklearn.ensemble import RandomForestClassifier\n",
    "\n",
    "p_test3 = {'n_estimators':[200, 500, 700, 900, 1000]}\n",
    "tuning = GridSearchCV(estimator =RandomForestClassifier(max_leaf_nodes=15, bootstrap=False, n_jobs=-1, random_state=1),\n",
    "            param_grid = p_test3, scoring='accuracy',n_jobs=4,iid=False, cv=5)\n",
    "tuning.fit(X_train,y_train)\n",
    "print(\"Best Parameter: {}\".format(tuning.best_params_))\n",
    "print(\"Highest CrossVal score: {:.2f}\".format(tuning.best_score_))"
   ]
  },
  {
   "cell_type": "code",
   "execution_count": 32,
   "metadata": {},
   "outputs": [
    {
     "name": "stdout",
     "output_type": "stream",
     "text": [
      "Best Parameter: {'max_leaf_nodes': 20}\n",
      "Highest CrossVal score: 0.68\n"
     ]
    }
   ],
   "source": [
    "#using the best value for number of estimators hyper parameter to derive the best value\n",
    "#for max leaf nodes hyper parameter\n",
    "\n",
    "from sklearn.model_selection import GridSearchCV\n",
    "from sklearn.ensemble import RandomForestClassifier\n",
    "\n",
    "p_test3 = {'max_leaf_nodes':[2,4,5,7,9,10,12,15,20,40,60]}\n",
    "tuning = GridSearchCV(estimator =RandomForestClassifier(n_estimators = 500, bootstrap = False, n_jobs=-1, random_state = 1),\n",
    "            param_grid = p_test3, scoring='accuracy',n_jobs=4,iid=False, cv=5)\n",
    "tuning.fit(X_train,y_train)\n",
    "print(\"Best Parameter: {}\".format(tuning.best_params_))\n",
    "print(\"Highest CrossVal score: {:.2f}\".format(tuning.best_score_))"
   ]
  },
  {
   "cell_type": "code",
   "execution_count": 33,
   "metadata": {},
   "outputs": [
    {
     "name": "stdout",
     "output_type": "stream",
     "text": [
      "Accuracy on training set: 0.888\n",
      "Accuracy on test set: 0.660\n"
     ]
    }
   ],
   "source": [
    "#generating the train and the test score for the best parameter value\n",
    "\n",
    "from sklearn.ensemble import RandomForestClassifier\n",
    "forest = RandomForestClassifier(n_estimators=500,max_leaf_nodes=40, bootstrap=False, n_jobs=-1, random_state=1)\n",
    "forest.fit(X_train, y_train)\n",
    "\n",
    "print(\"Accuracy on training set: {:.3f}\".format(forest.score(X_train, y_train)))\n",
    "print(\"Accuracy on test set: {:.3f}\".format(forest.score(X_test, y_test)))"
   ]
  },
  {
   "cell_type": "code",
   "execution_count": 34,
   "metadata": {
    "scrolled": false
   },
   "outputs": [
    {
     "name": "stdout",
     "output_type": "stream",
     "text": [
      "              precision    recall  f1-score   support\n",
      "\n",
      "           0       0.66      0.61      0.63       139\n",
      "           1       0.66      0.70      0.68       149\n",
      "\n",
      "    accuracy                           0.66       288\n",
      "   macro avg       0.66      0.66      0.66       288\n",
      "weighted avg       0.66      0.66      0.66       288\n",
      "\n"
     ]
    }
   ],
   "source": [
    "#calling out the score function\n",
    "\n",
    "score_func(y_test, forest.predict(X_test))"
   ]
  },
  {
   "cell_type": "code",
   "execution_count": 35,
   "metadata": {
    "scrolled": true
   },
   "outputs": [
    {
     "data": {
      "text/plain": [
       "<matplotlib.axes._subplots.AxesSubplot at 0x1bf156c77c8>"
      ]
     },
     "execution_count": 35,
     "metadata": {},
     "output_type": "execute_result"
    },
    {
     "data": {
      "image/png": "[encoded data removed]",
      "text/plain": [
       "<Figure size 432x288 with 1 Axes>"
      ]
     },
     "metadata": {},
     "output_type": "display_data"
    }
   ],
   "source": [
    "#generating the visualization for pasting - model 2\n",
    "\n",
    "X_b = X_train[100:150,[2,5]]\n",
    "y_b = y_train[100:150]\n",
    "forest = RandomForestClassifier(n_estimators=500, bootstrap=True, n_jobs=-1, random_state=1)\n",
    "forest.fit(X_b, y_b) \n",
    "plot_decision_regions(X_b, y_b.values, clf=forest)"
   ]
  },
  {
   "cell_type": "markdown",
   "metadata": {},
   "source": [
    "## 3. Applying two models with AdaBoosting"
   ]
  },
  {
   "cell_type": "markdown",
   "metadata": {},
   "source": [
    "### 3 a) AdaBoosting - Model 1 (Decision Tree)"
   ]
  },
  {
   "cell_type": "code",
   "execution_count": 36,
   "metadata": {},
   "outputs": [
    {
     "name": "stdout",
     "output_type": "stream",
     "text": [
      "Best Parameter: {'n_estimators': 500}\n",
      "Highest CrossVal score: 0.70\n"
     ]
    }
   ],
   "source": [
    "#using grid search cv to generate the best parameter value for \n",
    "#no of estimators hyper parameter\n",
    "\n",
    "from sklearn.model_selection import GridSearchCV\n",
    "from sklearn.ensemble import AdaBoostClassifier\n",
    "from sklearn.tree import DecisionTreeClassifier\n",
    "\n",
    "p_test3 = {'n_estimators':[200, 500]}\n",
    "dt_clf = DecisionTreeClassifier(random_state = 1, max_depth = 1)\n",
    "tuning = GridSearchCV(estimator = AdaBoostClassifier( dt_clf,algorithm=\"SAMME.R\", random_state=1),\n",
    "            param_grid = p_test3, scoring = 'accuracy',n_jobs = 4, iid = False, cv = 5)\n",
    "tuning.fit(X_train,y_train)\n",
    "\n",
    "print(\"Best Parameter: {}\".format(tuning.best_params_))\n",
    "print(\"Highest CrossVal score: {:.2f}\".format(tuning.best_score_))"
   ]
  },
  {
   "cell_type": "code",
   "execution_count": 37,
   "metadata": {},
   "outputs": [
    {
     "name": "stdout",
     "output_type": "stream",
     "text": [
      "Best Parameter: {'learning_rate': 1.0}\n",
      "Highest CrossVal score: 0.67\n"
     ]
    }
   ],
   "source": [
    "#using grid search cv to generate the best parameter value for \n",
    "#learning rate hyper parameter\n",
    "\n",
    "p_test3 = {'learning_rate':[1.0, 0.1, 0.01]}\n",
    "\n",
    "dt_clf = DecisionTreeClassifier(random_state = 1, max_depth = 1)\n",
    "tuning = GridSearchCV(estimator = AdaBoostClassifier(dt_clf, algorithm = \"SAMME.R\", random_state = 1),\n",
    "            param_grid = p_test3, scoring = 'accuracy',n_jobs = 4,iid = False, cv = 5)\n",
    "tuning.fit(X_train,y_train)\n",
    "print(\"Best Parameter: {}\".format(tuning.best_params_))\n",
    "print(\"Highest CrossVal score: {:.2f}\".format(tuning.best_score_))"
   ]
  },
  {
   "cell_type": "code",
   "execution_count": 38,
   "metadata": {},
   "outputs": [
    {
     "name": "stdout",
     "output_type": "stream",
     "text": [
      "Train score: 0.90\n",
      "Test score: 0.69\n"
     ]
    }
   ],
   "source": [
    "#generating the train and the test score for the best parameter values\n",
    "\n",
    "from sklearn.ensemble import AdaBoostClassifier\n",
    "from sklearn.tree import DecisionTreeClassifier\n",
    "dt_clf = DecisionTreeClassifier(random_state=1,max_depth = 1)\n",
    "ada_clf = AdaBoostClassifier(dt_clf, n_estimators = 200, algorithm = \"SAMME.R\", learning_rate = 1.0, random_state = 1)\n",
    "ada_clf.fit(X_train, y_train)\n",
    "y_pred = ada_clf.predict(X_test)\n",
    "print('Train score: {:.2f}'.format(ada_clf.score(X_train, y_train)))\n",
    "print('Test score: {:.2f}'.format(ada_clf.score(X_test, y_test)))"
   ]
  },
  {
   "cell_type": "code",
   "execution_count": 39,
   "metadata": {},
   "outputs": [
    {
     "name": "stdout",
     "output_type": "stream",
     "text": [
      "              precision    recall  f1-score   support\n",
      "\n",
      "           0       0.70      0.64      0.67       139\n",
      "           1       0.69      0.74      0.71       149\n",
      "\n",
      "    accuracy                           0.69       288\n",
      "   macro avg       0.69      0.69      0.69       288\n",
      "weighted avg       0.69      0.69      0.69       288\n",
      "\n"
     ]
    }
   ],
   "source": [
    "#calling out the score function\n",
    "\n",
    "score_func(y_test, y_pred)"
   ]
  },
  {
   "cell_type": "markdown",
   "metadata": {},
   "source": [
    "### 3 b) AdaBoosting - Model 2 (SVC with rbf)"
   ]
  },
  {
   "cell_type": "code",
   "execution_count": 40,
   "metadata": {},
   "outputs": [
    {
     "name": "stdout",
     "output_type": "stream",
     "text": [
      "Best Parameter: {'n_estimators': 100}\n",
      "Highest CrossVal score: 0.54\n"
     ]
    }
   ],
   "source": [
    "#using GridSearchCv to generate the best parameter value for \n",
    "#no of estimators hyper parameter\n",
    "\n",
    "from sklearn.svm import SVC\n",
    "\n",
    "p_test3 = {'n_estimators':[100,200,500]}\n",
    "tuning = GridSearchCV(estimator = AdaBoostClassifier( SVC (C = 0.001, kernel = 'rbf', gamma = 0.001,probability=True),algorithm=\"SAMME.R\", random_state=1),\n",
    "            param_grid = p_test3, scoring='accuracy',n_jobs=4,iid=False, cv=5)\n",
    "tuning.fit(X_train,y_train)\n",
    "print(\"Best Parameter: {}\".format(tuning.best_params_))\n",
    "print(\"Highest CrossVal score: {:.2f}\".format(tuning.best_score_))"
   ]
  },
  {
   "cell_type": "code",
   "execution_count": 41,
   "metadata": {
    "scrolled": true
   },
   "outputs": [
    {
     "name": "stdout",
     "output_type": "stream",
     "text": [
      "Best Parameter: {'learning_rate': 0.01}\n",
      "Highest CrossVal score: 0.61\n"
     ]
    }
   ],
   "source": [
    "#using GridSearchCv to generate the best parameter value for \n",
    "#learning rate hyper parameter\n",
    "\n",
    "from sklearn.model_selection import GridSearchCV\n",
    "from sklearn.model_selection import GridSearchCV\n",
    "from sklearn.svm import SVC\n",
    "\n",
    "p_test3 = {'learning_rate':[1.0, 0.1, 0.01]}\n",
    "tuning = GridSearchCV(estimator =AdaBoostClassifier( SVC (C = 0.001, kernel = 'rbf', gamma = 0.001, probability=True), algorithm=\"SAMME.R\", random_state=1),\n",
    "            param_grid = p_test3, scoring='accuracy',n_jobs=4,iid=False, cv=5)\n",
    "tuning.fit(X_train,y_train)\n",
    "print(\"Best Parameter: {}\".format(tuning.best_params_))\n",
    "print(\"Highest CrossVal score: {:.2f}\".format(tuning.best_score_))"
   ]
  },
  {
   "cell_type": "code",
   "execution_count": 42,
   "metadata": {},
   "outputs": [
    {
     "name": "stdout",
     "output_type": "stream",
     "text": [
      "Train score: 0.54\n",
      "Test score: 0.52\n"
     ]
    }
   ],
   "source": [
    "#generating the train and the test score for the best parameter values\n",
    "\n",
    "from sklearn.svm import SVC\n",
    "ada_clf = AdaBoostClassifier( SVC (C = 0.001, kernel = 'rbf', gamma = 0.001,probability=True),n_estimators=100, algorithm=\"SAMME.R\", learning_rate=0.1, random_state=1)\n",
    "ada_clf.fit(X_train, y_train)\n",
    "y_pred = ada_clf.predict(X_test)\n",
    "print('Train score: {:.2f}'.format(ada_clf.score(X_train, y_train)))\n",
    "print('Test score: {:.2f}'.format(ada_clf.score(X_test, y_test)))"
   ]
  },
  {
   "cell_type": "code",
   "execution_count": 43,
   "metadata": {},
   "outputs": [
    {
     "name": "stdout",
     "output_type": "stream",
     "text": [
      "              precision    recall  f1-score   support\n",
      "\n",
      "           0       0.00      0.00      0.00       139\n",
      "           1       0.52      1.00      0.68       149\n",
      "\n",
      "    accuracy                           0.52       288\n",
      "   macro avg       0.26      0.50      0.34       288\n",
      "weighted avg       0.27      0.52      0.35       288\n",
      "\n"
     ]
    }
   ],
   "source": [
    "#calling out the score function\n",
    "\n",
    "score_func(y_test, y_pred)"
   ]
  },
  {
   "cell_type": "markdown",
   "metadata": {},
   "source": [
    "## 4. Applying one model with Gradient Boosting "
   ]
  },
  {
   "cell_type": "code",
   "execution_count": 44,
   "metadata": {},
   "outputs": [
    {
     "name": "stdout",
     "output_type": "stream",
     "text": [
      "Best Parameter: {'learning_rate': 0.1}\n",
      "Highest CrossVal score: 0.70\n"
     ]
    }
   ],
   "source": [
    "#using GridSearchCV to generate the best parameter value for \n",
    "#learning rate hyper parameter\n",
    "\n",
    "from sklearn.model_selection import GridSearchCV\n",
    "from  sklearn.ensemble import GradientBoostingClassifier\n",
    "p_test3 = {'learning_rate':[1.0,0.1,0.01,0.001]}\n",
    "tuning = GridSearchCV(estimator =GradientBoostingClassifier(max_features='sqrt', random_state=1),\n",
    "            param_grid = p_test3, scoring='accuracy',n_jobs=4,iid=False, cv=5)\n",
    "tuning.fit(X_train,y_train)\n",
    "print(\"Best Parameter: {}\".format(tuning.best_params_))\n",
    "print(\"Highest CrossVal score: {:.2f}\".format(tuning.best_score_))"
   ]
  },
  {
   "cell_type": "code",
   "execution_count": 45,
   "metadata": {},
   "outputs": [
    {
     "name": "stdout",
     "output_type": "stream",
     "text": [
      "Best Parameter: {'n_estimators': 1000}\n",
      "Highest CrossVal score: 0.70\n"
     ]
    }
   ],
   "source": [
    "#using GridSearchCV to generate the best parameter value for \n",
    "#no of estimators hyper parameter\n",
    "\n",
    "from sklearn.model_selection import GridSearchCV\n",
    "p_test3 = {'n_estimators':[100, 500, 1000, 1250, 1500, 1750]}\n",
    "tuning = GridSearchCV(estimator =GradientBoostingClassifier(max_features = 'sqrt', random_state = 1),\n",
    "            param_grid = p_test3, scoring = 'accuracy',n_jobs = 4, iid = False, cv = 5)\n",
    "tuning.fit(X_train,y_train)\n",
    "print(\"Best Parameter: {}\".format(tuning.best_params_))\n",
    "print(\"Highest CrossVal score: {:.2f}\".format(tuning.best_score_))"
   ]
  },
  {
   "cell_type": "code",
   "execution_count": 46,
   "metadata": {},
   "outputs": [
    {
     "name": "stdout",
     "output_type": "stream",
     "text": [
      "Best Parameter: {'max_depth': 10}\n",
      "Highest CrossVal score: 0.70\n"
     ]
    }
   ],
   "source": [
    "#using GridSearchCV to generate the best parameter value for \n",
    "#max depth hyper parameter\n",
    "\n",
    "from sklearn.model_selection import GridSearchCV\n",
    "p_test3 = {'max_depth':[3, 5, 7, 8, 9, 10, 12, 13, 15]}\n",
    "tuning = GridSearchCV(estimator = GradientBoostingClassifier(max_features = 'sqrt', random_state = 1),\n",
    "            param_grid = p_test3, scoring = 'accuracy', n_jobs = 4,iid = False, cv = 5)\n",
    "tuning.fit(X_train,y_train)\n",
    "print(\"Best Parameter: {}\".format(tuning.best_params_))\n",
    "print(\"Highest CrossVal score: {:.2f}\".format(tuning.best_score_))"
   ]
  },
  {
   "cell_type": "code",
   "execution_count": 47,
   "metadata": {},
   "outputs": [
    {
     "name": "stdout",
     "output_type": "stream",
     "text": [
      "Train score: 1.00\n",
      "Test score: 0.59\n"
     ]
    }
   ],
   "source": [
    "#generating the train and the test score for the best parameter values\n",
    "\n",
    "from  sklearn.ensemble import GradientBoostingClassifier\n",
    "gbrt = GradientBoostingClassifier(max_depth = 15, n_estimators = 1250, learning_rate = 0.01, random_state=1)\n",
    "gbrt.fit(X_train, y_train)\n",
    "y_pred = gbrt.predict(X_test)\n",
    "print('Train score: {:.2f}'.format(gbrt.score(X_train, y_train)))\n",
    "print('Test score: {:.2f}'.format(gbrt.score(X_test, y_test)))"
   ]
  },
  {
   "cell_type": "code",
   "execution_count": 48,
   "metadata": {},
   "outputs": [
    {
     "name": "stdout",
     "output_type": "stream",
     "text": [
      "              precision    recall  f1-score   support\n",
      "\n",
      "           0       0.58      0.56      0.57       139\n",
      "           1       0.60      0.62      0.61       149\n",
      "\n",
      "    accuracy                           0.59       288\n",
      "   macro avg       0.59      0.59      0.59       288\n",
      "weighted avg       0.59      0.59      0.59       288\n",
      "\n"
     ]
    }
   ],
   "source": [
    "#calling out the score function\n",
    "\n",
    "score_func(y_test, y_pred)"
   ]
  },
  {
   "cell_type": "markdown",
   "metadata": {},
   "source": [
    "## 5. Applying PCA to all the models of Project 1"
   ]
  },
  {
   "cell_type": "code",
   "execution_count": 49,
   "metadata": {},
   "outputs": [],
   "source": [
    "#defining the score function which helps display the classification report\n",
    "#and give us the accuracy results\n",
    "\n",
    "from sklearn.metrics import classification_report, confusion_matrix\n",
    "\n",
    "def score_func(y, y_pred):\n",
    "    a=[]\n",
    "    b=[]\n",
    "    a.append('confusion_matrix')\n",
    "    b.append(confusion_matrix(y, y_pred))\n",
    "    a.append('classification_report')\n",
    "    b.append(classification_report(y,y_pred))\n",
    "    print(classification_report(y,y_pred))\n",
    "    return pd.DataFrame(b, a)"
   ]
  },
  {
   "cell_type": "code",
   "execution_count": 50,
   "metadata": {},
   "outputs": [],
   "source": [
    "#defining X and y\n",
    "\n",
    "X = sample_data[['quality assessment', 'pre_screening', 'MA_0.5', 'MA_0.6', 'MA_0.7', 'MA_0.8', 'MA_0.9', 'MA_1.0', 'MA_0.5P', 'MA_0.6P', 'MA_0.7P', 'MA_0.8P', 'MA_0.9P', 'MA_1.0', 'MA_1.1', 'MA_1.2', 'euclidean distance', 'diameter of the optic', 'AM/FM']]\n",
    "y = sample_data['Class']"
   ]
  },
  {
   "cell_type": "markdown",
   "metadata": {},
   "source": [
    "### 5 a) KNN Classification with PCA"
   ]
  },
  {
   "cell_type": "code",
   "execution_count": 51,
   "metadata": {},
   "outputs": [
    {
     "name": "stdout",
     "output_type": "stream",
     "text": [
      "Best parameters: {'n_neighbors': 15}\n",
      "Highest CrossVal score: 0.63\n"
     ]
    }
   ],
   "source": [
    "#running KNN model with pca\n",
    "\n",
    "from sklearn.neighbors import KNeighborsClassifier\n",
    "from sklearn.decomposition.pca import PCA\n",
    "from sklearn.model_selection import train_test_split\n",
    "\n",
    "X_train_org, X_test_org, y_train, y_test = train_test_split(X, y, test_size = 0.25, random_state = 1)\n",
    "\n",
    "scaler = MinMaxScaler()\n",
    "X_train = scaler.fit_transform(X_train_org)\n",
    "pca_alg = PCA(0.95)\n",
    "X_train = pca_alg.fit_transform(X_train)\n",
    "\n",
    "X_test = scaler.transform(X_test_org)\n",
    "\n",
    "X_test = pca_alg.transform(X_test)\n",
    "param_grid = {'n_neighbors': [1, 2, 3, 4, 5, 6, 7, 8, 9, 10, 11, 12, 13, 14, 15, 16, 17, 18, 19]}\n",
    "grid_search = GridSearchCV (KNeighborsClassifier(), param_grid, cv = 5, return_train_score = True, scoring = 'recall')\n",
    "\n",
    "grid_search.fit(X_train, y_train)\n",
    "print(\"Best parameters: {}\".format(grid_search.best_params_))\n",
    "print(\"Highest CrossVal score: {:.2f}\".format(grid_search.best_score_))"
   ]
  },
  {
   "cell_type": "code",
   "execution_count": 52,
   "metadata": {},
   "outputs": [
    {
     "name": "stdout",
     "output_type": "stream",
     "text": [
      "Recall CrossVal score: [0.68817204 0.61290323 0.63043478 0.72826087 0.58695652]\n",
      "Avg CrossVal score: 0.65\n",
      " Recall CrossVal score: [0.66666667 0.6        0.56666667 0.56666667 0.44827586]\n",
      "Avg CrossVal score: 0.57\n"
     ]
    }
   ],
   "source": [
    "#running cross-validation\n",
    "from sklearn.model_selection import cross_val_score\n",
    "score = cross_val_score ( KNeighborsClassifier (n_neighbors = 11), X_train_org, y_train, cv = 5, scoring = 'recall')\n",
    "print( \"Recall CrossVal score: {}\".format ( score ))\n",
    "print( \"Avg CrossVal score: {:.2f}\".format ( score.mean()))\n",
    "\n",
    "score = cross_val_score ( KNeighborsClassifier(n_neighbors = 11), X_test_org, y_test, cv = 5, scoring = 'recall')\n",
    "print( \" Recall CrossVal score: {}\".format ( score))\n",
    "print( \"Avg CrossVal score: {:.2f}\".format ( score.mean()))"
   ]
  },
  {
   "cell_type": "code",
   "execution_count": 53,
   "metadata": {},
   "outputs": [
    {
     "name": "stdout",
     "output_type": "stream",
     "text": [
      "Accuracy CrossVal score: [0.69364162 0.69364162 0.66473988 0.70348837 0.65116279]\n",
      "Avg CrossVal score: 0.68\n",
      "Accuracy CrossVal score: [0.70689655 0.63793103 0.5862069  0.68421053 0.57894737]\n",
      "Avg CrossVal score: 0.64\n"
     ]
    }
   ],
   "source": [
    "score = cross_val_score ( KNeighborsClassifier ( n_neighbors = 11), X_train_org, y_train, cv = 5)\n",
    "print( \"Accuracy CrossVal score: {}\".format ( score))\n",
    "print( \"Avg CrossVal score: {:.2f}\".format ( score.mean()))\n",
    "\n",
    "score = cross_val_score ( KNeighborsClassifier ( n_neighbors = 11), X_test_org, y_test, cv = 5)\n",
    "print( \"Accuracy CrossVal score: {}\".format ( score))\n",
    "print( \"Avg CrossVal score: {:.2f}\".format ( score.mean()))"
   ]
  },
  {
   "cell_type": "code",
   "execution_count": 54,
   "metadata": {
    "scrolled": true
   },
   "outputs": [
    {
     "name": "stdout",
     "output_type": "stream",
     "text": [
      "              precision    recall  f1-score   support\n",
      "\n",
      "           0       0.64      0.66      0.65       540\n",
      "           1       0.69      0.66      0.68       611\n",
      "\n",
      "    accuracy                           0.66      1151\n",
      "   macro avg       0.66      0.66      0.66      1151\n",
      "weighted avg       0.67      0.66      0.66      1151\n",
      "\n"
     ]
    }
   ],
   "source": [
    "#displaying the score function\n",
    "\n",
    "knn = KNeighborsClassifier(n_neighbors = 11).fit(X_train,y_train)\n",
    "y_pred = knn.predict(pca_alg.transform(scaler.transform(X)))\n",
    "rt=score_func(y, y_pred)"
   ]
  },
  {
   "cell_type": "code",
   "execution_count": 55,
   "metadata": {},
   "outputs": [
    {
     "data": {
      "text/plain": [
       "<matplotlib.axes._subplots.AxesSubplot at 0x1bf15fefa48>"
      ]
     },
     "execution_count": 55,
     "metadata": {},
     "output_type": "execute_result"
    },
    {
     "data": {
      "image/png": "[encoded data removed]",
      "text/plain": [
       "<Figure size 432x288 with 1 Axes>"
      ]
     },
     "metadata": {},
     "output_type": "display_data"
    }
   ],
   "source": [
    "#KNN plot\n",
    "\n",
    "X_b = X_train[100:150,[2,5]]\n",
    "y_b = y_train[100:150]\n",
    "\n",
    "knn = KNeighborsClassifier(11)\n",
    "knn.fit(X_b, y_b) \n",
    "\n",
    "plot_decision_regions(X_b, y_b.values, clf = knn)"
   ]
  },
  {
   "cell_type": "markdown",
   "metadata": {},
   "source": [
    "### 5 b)  Logistic Regression with PCA"
   ]
  },
  {
   "cell_type": "code",
   "execution_count": 56,
   "metadata": {},
   "outputs": [
    {
     "name": "stdout",
     "output_type": "stream",
     "text": [
      "Best Parameters: {'C': 0.001, 'penalty': 'l2'}\n",
      "Highest CrossVal score: 1.00\n"
     ]
    }
   ],
   "source": [
    "#running the Logistic Regression model\n",
    "\n",
    "from sklearn.linear_model import LogisticRegression\n",
    "\n",
    "X_train_org, X_test_org, y_train, y_test = train_test_split(X, y, test_size = 0.25,  random_state = 1)\n",
    "\n",
    "scaler = MinMaxScaler()\n",
    "X_train = scaler.fit_transform(X_train_org)\n",
    "pca_alg = PCA(0.95)\n",
    "X_train = pca_alg.fit_transform(X_train)\n",
    "\n",
    "X_test = scaler.transform(X_test_org)\n",
    "\n",
    "X_test = pca_alg.transform(X_test)\n",
    "param_grid = {'C':[0.001, 0.01, 0.1, 1, 10, 100, 1000],'penalty':['l1', 'l2']}\n",
    "grid_search = GridSearchCV(LogisticRegression(), param_grid, cv = 5, return_train_score = True, scoring = 'recall')\n",
    "\n",
    "grid_search.fit(X_train, y_train)\n",
    "print(\"Best Parameters: {}\".format(grid_search.best_params_))\n",
    "print(\"Highest CrossVal score: {:.2f}\".format(grid_search.best_score_))"
   ]
  },
  {
   "cell_type": "code",
   "execution_count": 57,
   "metadata": {},
   "outputs": [
    {
     "name": "stdout",
     "output_type": "stream",
     "text": [
      "CrossVal score: [1. 1. 1. 1. 1.]\n",
      "Avg CrossVal score: 1.00\n",
      "CrossVal score: [1. 1. 1. 1. 1.]\n",
      "Avg CrossVal score: 1.00\n"
     ]
    }
   ],
   "source": [
    "#running the cross-validation\n",
    "\n",
    "score = cross_val_score(LogisticRegression(C = 0.001, penalty = 'l2'), X_train, y_train, cv = 5, scoring = 'recall')\n",
    "print(\"CrossVal score: {}\".format(score))\n",
    "print(\"Avg CrossVal score: {:.2f}\".format(score.mean()))\n",
    "\n",
    "score = cross_val_score(LogisticRegression(C = 0.001, penalty = 'l2'), X_test, y_test, cv = 5, scoring = 'recall')\n",
    "print(\"CrossVal score: {}\".format(score))\n",
    "print(\"Avg CrossVal score: {:.2f}\".format(score.mean()))"
   ]
  },
  {
   "cell_type": "code",
   "execution_count": 58,
   "metadata": {},
   "outputs": [
    {
     "name": "stdout",
     "output_type": "stream",
     "text": [
      "CrossVal score: [0.53757225 0.53757225 0.53179191 0.53488372 0.53488372]\n",
      "Avg CrossVal score: 0.54\n",
      "CrossVal score: [0.51724138 0.51724138 0.51724138 0.52631579 0.50877193]\n",
      "Avg CrossVal score: 0.52\n"
     ]
    }
   ],
   "source": [
    "score = cross_val_score(LogisticRegression(C = 0.001, penalty = 'l2'), X_train, y_train, cv = 5)\n",
    "print(\"CrossVal score: {}\".format(score))\n",
    "print(\"Avg CrossVal score: {:.2f}\".format(score.mean()))\n",
    "\n",
    "score = cross_val_score(LogisticRegression(C = 0.001, penalty = 'l2'), X_test, y_test, cv = 5)\n",
    "print(\"CrossVal score: {}\".format(score))\n",
    "print(\"Avg CrossVal score: {:.2f}\".format(score.mean()))"
   ]
  },
  {
   "cell_type": "code",
   "execution_count": 59,
   "metadata": {},
   "outputs": [
    {
     "name": "stdout",
     "output_type": "stream",
     "text": [
      "              precision    recall  f1-score   support\n",
      "\n",
      "           0       0.00      0.00      0.00       540\n",
      "           1       0.53      1.00      0.69       611\n",
      "\n",
      "    accuracy                           0.53      1151\n",
      "   macro avg       0.27      0.50      0.35      1151\n",
      "weighted avg       0.28      0.53      0.37      1151\n",
      "\n"
     ]
    },
    {
     "data": {
      "text/html": [
       "<div>\n",
       "<style scoped>\n",
       "    .dataframe tbody tr th:only-of-type {\n",
       "        vertical-align: middle;\n",
       "    }\n",
       "\n",
       "    .dataframe tbody tr th {\n",
       "        vertical-align: top;\n",
       "    }\n",
       "\n",
       "    .dataframe thead th {\n",
       "        text-align: right;\n",
       "    }\n",
       "</style>\n",
       "<table border=\"1\" class=\"dataframe\">\n",
       "  <thead>\n",
       "    <tr style=\"text-align: right;\">\n",
       "      <th></th>\n",
       "      <th>0</th>\n",
       "    </tr>\n",
       "  </thead>\n",
       "  <tbody>\n",
       "    <tr>\n",
       "      <th>confusion_matrix</th>\n",
       "      <td>[[0, 540], [0, 611]]</td>\n",
       "    </tr>\n",
       "    <tr>\n",
       "      <th>classification_report</th>\n",
       "      <td>precision    recall  f1-score   ...</td>\n",
       "    </tr>\n",
       "  </tbody>\n",
       "</table>\n",
       "</div>"
      ],
      "text/plain": [
       "                                                                       0\n",
       "confusion_matrix                                    [[0, 540], [0, 611]]\n",
       "classification_report                precision    recall  f1-score   ..."
      ]
     },
     "execution_count": 59,
     "metadata": {},
     "output_type": "execute_result"
    }
   ],
   "source": [
    "#displaying the score function\n",
    "\n",
    "lr = LogisticRegression( C = 0.001, penalty = 'l2').fit(X_train, y_train)\n",
    "y_pred = lr.predict(pca_alg.transform(scaler.transform(X)))\n",
    "score_func(y, y_pred)"
   ]
  },
  {
   "cell_type": "markdown",
   "metadata": {},
   "source": [
    "### 5 c)  Linear SVM with PCA"
   ]
  },
  {
   "cell_type": "code",
   "execution_count": 60,
   "metadata": {},
   "outputs": [
    {
     "name": "stdout",
     "output_type": "stream",
     "text": [
      "Best parameters: {'C': 10}\n",
      "Highest CrossVal score: 0.65\n"
     ]
    }
   ],
   "source": [
    "#running the Linear SVM model\n",
    "\n",
    "from sklearn.svm import LinearSVC\n",
    "\n",
    "X_train_org, X_test_org, y_train, y_test = train_test_split(X, y, test_size = 0.25, random_state = 1)\n",
    "\n",
    "scaler = StandardScaler()\n",
    "X_train = scaler.fit_transform(X_train_org)\n",
    "pca_alg=PCA(0.95)\n",
    "X_train=pca_alg.fit_transform(X_train)\n",
    "\n",
    "X_test = scaler.transform(X_test_org)\n",
    "\n",
    "X_test=pca_alg.transform(X_test)\n",
    "param_grid = {'C': [0.001, 0.01, 0.1, 1, 10, 100, 1000]}\n",
    "grid_search = GridSearchCV(LinearSVC(), param_grid, cv = 2, return_train_score = True, scoring = 'recall')\n",
    "\n",
    "grid_search.fit(X_train, y_train)\n",
    "print(\"Best parameters: {}\".format(grid_search.best_params_))\n",
    "print(\"Highest CrossVal score: {:.2f}\".format(grid_search.best_score_))"
   ]
  },
  {
   "cell_type": "code",
   "execution_count": 61,
   "metadata": {},
   "outputs": [
    {
     "name": "stdout",
     "output_type": "stream",
     "text": [
      "0.6998841251448435\n",
      "0.6840277777777778\n"
     ]
    }
   ],
   "source": [
    "#printing the score\n",
    "\n",
    "lin_svm = LinearSVC( C = 10 )\n",
    "\n",
    "lin_svm.fit( X_train, y_train )\n",
    "print( lin_svm.score ( X_train, y_train ))\n",
    "print( lin_svm.score ( X_test, y_test ))"
   ]
  },
  {
   "cell_type": "code",
   "execution_count": 62,
   "metadata": {},
   "outputs": [
    {
     "name": "stdout",
     "output_type": "stream",
     "text": [
      "Recall CrossVal score: [0.63829787 0.68085106 0.63043478 0.43478261 0.65217391 0.65217391\n",
      " 0.65217391 0.76086957 0.56521739 0.65217391]\n",
      "Avg CrossVal score: 0.63\n",
      "Recall CrossVal score: [0.66666667 0.6        0.6        0.33333333 0.4        0.6\n",
      " 0.33333333 0.8        0.4        0.57142857]\n",
      "Avg CrossVal score: 0.53\n"
     ]
    }
   ],
   "source": [
    "#running the cross-validation\n",
    "\n",
    "score = cross_val_score(LinearSVC(C = 10), X_train, y_train,cv = 10, scoring = 'recall')\n",
    "print(\"Recall CrossVal score: {}\".format(score))\n",
    "print(\"Avg CrossVal score: {:.2f}\".format(score.mean()))\n",
    "\n",
    "score = cross_val_score(LinearSVC(C = 10), X_test, y_test, cv = 10, scoring = 'recall')\n",
    "print(\"Recall CrossVal score: {}\".format(score))\n",
    "print(\"Avg CrossVal score: {:.2f}\".format(score.mean()))"
   ]
  },
  {
   "cell_type": "code",
   "execution_count": 63,
   "metadata": {},
   "outputs": [
    {
     "name": "stdout",
     "output_type": "stream",
     "text": [
      "CrossVal score: [0.68965517 0.67816092 0.66666667 0.6744186  0.70930233 0.6744186\n",
      " 0.68604651 0.74418605 0.6744186  0.69767442]\n",
      "Avg CrossVal score: 0.69\n",
      "CrossVal score: [0.72413793 0.65517241 0.65517241 0.4137931  0.65517241 0.68965517\n",
      " 0.51724138 0.82758621 0.67857143 0.57142857]\n",
      "Avg CrossVal score: 0.64\n"
     ]
    }
   ],
   "source": [
    "score = cross_val_score(LinearSVC(C = 10), X_train, y_train, cv = 10)\n",
    "print(\"CrossVal score: {}\".format(score))\n",
    "print(\"Avg CrossVal score: {:.2f}\".format(score.mean()))\n",
    "\n",
    "score = cross_val_score(LinearSVC(C = 10), X_test, y_test, cv = 10)\n",
    "print(\"CrossVal score: {}\".format(score))\n",
    "print(\"Avg CrossVal score: {:.2f}\".format(score.mean()))"
   ]
  },
  {
   "cell_type": "code",
   "execution_count": 64,
   "metadata": {},
   "outputs": [
    {
     "name": "stdout",
     "output_type": "stream",
     "text": [
      "              precision    recall  f1-score   support\n",
      "\n",
      "           0       0.65      0.72      0.68       540\n",
      "           1       0.73      0.66      0.69       611\n",
      "\n",
      "    accuracy                           0.69      1151\n",
      "   macro avg       0.69      0.69      0.69      1151\n",
      "weighted avg       0.69      0.69      0.69      1151\n",
      "\n"
     ]
    },
    {
     "data": {
      "text/html": [
       "<div>\n",
       "<style scoped>\n",
       "    .dataframe tbody tr th:only-of-type {\n",
       "        vertical-align: middle;\n",
       "    }\n",
       "\n",
       "    .dataframe tbody tr th {\n",
       "        vertical-align: top;\n",
       "    }\n",
       "\n",
       "    .dataframe thead th {\n",
       "        text-align: right;\n",
       "    }\n",
       "</style>\n",
       "<table border=\"1\" class=\"dataframe\">\n",
       "  <thead>\n",
       "    <tr style=\"text-align: right;\">\n",
       "      <th></th>\n",
       "      <th>0</th>\n",
       "    </tr>\n",
       "  </thead>\n",
       "  <tbody>\n",
       "    <tr>\n",
       "      <th>confusion_matrix</th>\n",
       "      <td>[[389, 151], [209, 402]]</td>\n",
       "    </tr>\n",
       "    <tr>\n",
       "      <th>classification_report</th>\n",
       "      <td>precision    recall  f1-score   ...</td>\n",
       "    </tr>\n",
       "  </tbody>\n",
       "</table>\n",
       "</div>"
      ],
      "text/plain": [
       "                                                                       0\n",
       "confusion_matrix                                [[389, 151], [209, 402]]\n",
       "classification_report                precision    recall  f1-score   ..."
      ]
     },
     "execution_count": 64,
     "metadata": {},
     "output_type": "execute_result"
    }
   ],
   "source": [
    "#displaying the score function\n",
    "\n",
    "lin_svm = LinearSVC( C = 10 )\n",
    "\n",
    "lin_svm.fit( X_train,y_train )\n",
    "y_pred = lin_svm.predict( pca_alg.transform(scaler.transform(X)))\n",
    "score_func(y, y_pred)"
   ]
  },
  {
   "cell_type": "markdown",
   "metadata": {},
   "source": [
    "### 5 d)  Decision Tree with PCA"
   ]
  },
  {
   "cell_type": "code",
   "execution_count": 65,
   "metadata": {},
   "outputs": [
    {
     "name": "stdout",
     "output_type": "stream",
     "text": [
      "Best parameter: {'max_depth': 18}\n",
      "Highest CrossVal score: 0.57\n"
     ]
    }
   ],
   "source": [
    "#running the Decision Tree model\n",
    "\n",
    "from sklearn.tree import DecisionTreeClassifier\n",
    "\n",
    "X = sample_data[['quality assessment', 'pre_screening', 'MA_0.5', 'MA_0.6', 'MA_0.7', 'MA_0.8', 'MA_0.9', 'MA_1.0', 'MA_0.5P', 'MA_0.6P', 'MA_0.7P', 'MA_0.8P', 'MA_0.9P', 'MA_1.0', 'MA_1.1', 'MA_1.2', 'euclidean distance', 'diameter of the optic', 'AM/FM']]\n",
    "y = sample_data['Class']\n",
    "\n",
    "X_train_org, X_test_org, y_train, y_test = train_test_split(X, y, random_state = 1, test_size = 0.25)\n",
    "\n",
    "scaler = MinMaxScaler()\n",
    "X_train = scaler.fit_transform(X_train_org)\n",
    "pca_alg = PCA(0.95)\n",
    "X_train = pca_alg.fit_transform(X_train)\n",
    "\n",
    "X_test = scaler.transform(X_test_org)\n",
    "\n",
    "X_test=pca_alg.transform(X_test)\n",
    "param_grid = {'max_depth': [4,  5,  6,  7,  8,  9, 10, 11, 12, 13, 14, 15, 16, 17, 18]}\n",
    "grid_search = GridSearchCV( DecisionTreeClassifier(), param_grid, cv = 5, return_train_score = True, scoring='recall')\n",
    "grid_search.fit(X_train, y_train)\n",
    "print(\"Best parameter: {}\".format(grid_search.best_params_))\n",
    "print(\"Highest CrossVal score: {:.2f}\".format(grid_search.best_score_))"
   ]
  },
  {
   "cell_type": "code",
   "execution_count": 66,
   "metadata": {},
   "outputs": [
    {
     "name": "stdout",
     "output_type": "stream",
     "text": [
      "Accuracy on training set: 0.995\n",
      "Accuracy on test set: 0.583\n"
     ]
    }
   ],
   "source": [
    "#fixing the max_depth at 15 as the above formula gives best parameters in the range of 15-18.\n",
    "#the cross-validation score is in the range of 0.64-0.68.\n",
    "\n",
    "dtree = DecisionTreeClassifier(max_depth = 18, random_state = 1)\n",
    "dtree.fit(X_train, y_train)\n",
    "\n",
    "print(\"Accuracy on training set: {:.3f}\".format(dtree.score(X_train, y_train)))\n",
    "print(\"Accuracy on test set: {:.3f}\".format(dtree.score(X_test, y_test)))"
   ]
  },
  {
   "cell_type": "code",
   "execution_count": 67,
   "metadata": {},
   "outputs": [
    {
     "name": "stdout",
     "output_type": "stream",
     "text": [
      "Recall CrossVal score: [0.60215054 0.5483871  0.56521739 0.55434783 0.55434783]\n",
      "Avg CrossVal score: 0.56\n",
      " Recall CrossVal score: [0.7        0.6        0.8        0.4        0.62068966]\n",
      "Avg CrossVal score: 0.62\n"
     ]
    }
   ],
   "source": [
    "#running cross-validation\n",
    "\n",
    "score = cross_val_score(dtree, X_train, y_train, cv = 5, scoring = 'recall')\n",
    "print(\"Recall CrossVal score: {}\".format(score))\n",
    "print(\"Avg CrossVal score: {:.2f}\".format(score.mean()))\n",
    "\n",
    "score = cross_val_score(dtree, X_test, y_test, cv = 5, scoring = 'recall')\n",
    "print(\" Recall CrossVal score: {}\".format(score))\n",
    "print(\"Avg CrossVal score: {:.2f}\".format(score.mean()))"
   ]
  },
  {
   "cell_type": "code",
   "execution_count": 68,
   "metadata": {},
   "outputs": [
    {
     "name": "stdout",
     "output_type": "stream",
     "text": [
      "Accuracy CrossVal score: [0.61271676 0.53757225 0.53757225 0.51744186 0.55232558]\n",
      "Avg CrossVal score: 0.55\n",
      "Accuracy CrossVal score: [0.5862069  0.55172414 0.65517241 0.50877193 0.59649123]\n",
      "Avg CrossVal score: 0.58\n"
     ]
    }
   ],
   "source": [
    "score = cross_val_score(dtree, X_train, y_train, cv = 5)\n",
    "print(\"Accuracy CrossVal score: {}\".format(score))\n",
    "print(\"Avg CrossVal score: {:.2f}\".format(score.mean()))\n",
    "\n",
    "score = cross_val_score(dtree, X_test, y_test, cv = 5)\n",
    "print(\"Accuracy CrossVal score: {}\".format(score))\n",
    "print(\"Avg CrossVal score: {:.2f}\".format(score.mean()))"
   ]
  },
  {
   "cell_type": "code",
   "execution_count": 69,
   "metadata": {
    "scrolled": true
   },
   "outputs": [
    {
     "name": "stdout",
     "output_type": "stream",
     "text": [
      "              precision    recall  f1-score   support\n",
      "\n",
      "           0       0.89      0.88      0.88       540\n",
      "           1       0.89      0.90      0.90       611\n",
      "\n",
      "    accuracy                           0.89      1151\n",
      "   macro avg       0.89      0.89      0.89      1151\n",
      "weighted avg       0.89      0.89      0.89      1151\n",
      "\n"
     ]
    },
    {
     "data": {
      "text/html": [
       "<div>\n",
       "<style scoped>\n",
       "    .dataframe tbody tr th:only-of-type {\n",
       "        vertical-align: middle;\n",
       "    }\n",
       "\n",
       "    .dataframe tbody tr th {\n",
       "        vertical-align: top;\n",
       "    }\n",
       "\n",
       "    .dataframe thead th {\n",
       "        text-align: right;\n",
       "    }\n",
       "</style>\n",
       "<table border=\"1\" class=\"dataframe\">\n",
       "  <thead>\n",
       "    <tr style=\"text-align: right;\">\n",
       "      <th></th>\n",
       "      <th>0</th>\n",
       "    </tr>\n",
       "  </thead>\n",
       "  <tbody>\n",
       "    <tr>\n",
       "      <th>confusion_matrix</th>\n",
       "      <td>[[475, 65], [59, 552]]</td>\n",
       "    </tr>\n",
       "    <tr>\n",
       "      <th>classification_report</th>\n",
       "      <td>precision    recall  f1-score   ...</td>\n",
       "    </tr>\n",
       "  </tbody>\n",
       "</table>\n",
       "</div>"
      ],
      "text/plain": [
       "                                                                       0\n",
       "confusion_matrix                                  [[475, 65], [59, 552]]\n",
       "classification_report                precision    recall  f1-score   ..."
      ]
     },
     "execution_count": 69,
     "metadata": {},
     "output_type": "execute_result"
    }
   ],
   "source": [
    "#depicting the score function \n",
    "\n",
    "y_pred = dtree.predict(pca_alg.transform(scaler.transform(X)))\n",
    "score_func(y, y_pred)"
   ]
  },
  {
   "cell_type": "code",
   "execution_count": 70,
   "metadata": {},
   "outputs": [
    {
     "data": {
      "text/plain": [
       "<matplotlib.axes._subplots.AxesSubplot at 0x1bf107839c8>"
      ]
     },
     "execution_count": 70,
     "metadata": {},
     "output_type": "execute_result"
    },
    {
     "data": {
      "image/png": "[encoded data removed]",
      "text/plain": [
       "<Figure size 432x288 with 1 Axes>"
      ]
     },
     "metadata": {},
     "output_type": "display_data"
    }
   ],
   "source": [
    "#Decision tree plot\n",
    "\n",
    "X_b =  X_train[:100,[2,5]]\n",
    "y_b = y_train[:100]\n",
    "\n",
    "dtree = DecisionTreeClassifier(max_depth = 15)\n",
    "dtree.fit(X_b, y_b)\n",
    "\n",
    "plot_decision_regions(X_b, y_b.values, clf = dtree)"
   ]
  },
  {
   "cell_type": "markdown",
   "metadata": {},
   "source": [
    "### 5 e) Kernelized SVM - rbf with PCA"
   ]
  },
  {
   "cell_type": "code",
   "execution_count": 71,
   "metadata": {},
   "outputs": [
    {
     "name": "stdout",
     "output_type": "stream",
     "text": [
      "Best Parameter: {'C': 0.001, 'gamma': 0.001}\n",
      "Highest CrossVal score: 1.00\n"
     ]
    }
   ],
   "source": [
    "#running the kernelized svm - rbf model\n",
    "\n",
    "from sklearn.svm import SVC\n",
    "\n",
    "param_grid = {'gamma': [0.001, 0.01, 0.1, 1, 10, 100], 'C': [0.001, 0.01, .1, 10, 100]}\n",
    "\n",
    "grid_search = GridSearchCV( SVC ( kernel = 'rbf'), param_grid, return_train_score = True, cv = 5, scoring = 'recall')\n",
    "\n",
    "X_train_org, X_test_org, y_train, y_test = train_test_split(X, y, test_size = 0.25, random_state = 1)\n",
    "\n",
    "scaler = StandardScaler()\n",
    "X_train = scaler.fit_transform(X_train_org)\n",
    "pca_alg = PCA(0.95)\n",
    "X_train = pca_alg.fit_transform(X_train)\n",
    "\n",
    "X_test = scaler.transform(X_test_org)\n",
    "\n",
    "X_test = pca_alg.transform(X_test)\n",
    "grid_search.fit(X_train, y_train)\n",
    "print(\"Best Parameter: {}\".format(grid_search.best_params_))\n",
    "print(\"Highest CrossVal score: {:.2f}\".format(grid_search.best_score_))"
   ]
  },
  {
   "cell_type": "code",
   "execution_count": 72,
   "metadata": {},
   "outputs": [
    {
     "name": "stdout",
     "output_type": "stream",
     "text": [
      "Recall CrossVal score: [1. 1. 1. 1. 1.]\n",
      "Avg CrossVal score: 1.00\n",
      " Recall CrossVal score: [1. 1. 1. 1. 1.]\n",
      "Avg CrossVal score: 1.00\n"
     ]
    }
   ],
   "source": [
    "#running cross-validation\n",
    "\n",
    "score = cross_val_score(SVC (C = 0.001, kernel = 'rbf', gamma = 0.001), X_train, y_train,cv = 5, scoring = 'recall')\n",
    "print(\"Recall CrossVal score: {}\".format(score))\n",
    "print(\"Avg CrossVal score: {:.2f}\".format(score.mean()))\n",
    "\n",
    "score = cross_val_score(SVC (C = 0.001, kernel = 'rbf', gamma = 0.001), X_test, y_test, cv = 5, scoring = 'recall')\n",
    "print(\" Recall CrossVal score: {}\".format(score))\n",
    "print(\"Avg CrossVal score: {:.2f}\".format(score.mean()))"
   ]
  },
  {
   "cell_type": "code",
   "execution_count": 73,
   "metadata": {},
   "outputs": [
    {
     "name": "stdout",
     "output_type": "stream",
     "text": [
      "CrossVal score: [0.53757225 0.53757225 0.53179191 0.53488372 0.53488372]\n",
      "Avg CrossVal score: 0.54\n",
      "CrossVal score: [0.51724138 0.51724138 0.51724138 0.52631579 0.50877193]\n",
      "Avg CrossVal score: 0.52\n"
     ]
    }
   ],
   "source": [
    "score = cross_val_score(SVC (C = 0.001, kernel = 'rbf', gamma = 0.001), X_train, y_train, cv = 5)\n",
    "print(\"CrossVal score: {}\".format(score))\n",
    "print(\"Avg CrossVal score: {:.2f}\".format(score.mean()))\n",
    "\n",
    "score = cross_val_score(SVC (C = 0.001, kernel = 'rbf', gamma = 0.001), X_test, y_test, cv = 5)\n",
    "print(\"CrossVal score: {}\".format(score))\n",
    "print(\"Avg CrossVal score: {:.2f}\".format(score.mean()))"
   ]
  },
  {
   "cell_type": "code",
   "execution_count": 74,
   "metadata": {},
   "outputs": [
    {
     "name": "stdout",
     "output_type": "stream",
     "text": [
      "              precision    recall  f1-score   support\n",
      "\n",
      "           0       0.00      0.00      0.00       540\n",
      "           1       0.53      1.00      0.69       611\n",
      "\n",
      "    accuracy                           0.53      1151\n",
      "   macro avg       0.27      0.50      0.35      1151\n",
      "weighted avg       0.28      0.53      0.37      1151\n",
      "\n"
     ]
    },
    {
     "data": {
      "text/html": [
       "<div>\n",
       "<style scoped>\n",
       "    .dataframe tbody tr th:only-of-type {\n",
       "        vertical-align: middle;\n",
       "    }\n",
       "\n",
       "    .dataframe tbody tr th {\n",
       "        vertical-align: top;\n",
       "    }\n",
       "\n",
       "    .dataframe thead th {\n",
       "        text-align: right;\n",
       "    }\n",
       "</style>\n",
       "<table border=\"1\" class=\"dataframe\">\n",
       "  <thead>\n",
       "    <tr style=\"text-align: right;\">\n",
       "      <th></th>\n",
       "      <th>0</th>\n",
       "    </tr>\n",
       "  </thead>\n",
       "  <tbody>\n",
       "    <tr>\n",
       "      <th>confusion_matrix</th>\n",
       "      <td>[[0, 540], [0, 611]]</td>\n",
       "    </tr>\n",
       "    <tr>\n",
       "      <th>classification_report</th>\n",
       "      <td>precision    recall  f1-score   ...</td>\n",
       "    </tr>\n",
       "  </tbody>\n",
       "</table>\n",
       "</div>"
      ],
      "text/plain": [
       "                                                                       0\n",
       "confusion_matrix                                    [[0, 540], [0, 611]]\n",
       "classification_report                precision    recall  f1-score   ..."
      ]
     },
     "execution_count": 74,
     "metadata": {},
     "output_type": "execute_result"
    }
   ],
   "source": [
    "#depicting the score function\n",
    "\n",
    "svm_rbf = SVC(C = 0.001, kernel = 'rbf', gamma = 0.001)\n",
    "svm_rbf.fit(X_train, y_train)\n",
    "\n",
    "y_pred = svm_rbf.predict( pca_alg.transform(scaler.transform(X)))\n",
    "score_func(y, y_pred)"
   ]
  },
  {
   "cell_type": "code",
   "execution_count": 75,
   "metadata": {},
   "outputs": [
    {
     "data": {
      "image/png": "[encoded data removed]",
      "text/plain": [
       "<Figure size 720x576 with 1 Axes>"
      ]
     },
     "metadata": {
      "needs_background": "light"
     },
     "output_type": "display_data"
    }
   ],
   "source": [
    "#kernelized svm- rbf plot\n",
    "\n",
    "%matplotlib inline\n",
    "\n",
    "import matplotlib.gridspec as gridspec\n",
    "import itertools\n",
    "\n",
    "X = sample_data[['MA_0.5', 'MA_0.6']]\n",
    "y = sample_data['Class']\n",
    "\n",
    "C = 0.001\n",
    "clf = SVC ( kernel = 'rbf', gamma = 0.001, C = C)\n",
    "\n",
    "gs = gridspec.GridSpec( 2, 2 )\n",
    "fig = plt.figure(figsize = (10, 8))\n",
    "\n",
    "labels = ['SVC with RBF kernel']\n",
    "\n",
    "for clf, lab, grd in zip([clf],\n",
    "                         labels,\n",
    "                         itertools.product([0, 1],\n",
    "                         repeat=2)):\n",
    "    clf.fit(X, y)\n",
    "    ax = plt.subplot(gs [grd[0], grd[1]])\n",
    "    fig = plot_decision_regions(X = X.values, y = y.values,\n",
    "                                clf = clf, legend = 2)\n",
    "    plt.title(lab)"
   ]
  },
  {
   "cell_type": "markdown",
   "metadata": {},
   "source": [
    "### 5 f) Kernelized SVM - poly method with PCA"
   ]
  },
  {
   "cell_type": "code",
   "execution_count": 76,
   "metadata": {},
   "outputs": [
    {
     "name": "stdout",
     "output_type": "stream",
     "text": [
      "Best Parameter: {'C': 1, 'degree': 2, 'gamma': 0.01}\n",
      "Highest Score 1.00\n"
     ]
    }
   ],
   "source": [
    "#running the kernelized svm - poly model \n",
    "\n",
    "from sklearn.svm import SVC\n",
    "\n",
    "param_grid = {'gamma': [0.01, 0.1, 1], 'C': [ 1, 10, 100], 'degree': [1, 2, 3]}\n",
    "\n",
    "grid_search = GridSearchCV( SVC ( kernel = 'poly'), param_grid, return_train_score = True, cv = 5, scoring = 'recall')\n",
    "\n",
    "X_train_org, X_test_org, y_train, y_test = train_test_split(X, y, test_size = 0.25, random_state = 1)\n",
    "\n",
    "scaler = StandardScaler()\n",
    "X_train = scaler.fit_transform(X_train_org)\n",
    "pca_alg=PCA(0.95)\n",
    "X_train=pca_alg.fit_transform(X_train)\n",
    "\n",
    "X_test = scaler.transform(X_test_org)\n",
    "\n",
    "X_test=pca_alg.transform(X_test)\n",
    "grid_search.fit(X_train, y_train)\n",
    "print(\"Best Parameter: {}\".format(grid_search.best_params_))\n",
    "print(\"Highest Score {:.2f}\".format(grid_search.best_score_))"
   ]
  },
  {
   "cell_type": "code",
   "execution_count": 77,
   "metadata": {},
   "outputs": [
    {
     "name": "stdout",
     "output_type": "stream",
     "text": [
      "Recall CrossVal score: [1. 1. 1. 1. 1.]\n",
      "Avg CrossVal score: 1.00\n",
      "Recall CrossVal score: [1. 1. 1. 1. 1.]\n",
      "Avg CrossVal score: 1.00\n"
     ]
    }
   ],
   "source": [
    "#running the cross-validation\n",
    "\n",
    "score = cross_val_score( SVC ( kernel = 'poly', gamma = 0.01, C = 1, degree = 2), X_train, y_train, cv = 5, scoring = 'recall')\n",
    "print(\"Recall CrossVal score: {}\".format(score))\n",
    "print(\"Avg CrossVal score: {:.2f}\".format(score.mean()))\n",
    "\n",
    "score = cross_val_score( SVC ( kernel = 'poly', gamma = 0.01, C = 1, degree = 2), X_test, y_test,cv = 5, scoring = 'recall')\n",
    "print(\"Recall CrossVal score: {}\".format(score))\n",
    "print(\"Avg CrossVal score: {:.2f}\".format(score.mean()))"
   ]
  },
  {
   "cell_type": "code",
   "execution_count": 78,
   "metadata": {},
   "outputs": [
    {
     "name": "stdout",
     "output_type": "stream",
     "text": [
      "CrossVal score: [0.53757225 0.53757225 0.53179191 0.53488372 0.53488372]\n",
      "Avg CrossVal score: 0.54\n",
      "CrossVal score: [0.51724138 0.51724138 0.51724138 0.52631579 0.50877193]\n",
      "Avg CrossVal score: 0.52\n"
     ]
    }
   ],
   "source": [
    "score = cross_val_score( SVC ( kernel = 'poly', gamma = 0.01, C = 1, degree = 2), X_train, y_train, cv = 5)\n",
    "print(\"CrossVal score: {}\".format(score))\n",
    "print(\"Avg CrossVal score: {:.2f}\".format(score.mean()))\n",
    "\n",
    "score = cross_val_score( SVC ( kernel = 'poly', gamma = 0.01, C = 1, degree = 2), X_test, y_test, cv = 5)\n",
    "print(\"CrossVal score: {}\".format(score))\n",
    "print(\"Avg CrossVal score: {:.2f}\".format(score.mean()))"
   ]
  },
  {
   "cell_type": "code",
   "execution_count": 79,
   "metadata": {},
   "outputs": [
    {
     "name": "stdout",
     "output_type": "stream",
     "text": [
      "              precision    recall  f1-score   support\n",
      "\n",
      "           0       0.00      0.00      0.00       540\n",
      "           1       0.53      1.00      0.69       611\n",
      "\n",
      "    accuracy                           0.53      1151\n",
      "   macro avg       0.27      0.50      0.35      1151\n",
      "weighted avg       0.28      0.53      0.37      1151\n",
      "\n"
     ]
    },
    {
     "data": {
      "text/html": [
       "<div>\n",
       "<style scoped>\n",
       "    .dataframe tbody tr th:only-of-type {\n",
       "        vertical-align: middle;\n",
       "    }\n",
       "\n",
       "    .dataframe tbody tr th {\n",
       "        vertical-align: top;\n",
       "    }\n",
       "\n",
       "    .dataframe thead th {\n",
       "        text-align: right;\n",
       "    }\n",
       "</style>\n",
       "<table border=\"1\" class=\"dataframe\">\n",
       "  <thead>\n",
       "    <tr style=\"text-align: right;\">\n",
       "      <th></th>\n",
       "      <th>0</th>\n",
       "    </tr>\n",
       "  </thead>\n",
       "  <tbody>\n",
       "    <tr>\n",
       "      <th>confusion_matrix</th>\n",
       "      <td>[[0, 540], [0, 611]]</td>\n",
       "    </tr>\n",
       "    <tr>\n",
       "      <th>classification_report</th>\n",
       "      <td>precision    recall  f1-score   ...</td>\n",
       "    </tr>\n",
       "  </tbody>\n",
       "</table>\n",
       "</div>"
      ],
      "text/plain": [
       "                                                                       0\n",
       "confusion_matrix                                    [[0, 540], [0, 611]]\n",
       "classification_report                precision    recall  f1-score   ..."
      ]
     },
     "execution_count": 79,
     "metadata": {},
     "output_type": "execute_result"
    }
   ],
   "source": [
    "#depicting the score function\n",
    "\n",
    "svm_poly = SVC (kernel = 'poly', gamma = 0.01, C = 1, degree = 2)\n",
    "svm_poly.fit(X_train,y_train)\n",
    "\n",
    "y_pred = svm_poly.predict(pca_alg.transform(scaler.transform(X)))\n",
    "score_func(y, y_pred)"
   ]
  },
  {
   "cell_type": "code",
   "execution_count": 80,
   "metadata": {},
   "outputs": [
    {
     "data": {
      "image/png": "[encoded data removed]",
      "text/plain": [
       "<Figure size 720x576 with 1 Axes>"
      ]
     },
     "metadata": {
      "needs_background": "light"
     },
     "output_type": "display_data"
    }
   ],
   "source": [
    "#kernelized svm - poly model \n",
    "\n",
    "%matplotlib inline\n",
    "\n",
    "import matplotlib.gridspec as gridspec\n",
    "import itertools\n",
    "\n",
    "X = sample_data[['MA_0.5', 'MA_0.6']]\n",
    "y = sample_data['Class']\n",
    "\n",
    "C = 1\n",
    "clf = SVC ( kernel = 'poly', gamma = 0.01, C = C)\n",
    "\n",
    "gs = gridspec.GridSpec( 2, 2 )\n",
    "fig = plt.figure(figsize = (10, 8))\n",
    "\n",
    "labels = ['SVC with Poly kernel']\n",
    "\n",
    "for clf, lab, grd in zip([clf],\n",
    "                         labels,\n",
    "                         itertools.product([0, 1],\n",
    "                         repeat=2)):\n",
    "    clf.fit(X, y)\n",
    "    ax = plt.subplot(gs [grd[0], grd[1]])\n",
    "    fig = plot_decision_regions(X = X.values, y = y.values,\n",
    "                                clf = clf, legend = 2)\n",
    "    plt.title(lab)"
   ]
  },
  {
   "cell_type": "markdown",
   "metadata": {},
   "source": [
    "### 5 g) Kernelized SVM - linear Model with PCA"
   ]
  },
  {
   "cell_type": "code",
   "execution_count": 81,
   "metadata": {},
   "outputs": [
    {
     "name": "stdout",
     "output_type": "stream",
     "text": [
      "Best Parameter: {'C': 1, 'gamma': 0.01}\n",
      "Highest CrossVal score: 0.58\n"
     ]
    }
   ],
   "source": [
    "#running the kernelized svm - linear model \n",
    "\n",
    "from sklearn.svm import SVC\n",
    "\n",
    "param_grid = {'gamma': [0.01, 0.1, 1, 10], 'C': [0.01, 0.1, 1, 10]}\n",
    "\n",
    "grid_search = GridSearchCV( SVC( kernel = 'linear'), param_grid, return_train_score = True, cv = 5, scoring = 'recall')\n",
    "\n",
    "X_train_org, X_test_org, y_train, y_test = train_test_split(X, y, test_size = 0.25, random_state = 1)\n",
    "\n",
    "scaler = StandardScaler()\n",
    "X_train = scaler.fit_transform(X_train_org)\n",
    "pca_alg=PCA(0.95)\n",
    "X_train=pca_alg.fit_transform(X_train)\n",
    "\n",
    "X_test = scaler.transform(X_test_org)\n",
    "\n",
    "X_test=pca_alg.transform(X_test)\n",
    "\n",
    "grid_search.fit(X_train, y_train)\n",
    "print(\"Best Parameter: {}\".format(grid_search.best_params_))\n",
    "print(\"Highest CrossVal score: {:.2f}\".format(grid_search.best_score_))"
   ]
  },
  {
   "cell_type": "code",
   "execution_count": 82,
   "metadata": {},
   "outputs": [
    {
     "name": "stdout",
     "output_type": "stream",
     "text": [
      "Recall CrossVal score: [0.6344086  0.62365591 0.5326087  0.65217391 0.4673913 ]\n",
      "Avg CrossVal score: 0.58\n",
      "Recall CrossVal score: [0.5        0.6        0.46666667 0.46666667 0.5862069 ]\n",
      "Avg CrossVal score: 0.52\n"
     ]
    }
   ],
   "source": [
    "#running the cross-validation\n",
    "\n",
    "score = cross_val_score( SVC (kernel = 'linear', C = 0.1, gamma = 0.01), X_train, y_train, cv = 5, scoring = 'recall')\n",
    "print(\"Recall CrossVal score: {}\".format(score))\n",
    "print(\"Avg CrossVal score: {:.2f}\".format(score.mean()))\n",
    "\n",
    "score = cross_val_score(SVC (kernel = 'linear', C = 0.1, gamma = 0.01), X_test, y_test, cv = 5, scoring = 'recall')\n",
    "print(\"Recall CrossVal score: {}\".format(score))\n",
    "print(\"Avg CrossVal score: {:.2f}\".format(score.mean()))"
   ]
  },
  {
   "cell_type": "code",
   "execution_count": 83,
   "metadata": {},
   "outputs": [
    {
     "name": "stdout",
     "output_type": "stream",
     "text": [
      "CrossVal score: [0.65895954 0.60693642 0.5433526  0.62790698 0.55232558]\n",
      "Avg CrossVal score: 0.60\n",
      "CrossVal score: [0.53448276 0.60344828 0.55172414 0.47368421 0.66666667]\n",
      "Avg CrossVal score: 0.57\n"
     ]
    }
   ],
   "source": [
    "score = cross_val_score(SVC ( kernel = 'linear', C = 0.1, gamma = 0.01), X_train, y_train, cv = 5)\n",
    "print(\"CrossVal score: {}\".format(score))\n",
    "print(\"Avg CrossVal score: {:.2f}\".format(score.mean()))\n",
    "\n",
    "score = cross_val_score(SVC ( kernel = 'linear', C = 0.1, gamma = 0.01), X_test, y_test, cv = 5)\n",
    "print(\"CrossVal score: {}\".format(score))\n",
    "print(\"Avg CrossVal score: {:.2f}\".format(score.mean()))"
   ]
  },
  {
   "cell_type": "code",
   "execution_count": 84,
   "metadata": {},
   "outputs": [
    {
     "name": "stdout",
     "output_type": "stream",
     "text": [
      "              precision    recall  f1-score   support\n",
      "\n",
      "           0       0.56      0.61      0.58       540\n",
      "           1       0.62      0.58      0.60       611\n",
      "\n",
      "    accuracy                           0.59      1151\n",
      "   macro avg       0.59      0.59      0.59      1151\n",
      "weighted avg       0.59      0.59      0.59      1151\n",
      "\n"
     ]
    },
    {
     "data": {
      "text/html": [
       "<div>\n",
       "<style scoped>\n",
       "    .dataframe tbody tr th:only-of-type {\n",
       "        vertical-align: middle;\n",
       "    }\n",
       "\n",
       "    .dataframe tbody tr th {\n",
       "        vertical-align: top;\n",
       "    }\n",
       "\n",
       "    .dataframe thead th {\n",
       "        text-align: right;\n",
       "    }\n",
       "</style>\n",
       "<table border=\"1\" class=\"dataframe\">\n",
       "  <thead>\n",
       "    <tr style=\"text-align: right;\">\n",
       "      <th></th>\n",
       "      <th>0</th>\n",
       "    </tr>\n",
       "  </thead>\n",
       "  <tbody>\n",
       "    <tr>\n",
       "      <th>confusion_matrix</th>\n",
       "      <td>[[328, 212], [258, 353]]</td>\n",
       "    </tr>\n",
       "    <tr>\n",
       "      <th>classification_report</th>\n",
       "      <td>precision    recall  f1-score   ...</td>\n",
       "    </tr>\n",
       "  </tbody>\n",
       "</table>\n",
       "</div>"
      ],
      "text/plain": [
       "                                                                       0\n",
       "confusion_matrix                                [[328, 212], [258, 353]]\n",
       "classification_report                precision    recall  f1-score   ..."
      ]
     },
     "execution_count": 84,
     "metadata": {},
     "output_type": "execute_result"
    }
   ],
   "source": [
    "#depicting the score function\n",
    "\n",
    "svm_linear = SVC(kernel = 'linear', C = 0.1, gamma = 0.01)\n",
    "svm_linear.fit(X_train, y_train)\n",
    "\n",
    "y_pred = svm_linear.predict(pca_alg.transform(scaler.transform(X)))\n",
    "score_func(y, y_pred)"
   ]
  },
  {
   "cell_type": "code",
   "execution_count": 85,
   "metadata": {},
   "outputs": [
    {
     "data": {
      "image/png": "[encoded data removed]",
      "text/plain": [
       "<Figure size 720x576 with 1 Axes>"
      ]
     },
     "metadata": {
      "needs_background": "light"
     },
     "output_type": "display_data"
    }
   ],
   "source": [
    "#kernelized svm - linear model \n",
    "\n",
    "%matplotlib inline\n",
    "\n",
    "import matplotlib.gridspec as gridspec\n",
    "import itertools\n",
    "\n",
    "X = sample_data[['MA_0.5', 'MA_0.6']]\n",
    "y = sample_data['Class']\n",
    "\n",
    "C = 0.1\n",
    "clf = SVC ( kernel = 'linear', gamma = 0.01, C = C)\n",
    "\n",
    "gs = gridspec.GridSpec( 2, 2 )\n",
    "fig = plt.figure(figsize = (10, 8))\n",
    "\n",
    "labels = ['SVC with Linear SVM kernel']\n",
    "\n",
    "for clf, lab, grd in zip([clf],\n",
    "                         labels,\n",
    "                         itertools.product([0, 1],\n",
    "                         repeat = 2)):\n",
    "    clf.fit(X, y)\n",
    "    ax = plt.subplot(gs [grd[0], grd[1]])\n",
    "    fig = plot_decision_regions(X = X.values, y = y.values,\n",
    "                                clf = clf, legend = 2)\n",
    "    plt.title(lab)"
   ]
  },
  {
   "cell_type": "markdown",
   "metadata": {},
   "source": [
    "### 5 h) Comparing the PCA and without PCA results of the models"
   ]
  },
  {
   "cell_type": "markdown",
   "metadata": {},
   "source": [
    "#### Showcasing data for models after applying PCA"
   ]
  },
  {
   "cell_type": "code",
   "execution_count": 86,
   "metadata": {
    "scrolled": true
   },
   "outputs": [
    {
     "data": {
      "text/html": [
       "<div>\n",
       "<style scoped>\n",
       "    .dataframe tbody tr th:only-of-type {\n",
       "        vertical-align: middle;\n",
       "    }\n",
       "\n",
       "    .dataframe tbody tr th {\n",
       "        vertical-align: top;\n",
       "    }\n",
       "\n",
       "    .dataframe thead th {\n",
       "        text-align: right;\n",
       "    }\n",
       "</style>\n",
       "<table border=\"1\" class=\"dataframe\">\n",
       "  <thead>\n",
       "    <tr style=\"text-align: right;\">\n",
       "      <th></th>\n",
       "      <th>Best Parameter</th>\n",
       "      <th>Training Score</th>\n",
       "      <th>CV SCORE</th>\n",
       "      <th>testing score</th>\n",
       "      <th>f1 score</th>\n",
       "      <th>recall</th>\n",
       "    </tr>\n",
       "    <tr>\n",
       "      <th>Model</th>\n",
       "      <th></th>\n",
       "      <th></th>\n",
       "      <th></th>\n",
       "      <th></th>\n",
       "      <th></th>\n",
       "      <th></th>\n",
       "    </tr>\n",
       "  </thead>\n",
       "  <tbody>\n",
       "    <tr>\n",
       "      <th>KNN Classification</th>\n",
       "      <td>{'n_neighbors': 11}</td>\n",
       "      <td>0.65</td>\n",
       "      <td>0.68</td>\n",
       "      <td>0.67</td>\n",
       "      <td>0.66</td>\n",
       "      <td>0.66</td>\n",
       "    </tr>\n",
       "    <tr>\n",
       "      <th>Logistic Regression</th>\n",
       "      <td>{'C': 0.001, 'penalty': 'l2'}</td>\n",
       "      <td>0.59</td>\n",
       "      <td>1.00</td>\n",
       "      <td>0.56</td>\n",
       "      <td>0.58</td>\n",
       "      <td>0.60</td>\n",
       "    </tr>\n",
       "    <tr>\n",
       "      <th>Linear SVM</th>\n",
       "      <td>{'C': 10}</td>\n",
       "      <td>0.68</td>\n",
       "      <td>0.67</td>\n",
       "      <td>0.69</td>\n",
       "      <td>0.69</td>\n",
       "      <td>0.69</td>\n",
       "    </tr>\n",
       "    <tr>\n",
       "      <th>Decision Tree</th>\n",
       "      <td>{'max_depth': 18}</td>\n",
       "      <td>1.00</td>\n",
       "      <td>0.62</td>\n",
       "      <td>0.54</td>\n",
       "      <td>0.88</td>\n",
       "      <td>0.88</td>\n",
       "    </tr>\n",
       "    <tr>\n",
       "      <th>Kernelized SVM - rbf</th>\n",
       "      <td>{'C': 0.001, 'gamma': 0.001}</td>\n",
       "      <td>0.52</td>\n",
       "      <td>1.00</td>\n",
       "      <td>0.56</td>\n",
       "      <td>0.37</td>\n",
       "      <td>0.52</td>\n",
       "    </tr>\n",
       "    <tr>\n",
       "      <th>Kernelized SVM - poly</th>\n",
       "      <td>{'C': 1, 'degree': 2, 'gamma': 0.01}</td>\n",
       "      <td>0.52</td>\n",
       "      <td>1.00</td>\n",
       "      <td>0.56</td>\n",
       "      <td>0.37</td>\n",
       "      <td>0.52</td>\n",
       "    </tr>\n",
       "    <tr>\n",
       "      <th>Kernelized SVM - linear</th>\n",
       "      <td>{'C': 0.1, 'gamma': 0.01}</td>\n",
       "      <td>0.59</td>\n",
       "      <td>0.60</td>\n",
       "      <td>0.60</td>\n",
       "      <td>0.59</td>\n",
       "      <td>0.59</td>\n",
       "    </tr>\n",
       "  </tbody>\n",
       "</table>\n",
       "</div>"
      ],
      "text/plain": [
       "                                               Best Parameter  Training Score  \\\n",
       "Model                                                                           \n",
       "KNN Classification                        {'n_neighbors': 11}            0.65   \n",
       "Logistic Regression             {'C': 0.001, 'penalty': 'l2'}            0.59   \n",
       "Linear SVM                                          {'C': 10}            0.68   \n",
       "Decision Tree                               {'max_depth': 18}            1.00   \n",
       "Kernelized SVM - rbf             {'C': 0.001, 'gamma': 0.001}            0.52   \n",
       "Kernelized SVM - poly    {'C': 1, 'degree': 2, 'gamma': 0.01}            0.52   \n",
       "Kernelized SVM - linear             {'C': 0.1, 'gamma': 0.01}            0.59   \n",
       "\n",
       "                         CV SCORE  testing score  f1 score  recall  \n",
       "Model                                                               \n",
       "KNN Classification           0.68           0.67      0.66    0.66  \n",
       "Logistic Regression          1.00           0.56      0.58    0.60  \n",
       "Linear SVM                   0.67           0.69      0.69    0.69  \n",
       "Decision Tree                0.62           0.54      0.88    0.88  \n",
       "Kernelized SVM - rbf         1.00           0.56      0.37    0.52  \n",
       "Kernelized SVM - poly        1.00           0.56      0.37    0.52  \n",
       "Kernelized SVM - linear      0.60           0.60      0.59    0.59  "
      ]
     },
     "execution_count": 86,
     "metadata": {},
     "output_type": "execute_result"
    }
   ],
   "source": [
    "#calling the with pca report document\n",
    "\n",
    "classification_report_with_pca = pd.read_csv('classification_with_pca_Report.csv')\n",
    "classification_report_with_pca.set_index(\"Model\",inplace=True)\n",
    "classification_report_with_pca.head((8))\n"
   ]
  },
  {
   "cell_type": "code",
   "execution_count": 87,
   "metadata": {},
   "outputs": [
    {
     "data": {
      "text/plain": [
       "<matplotlib.axes._subplots.AxesSubplot at 0x1bf166a7548>"
      ]
     },
     "execution_count": 87,
     "metadata": {},
     "output_type": "execute_result"
    },
    {
     "data": {
      "image/png": "[encoded data removed]",
      "text/plain": [
       "<Figure size 432x288 with 1 Axes>"
      ]
     },
     "metadata": {
      "needs_background": "light"
     },
     "output_type": "display_data"
    }
   ],
   "source": [
    "#generating a bar chart visualization of the different scores for the models mentioned in the report\n",
    "\n",
    "classification_report_with_pca[['Training Score', 'CV SCORE','testing score', 'f1 score', 'recall']].plot(kind='bar')"
   ]
  },
  {
   "cell_type": "code",
   "execution_count": 88,
   "metadata": {},
   "outputs": [
    {
     "data": {
      "text/plain": [
       "<matplotlib.axes._subplots.AxesSubplot at 0x1bf16550508>"
      ]
     },
     "execution_count": 88,
     "metadata": {},
     "output_type": "execute_result"
    },
    {
     "data": {
      "image/png": "[encoded data removed]",
      "text/plain": [
       "<Figure size 1368x72 with 1 Axes>"
      ]
     },
     "metadata": {
      "needs_background": "light"
     },
     "output_type": "display_data"
    }
   ],
   "source": [
    "#generating a Line chart  visualization of the different scores for the models mentioned in the report\n",
    "\n",
    "classification_report_with_pca[['Training Score', 'CV SCORE','testing score', 'f1 score', 'recall']].plot(kind='line',figsize=(19, 1))"
   ]
  },
  {
   "cell_type": "markdown",
   "metadata": {},
   "source": [
    "#### Showcasing data for models without applying PCA"
   ]
  },
  {
   "cell_type": "code",
   "execution_count": 89,
   "metadata": {},
   "outputs": [
    {
     "data": {
      "text/html": [
       "<div>\n",
       "<style scoped>\n",
       "    .dataframe tbody tr th:only-of-type {\n",
       "        vertical-align: middle;\n",
       "    }\n",
       "\n",
       "    .dataframe tbody tr th {\n",
       "        vertical-align: top;\n",
       "    }\n",
       "\n",
       "    .dataframe thead th {\n",
       "        text-align: right;\n",
       "    }\n",
       "</style>\n",
       "<table border=\"1\" class=\"dataframe\">\n",
       "  <thead>\n",
       "    <tr style=\"text-align: right;\">\n",
       "      <th></th>\n",
       "      <th>Best Parameter</th>\n",
       "      <th>Training Score</th>\n",
       "      <th>CV SCORE</th>\n",
       "      <th>testing score</th>\n",
       "      <th>f1 score</th>\n",
       "      <th>recall</th>\n",
       "    </tr>\n",
       "    <tr>\n",
       "      <th>Model</th>\n",
       "      <th></th>\n",
       "      <th></th>\n",
       "      <th></th>\n",
       "      <th></th>\n",
       "      <th></th>\n",
       "      <th></th>\n",
       "    </tr>\n",
       "  </thead>\n",
       "  <tbody>\n",
       "    <tr>\n",
       "      <th>KNN Classification</th>\n",
       "      <td>{'n_neighbors': 13}</td>\n",
       "      <td>0.65</td>\n",
       "      <td>0.68</td>\n",
       "      <td>0.67</td>\n",
       "      <td>0.67</td>\n",
       "      <td>0.67</td>\n",
       "    </tr>\n",
       "    <tr>\n",
       "      <th>Logistic Regression</th>\n",
       "      <td>{'C': 0.001, 'penalty': 'l2'}</td>\n",
       "      <td>0.52</td>\n",
       "      <td>1.00</td>\n",
       "      <td>0.56</td>\n",
       "      <td>0.37</td>\n",
       "      <td>0.53</td>\n",
       "    </tr>\n",
       "    <tr>\n",
       "      <th>Linear SVM</th>\n",
       "      <td>{'C': 100}</td>\n",
       "      <td>0.72</td>\n",
       "      <td>0.69</td>\n",
       "      <td>0.71</td>\n",
       "      <td>0.71</td>\n",
       "      <td>0.71</td>\n",
       "    </tr>\n",
       "    <tr>\n",
       "      <th>Decision Tree</th>\n",
       "      <td>{'max_depth': 14}</td>\n",
       "      <td>0.91</td>\n",
       "      <td>0.65</td>\n",
       "      <td>0.60</td>\n",
       "      <td>0.84</td>\n",
       "      <td>0.84</td>\n",
       "    </tr>\n",
       "    <tr>\n",
       "      <th>Kernelized SVM - rbf</th>\n",
       "      <td>{'C': 0.001, 'gamma': 0.001}</td>\n",
       "      <td>0.52</td>\n",
       "      <td>1.00</td>\n",
       "      <td>0.56</td>\n",
       "      <td>0.37</td>\n",
       "      <td>0.53</td>\n",
       "    </tr>\n",
       "    <tr>\n",
       "      <th>Kernelized SVM - poly</th>\n",
       "      <td>{'C': 1, 'degree': 2, 'gamma': 0.01}</td>\n",
       "      <td>0.52</td>\n",
       "      <td>1.00</td>\n",
       "      <td>0.56</td>\n",
       "      <td>0.37</td>\n",
       "      <td>0.53</td>\n",
       "    </tr>\n",
       "    <tr>\n",
       "      <th>Kernelized SVM - linear</th>\n",
       "      <td>{'C': 0.1, 'gamma': 0.01}</td>\n",
       "      <td>0.60</td>\n",
       "      <td>0.61</td>\n",
       "      <td>0.61</td>\n",
       "      <td>0.60</td>\n",
       "      <td>0.60</td>\n",
       "    </tr>\n",
       "  </tbody>\n",
       "</table>\n",
       "</div>"
      ],
      "text/plain": [
       "                                               Best Parameter  Training Score  \\\n",
       "Model                                                                           \n",
       "KNN Classification                        {'n_neighbors': 13}            0.65   \n",
       "Logistic Regression             {'C': 0.001, 'penalty': 'l2'}            0.52   \n",
       "Linear SVM                                         {'C': 100}            0.72   \n",
       "Decision Tree                               {'max_depth': 14}            0.91   \n",
       "Kernelized SVM - rbf             {'C': 0.001, 'gamma': 0.001}            0.52   \n",
       "Kernelized SVM - poly    {'C': 1, 'degree': 2, 'gamma': 0.01}            0.52   \n",
       "Kernelized SVM - linear             {'C': 0.1, 'gamma': 0.01}            0.60   \n",
       "\n",
       "                         CV SCORE  testing score  f1 score  recall  \n",
       "Model                                                               \n",
       "KNN Classification           0.68           0.67      0.67    0.67  \n",
       "Logistic Regression          1.00           0.56      0.37    0.53  \n",
       "Linear SVM                   0.69           0.71      0.71    0.71  \n",
       "Decision Tree                0.65           0.60      0.84    0.84  \n",
       "Kernelized SVM - rbf         1.00           0.56      0.37    0.53  \n",
       "Kernelized SVM - poly        1.00           0.56      0.37    0.53  \n",
       "Kernelized SVM - linear      0.61           0.61      0.60    0.60  "
      ]
     },
     "execution_count": 89,
     "metadata": {},
     "output_type": "execute_result"
    }
   ],
   "source": [
    "#importing the classification report.csv file built to showcasethe results of all the models without applying PCA\n",
    "#calling out the report of models without applying PCA \n",
    "\n",
    "classification_report_without_pca = pd.read_csv('classification_without_pca_report.csv')\n",
    "classification_report_without_pca.set_index(\"Model\",inplace=True)\n",
    "classification_report_without_pca.head((8))"
   ]
  },
  {
   "cell_type": "code",
   "execution_count": 90,
   "metadata": {},
   "outputs": [
    {
     "data": {
      "text/plain": [
       "<matplotlib.axes._subplots.AxesSubplot at 0x1bf165d7208>"
      ]
     },
     "execution_count": 90,
     "metadata": {},
     "output_type": "execute_result"
    },
    {
     "data": {
      "image/png": "[encoded data removed]",
      "text/plain": [
       "<Figure size 432x288 with 1 Axes>"
      ]
     },
     "metadata": {
      "needs_background": "light"
     },
     "output_type": "display_data"
    }
   ],
   "source": [
    "#generating a bar chart visualization of the different scores \n",
    "#for the models mentioned in the report\n",
    "\n",
    "classification_report_without_pca[['Training Score', 'CV SCORE','testing score', 'f1 score', 'recall']].plot(kind='bar')"
   ]
  },
  {
   "cell_type": "code",
   "execution_count": 91,
   "metadata": {},
   "outputs": [
    {
     "data": {
      "text/plain": [
       "<matplotlib.axes._subplots.AxesSubplot at 0x1bf167539c8>"
      ]
     },
     "execution_count": 91,
     "metadata": {},
     "output_type": "execute_result"
    },
    {
     "data": {
      "image/png": "[encoded data removed]",
      "text/plain": [
       "<Figure size 1368x72 with 1 Axes>"
      ]
     },
     "metadata": {
      "needs_background": "light"
     },
     "output_type": "display_data"
    }
   ],
   "source": [
    "#generating a Line chart  visualization of the different scores for the models mentioned in the report\n",
    "\n",
    "classification_report_without_pca[['Training Score', 'CV SCORE','testing score', 'f1 score', 'recall']].plot(kind='line',figsize=(19, 1))"
   ]
  },
  {
   "cell_type": "markdown",
   "metadata": {},
   "source": [
    "# Decision: Output of models like Linear SVM, Decision Tree and Kernalized SVM-linear are much better without PCA. Models like Logistic Regression and KNN Classification show improvements with the application of PCA."
   ]
  },
  {
   "cell_type": "markdown",
   "metadata": {},
   "source": [
    "## Applying the Deep Learning models"
   ]
  },
  {
   "cell_type": "code",
   "execution_count": 92,
   "metadata": {
    "colab": {},
    "colab_type": "code",
    "id": "8TSm0HZwfN3v"
   },
   "outputs": [
    {
     "name": "stderr",
     "output_type": "stream",
     "text": [
      "Using TensorFlow backend.\n"
     ]
    }
   ],
   "source": [
    "# importing the required libraries\n",
    "\n",
    "import numpy as np\n",
    "from sklearn.model_selection import GridSearchCV\n",
    "from keras.models import Sequential\n",
    "from keras.layers import Dense\n",
    "from keras.wrappers.scikit_learn import KerasClassifier\n",
    "import tensorflow"
   ]
  },
  {
   "cell_type": "code",
   "execution_count": 94,
   "metadata": {},
   "outputs": [],
   "source": [
    "#splitting and scaling the dataset\n",
    "\n",
    "from sklearn.model_selection import train_test_split\n",
    "from sklearn.preprocessing import MinMaxScaler\n",
    "\n",
    "X = sample_data[['quality assessment', 'pre_screening', 'MA_0.5', 'MA_0.6', 'MA_0.7', 'MA_0.8', 'MA_0.9', 'MA_1.0', 'MA_0.5P', 'MA_0.6P', 'MA_0.7P', 'MA_0.8P', 'MA_0.9P', 'MA_1.0', 'MA_1.1', 'MA_1.2', 'euclidean distance', 'diameter of the optic', 'AM/FM']]\n",
    "y = sample_data['Class']\n",
    "\n",
    "X_train_org, X_test_org, y_train, y_test = train_test_split (X, y, test_size = .25, random_state = 0)\n",
    "\n",
    "scaler = MinMaxScaler()\n",
    "X_train = scaler.fit_transform(X_train_org)\n",
    "X_test = scaler.transform(X_test_org)"
   ]
  },
  {
   "cell_type": "code",
   "execution_count": 120,
   "metadata": {
    "colab": {
     "base_uri": "https://localhost:8080/",
     "height": 50
    },
    "colab_type": "code",
    "id": "QyJv2RfifaWD",
    "outputId": "e5ee9a0a-5bd3-447d-a8eb-64a1673506f0"
   },
   "outputs": [
    {
     "name": "stdout",
     "output_type": "stream",
     "text": [
      "Best Parameter: {'batch_size': 20, 'epochs': 200}\n",
      "Highest CrossVal score: 0.72\n"
     ]
    }
   ],
   "source": [
    "#creating the model to apply GridSearchCV and calculate the \n",
    "#best parameter values\n",
    "\n",
    "def create_model():\n",
    "    #create model\n",
    "    model = Sequential()\n",
    "    model.add(Dense(12, input_dim = 19, activation = 'relu'))\n",
    "    model.add(Dense(8, activation = 'relu'))\n",
    "    model.add(Dense(1, activation = 'sigmoid'))\n",
    "    #compile model\n",
    "    model.compile(loss = 'binary_crossentropy', optimizer = 'adam', metrics = ['accuracy'])\n",
    "    return model\n",
    "np.random.seed(10)\n",
    "model = KerasClassifier(build_fn = create_model, verbose = 0)\n",
    "param_grid = {'batch_size':[10, 20, 30] , 'epochs':[100, 150, 200]}\n",
    "grid_search = GridSearchCV(estimator = model, param_grid = param_grid, cv = 5)\n",
    "grid_search_result = grid_search.fit(X_train,y_train)\n",
    "print(\"Best Parameter: {}\".format(grid_search_result.best_params_))\n",
    "print(\"Highest CrossVal score: {:.2f}\".format(grid_search_result.best_score_))"
   ]
  },
  {
   "cell_type": "code",
   "execution_count": 122,
   "metadata": {
    "colab": {
     "base_uri": "https://localhost:8080/",
     "height": 1000
    },
    "colab_type": "code",
    "id": "6C_XJeT4jJWH",
    "outputId": "d7912173-1602-4bdb-9e29-cd28736de3a9",
    "scrolled": true
   },
   "outputs": [
    {
     "name": "stdout",
     "output_type": "stream",
     "text": [
      "Epoch 1/200\n",
      "863/863 [==============================] - 0s 283us/step - loss: 0.7112 - accuracy: 0.5226\n",
      "Epoch 2/200\n",
      "863/863 [==============================] - 0s 48us/step - loss: 0.6867 - accuracy: 0.5238\n",
      "Epoch 3/200\n",
      "863/863 [==============================] - 0s 66us/step - loss: 0.6751 - accuracy: 0.5261\n",
      "Epoch 4/200\n",
      "863/863 [==============================] - 0s 64us/step - loss: 0.6637 - accuracy: 0.5411\n",
      "Epoch 5/200\n",
      "863/863 [==============================] - 0s 50us/step - loss: 0.6559 - accuracy: 0.5724\n",
      "Epoch 6/200\n",
      "863/863 [==============================] - 0s 80us/step - loss: 0.6499 - accuracy: 0.6188\n",
      "Epoch 7/200\n",
      "863/863 [==============================] - 0s 56us/step - loss: 0.6470 - accuracy: 0.6338\n",
      "Epoch 8/200\n",
      "863/863 [==============================] - 0s 78us/step - loss: 0.6436 - accuracy: 0.6408\n",
      "Epoch 9/200\n",
      "863/863 [==============================] - 0s 105us/step - loss: 0.6391 - accuracy: 0.6419\n",
      "Epoch 10/200\n",
      "863/863 [==============================] - 0s 107us/step - loss: 0.6363 - accuracy: 0.6512\n",
      "Epoch 11/200\n",
      "863/863 [==============================] - 0s 98us/step - loss: 0.6342 - accuracy: 0.6373\n",
      "Epoch 12/200\n",
      "863/863 [==============================] - 0s 107us/step - loss: 0.6300 - accuracy: 0.6547\n",
      "Epoch 13/200\n",
      "863/863 [==============================] - 0s 96us/step - loss: 0.6278 - accuracy: 0.6570\n",
      "Epoch 14/200\n",
      "863/863 [==============================] - 0s 108us/step - loss: 0.6252 - accuracy: 0.6559\n",
      "Epoch 15/200\n",
      "863/863 [==============================] - 0s 97us/step - loss: 0.6215 - accuracy: 0.6559\n",
      "Epoch 16/200\n",
      "863/863 [==============================] - 0s 109us/step - loss: 0.6199 - accuracy: 0.6477\n",
      "Epoch 17/200\n",
      "863/863 [==============================] - 0s 102us/step - loss: 0.6155 - accuracy: 0.6721\n",
      "Epoch 18/200\n",
      "863/863 [==============================] - 0s 107us/step - loss: 0.6126 - accuracy: 0.6616\n",
      "Epoch 19/200\n",
      "863/863 [==============================] - 0s 97us/step - loss: 0.6086 - accuracy: 0.6732\n",
      "Epoch 20/200\n",
      "863/863 [==============================] - 0s 107us/step - loss: 0.6060 - accuracy: 0.6674\n",
      "Epoch 21/200\n",
      "863/863 [==============================] - 0s 102us/step - loss: 0.6021 - accuracy: 0.6813\n",
      "Epoch 22/200\n",
      "863/863 [==============================] - 0s 107us/step - loss: 0.6000 - accuracy: 0.6721\n",
      "Epoch 23/200\n",
      "863/863 [==============================] - 0s 102us/step - loss: 0.5976 - accuracy: 0.6848\n",
      "Epoch 24/200\n",
      "863/863 [==============================] - 0s 107us/step - loss: 0.5944 - accuracy: 0.6860\n",
      "Epoch 25/200\n",
      "863/863 [==============================] - 0s 97us/step - loss: 0.5910 - accuracy: 0.6721\n",
      "Epoch 26/200\n",
      "863/863 [==============================] - 0s 106us/step - loss: 0.5898 - accuracy: 0.6767\n",
      "Epoch 27/200\n",
      "863/863 [==============================] - 0s 97us/step - loss: 0.5864 - accuracy: 0.6906\n",
      "Epoch 28/200\n",
      "863/863 [==============================] - 0s 111us/step - loss: 0.5839 - accuracy: 0.6813\n",
      "Epoch 29/200\n",
      "863/863 [==============================] - 0s 100us/step - loss: 0.5810 - accuracy: 0.6848\n",
      "Epoch 30/200\n",
      "863/863 [==============================] - 0s 108us/step - loss: 0.5789 - accuracy: 0.6964\n",
      "Epoch 31/200\n",
      "863/863 [==============================] - 0s 101us/step - loss: 0.5808 - accuracy: 0.6825\n",
      "Epoch 32/200\n",
      "863/863 [==============================] - 0s 109us/step - loss: 0.5742 - accuracy: 0.6871\n",
      "Epoch 33/200\n",
      "863/863 [==============================] - 0s 99us/step - loss: 0.5736 - accuracy: 0.7034\n",
      "Epoch 34/200\n",
      "863/863 [==============================] - 0s 103us/step - loss: 0.5728 - accuracy: 0.6964\n",
      "Epoch 35/200\n",
      "863/863 [==============================] - 0s 96us/step - loss: 0.5688 - accuracy: 0.6964\n",
      "Epoch 36/200\n",
      "863/863 [==============================] - 0s 111us/step - loss: 0.5700 - accuracy: 0.6952\n",
      "Epoch 37/200\n",
      "863/863 [==============================] - 0s 101us/step - loss: 0.5666 - accuracy: 0.7010\n",
      "Epoch 38/200\n",
      "863/863 [==============================] - 0s 107us/step - loss: 0.5645 - accuracy: 0.7034\n",
      "Epoch 39/200\n",
      "863/863 [==============================] - 0s 98us/step - loss: 0.5608 - accuracy: 0.7196\n",
      "Epoch 40/200\n",
      "863/863 [==============================] - 0s 111us/step - loss: 0.5592 - accuracy: 0.6999\n",
      "Epoch 41/200\n",
      "863/863 [==============================] - 0s 96us/step - loss: 0.5576 - accuracy: 0.7138\n",
      "Epoch 42/200\n",
      "863/863 [==============================] - 0s 107us/step - loss: 0.5581 - accuracy: 0.7115\n",
      "Epoch 43/200\n",
      "863/863 [==============================] - 0s 98us/step - loss: 0.5547 - accuracy: 0.7196\n",
      "Epoch 44/200\n",
      "863/863 [==============================] - 0s 110us/step - loss: 0.5494 - accuracy: 0.7370\n",
      "Epoch 45/200\n",
      "863/863 [==============================] - 0s 101us/step - loss: 0.5512 - accuracy: 0.7080\n",
      "Epoch 46/200\n",
      "863/863 [==============================] - 0s 106us/step - loss: 0.5488 - accuracy: 0.7277\n",
      "Epoch 47/200\n",
      "863/863 [==============================] - 0s 97us/step - loss: 0.5454 - accuracy: 0.7312\n",
      "Epoch 48/200\n",
      "863/863 [==============================] - 0s 106us/step - loss: 0.5437 - accuracy: 0.7289\n",
      "Epoch 49/200\n",
      "863/863 [==============================] - 0s 98us/step - loss: 0.5445 - accuracy: 0.7173\n",
      "Epoch 50/200\n",
      "863/863 [==============================] - 0s 106us/step - loss: 0.5403 - accuracy: 0.7323\n",
      "Epoch 51/200\n",
      "863/863 [==============================] - 0s 98us/step - loss: 0.5400 - accuracy: 0.7231\n",
      "Epoch 52/200\n",
      "863/863 [==============================] - 0s 109us/step - loss: 0.5397 - accuracy: 0.7184\n",
      "Epoch 53/200\n",
      "863/863 [==============================] - 0s 99us/step - loss: 0.5366 - accuracy: 0.7346\n",
      "Epoch 54/200\n",
      "863/863 [==============================] - 0s 106us/step - loss: 0.5415 - accuracy: 0.7277\n",
      "Epoch 55/200\n",
      "863/863 [==============================] - 0s 103us/step - loss: 0.5387 - accuracy: 0.7231\n",
      "Epoch 56/200\n",
      "863/863 [==============================] - 0s 105us/step - loss: 0.5335 - accuracy: 0.7323\n",
      "Epoch 57/200\n",
      "863/863 [==============================] - 0s 115us/step - loss: 0.5313 - accuracy: 0.7393\n",
      "Epoch 58/200\n",
      "863/863 [==============================] - 0s 111us/step - loss: 0.5360 - accuracy: 0.7231\n",
      "Epoch 59/200\n",
      "863/863 [==============================] - 0s 118us/step - loss: 0.5290 - accuracy: 0.7393\n",
      "Epoch 60/200\n",
      "863/863 [==============================] - 0s 119us/step - loss: 0.5297 - accuracy: 0.7404\n",
      "Epoch 61/200\n",
      "863/863 [==============================] - 0s 102us/step - loss: 0.5280 - accuracy: 0.7439\n",
      "Epoch 62/200\n",
      "863/863 [==============================] - 0s 87us/step - loss: 0.5322 - accuracy: 0.7277\n",
      "Epoch 63/200\n",
      "863/863 [==============================] - 0s 75us/step - loss: 0.5279 - accuracy: 0.7393\n",
      "Epoch 64/200\n",
      "863/863 [==============================] - 0s 76us/step - loss: 0.5257 - accuracy: 0.7404\n",
      "Epoch 65/200\n",
      "863/863 [==============================] - 0s 83us/step - loss: 0.5249 - accuracy: 0.7323\n",
      "Epoch 66/200\n",
      "863/863 [==============================] - 0s 90us/step - loss: 0.5210 - accuracy: 0.7428\n",
      "Epoch 67/200\n",
      "863/863 [==============================] - 0s 117us/step - loss: 0.5215 - accuracy: 0.7462\n",
      "Epoch 68/200\n",
      "863/863 [==============================] - 0s 119us/step - loss: 0.5230 - accuracy: 0.7543\n",
      "Epoch 69/200\n",
      "863/863 [==============================] - 0s 109us/step - loss: 0.5200 - accuracy: 0.7416\n",
      "Epoch 70/200\n",
      "863/863 [==============================] - 0s 115us/step - loss: 0.5186 - accuracy: 0.7462\n",
      "Epoch 71/200\n",
      "863/863 [==============================] - 0s 115us/step - loss: 0.5201 - accuracy: 0.7451\n",
      "Epoch 72/200\n",
      "863/863 [==============================] - 0s 99us/step - loss: 0.5179 - accuracy: 0.7428\n",
      "Epoch 73/200\n",
      "863/863 [==============================] - 0s 94us/step - loss: 0.5153 - accuracy: 0.7416\n",
      "Epoch 74/200\n",
      "863/863 [==============================] - 0s 95us/step - loss: 0.5167 - accuracy: 0.7370\n",
      "Epoch 75/200\n",
      "863/863 [==============================] - 0s 67us/step - loss: 0.5164 - accuracy: 0.7370\n",
      "Epoch 76/200\n",
      "863/863 [==============================] - 0s 76us/step - loss: 0.5158 - accuracy: 0.7335\n",
      "Epoch 77/200\n",
      "863/863 [==============================] - 0s 81us/step - loss: 0.5163 - accuracy: 0.7428\n",
      "Epoch 78/200\n",
      "863/863 [==============================] - 0s 77us/step - loss: 0.5142 - accuracy: 0.7509\n",
      "Epoch 79/200\n",
      "863/863 [==============================] - 0s 81us/step - loss: 0.5176 - accuracy: 0.7451\n",
      "Epoch 80/200\n",
      "863/863 [==============================] - 0s 81us/step - loss: 0.5108 - accuracy: 0.7532\n",
      "Epoch 81/200\n",
      "863/863 [==============================] - 0s 74us/step - loss: 0.5090 - accuracy: 0.7520\n",
      "Epoch 82/200\n",
      "863/863 [==============================] - 0s 72us/step - loss: 0.5100 - accuracy: 0.7462\n",
      "Epoch 83/200\n",
      "863/863 [==============================] - 0s 73us/step - loss: 0.5080 - accuracy: 0.7543\n",
      "Epoch 84/200\n",
      "863/863 [==============================] - 0s 82us/step - loss: 0.5133 - accuracy: 0.7439\n",
      "Epoch 85/200\n",
      "863/863 [==============================] - 0s 88us/step - loss: 0.5132 - accuracy: 0.7404\n",
      "Epoch 86/200\n",
      "863/863 [==============================] - 0s 82us/step - loss: 0.5113 - accuracy: 0.7393\n",
      "Epoch 87/200\n",
      "863/863 [==============================] - 0s 82us/step - loss: 0.5085 - accuracy: 0.7474\n",
      "Epoch 88/200\n",
      "863/863 [==============================] - 0s 81us/step - loss: 0.5052 - accuracy: 0.7497\n",
      "Epoch 89/200\n",
      "863/863 [==============================] - 0s 82us/step - loss: 0.5062 - accuracy: 0.7497\n",
      "Epoch 90/200\n",
      "863/863 [==============================] - 0s 70us/step - loss: 0.5053 - accuracy: 0.7532\n",
      "Epoch 91/200\n",
      "863/863 [==============================] - 0s 78us/step - loss: 0.5032 - accuracy: 0.7532\n",
      "Epoch 92/200\n",
      "863/863 [==============================] - 0s 80us/step - loss: 0.5023 - accuracy: 0.7532\n",
      "Epoch 93/200\n",
      "863/863 [==============================] - 0s 80us/step - loss: 0.5021 - accuracy: 0.7590\n",
      "Epoch 94/200\n",
      "863/863 [==============================] - 0s 74us/step - loss: 0.5025 - accuracy: 0.7462\n",
      "Epoch 95/200\n",
      "863/863 [==============================] - 0s 77us/step - loss: 0.4999 - accuracy: 0.7601\n",
      "Epoch 96/200\n",
      "863/863 [==============================] - 0s 78us/step - loss: 0.5106 - accuracy: 0.7393\n",
      "Epoch 97/200\n",
      "863/863 [==============================] - 0s 82us/step - loss: 0.5024 - accuracy: 0.7439\n",
      "Epoch 98/200\n",
      "863/863 [==============================] - 0s 71us/step - loss: 0.4991 - accuracy: 0.7601\n",
      "Epoch 99/200\n",
      "863/863 [==============================] - 0s 78us/step - loss: 0.4974 - accuracy: 0.7520\n",
      "Epoch 100/200\n",
      "863/863 [==============================] - 0s 89us/step - loss: 0.4972 - accuracy: 0.7613\n",
      "Epoch 101/200\n",
      "863/863 [==============================] - 0s 75us/step - loss: 0.5002 - accuracy: 0.7532\n",
      "Epoch 102/200\n",
      "863/863 [==============================] - 0s 116us/step - loss: 0.4968 - accuracy: 0.7578\n",
      "Epoch 103/200\n",
      "863/863 [==============================] - 0s 110us/step - loss: 0.4942 - accuracy: 0.7474\n",
      "Epoch 104/200\n",
      "863/863 [==============================] - 0s 102us/step - loss: 0.4989 - accuracy: 0.7509\n",
      "Epoch 105/200\n",
      "863/863 [==============================] - 0s 112us/step - loss: 0.4945 - accuracy: 0.7497\n",
      "Epoch 106/200\n",
      "863/863 [==============================] - 0s 114us/step - loss: 0.4957 - accuracy: 0.7567\n",
      "Epoch 107/200\n",
      "863/863 [==============================] - 0s 111us/step - loss: 0.4961 - accuracy: 0.7404\n",
      "Epoch 108/200\n",
      "863/863 [==============================] - 0s 110us/step - loss: 0.4926 - accuracy: 0.7567\n",
      "Epoch 109/200\n",
      "863/863 [==============================] - 0s 119us/step - loss: 0.4955 - accuracy: 0.7532\n",
      "Epoch 110/200\n",
      "863/863 [==============================] - 0s 102us/step - loss: 0.4953 - accuracy: 0.7555\n",
      "Epoch 111/200\n",
      "863/863 [==============================] - 0s 112us/step - loss: 0.4987 - accuracy: 0.7474\n",
      "Epoch 112/200\n",
      "863/863 [==============================] - 0s 116us/step - loss: 0.4925 - accuracy: 0.7532\n",
      "Epoch 113/200\n",
      "863/863 [==============================] - 0s 115us/step - loss: 0.4909 - accuracy: 0.7520\n",
      "Epoch 114/200\n",
      "863/863 [==============================] - 0s 112us/step - loss: 0.4906 - accuracy: 0.7532\n",
      "Epoch 115/200\n",
      "863/863 [==============================] - 0s 111us/step - loss: 0.4964 - accuracy: 0.7532\n",
      "Epoch 116/200\n",
      "863/863 [==============================] - 0s 112us/step - loss: 0.4901 - accuracy: 0.7555\n",
      "Epoch 117/200\n",
      "863/863 [==============================] - 0s 119us/step - loss: 0.4925 - accuracy: 0.7486\n",
      "Epoch 118/200\n",
      "863/863 [==============================] - 0s 117us/step - loss: 0.4895 - accuracy: 0.7497\n",
      "Epoch 119/200\n",
      "863/863 [==============================] - 0s 110us/step - loss: 0.4901 - accuracy: 0.7532\n",
      "Epoch 120/200\n",
      "863/863 [==============================] - 0s 105us/step - loss: 0.4895 - accuracy: 0.7625\n",
      "Epoch 121/200\n",
      "863/863 [==============================] - 0s 121us/step - loss: 0.4919 - accuracy: 0.7578\n",
      "Epoch 122/200\n",
      "863/863 [==============================] - 0s 106us/step - loss: 0.4881 - accuracy: 0.7567\n",
      "Epoch 123/200\n",
      "863/863 [==============================] - 0s 86us/step - loss: 0.4849 - accuracy: 0.7613\n",
      "Epoch 124/200\n",
      "863/863 [==============================] - 0s 76us/step - loss: 0.4849 - accuracy: 0.7625\n",
      "Epoch 125/200\n",
      "863/863 [==============================] - 0s 81us/step - loss: 0.4898 - accuracy: 0.7578\n",
      "Epoch 126/200\n",
      "863/863 [==============================] - 0s 115us/step - loss: 0.4892 - accuracy: 0.7590\n",
      "Epoch 127/200\n",
      "863/863 [==============================] - 0s 104us/step - loss: 0.4922 - accuracy: 0.7555\n",
      "Epoch 128/200\n",
      "863/863 [==============================] - 0s 112us/step - loss: 0.4892 - accuracy: 0.7613\n",
      "Epoch 129/200\n",
      "863/863 [==============================] - 0s 116us/step - loss: 0.4850 - accuracy: 0.7648\n",
      "Epoch 130/200\n",
      "863/863 [==============================] - 0s 113us/step - loss: 0.4908 - accuracy: 0.7590\n",
      "Epoch 131/200\n",
      "863/863 [==============================] - 0s 115us/step - loss: 0.4885 - accuracy: 0.7613\n",
      "Epoch 132/200\n",
      "863/863 [==============================] - 0s 78us/step - loss: 0.4860 - accuracy: 0.7543\n",
      "Epoch 133/200\n",
      "863/863 [==============================] - 0s 78us/step - loss: 0.4861 - accuracy: 0.7555\n",
      "Epoch 134/200\n",
      "863/863 [==============================] - 0s 101us/step - loss: 0.4851 - accuracy: 0.7567\n",
      "Epoch 135/200\n",
      "863/863 [==============================] - 0s 110us/step - loss: 0.4875 - accuracy: 0.7520\n",
      "Epoch 136/200\n",
      "863/863 [==============================] - 0s 91us/step - loss: 0.4841 - accuracy: 0.7659\n",
      "Epoch 137/200\n",
      "863/863 [==============================] - 0s 96us/step - loss: 0.4837 - accuracy: 0.7613\n",
      "Epoch 138/200\n",
      "863/863 [==============================] - 0s 93us/step - loss: 0.4831 - accuracy: 0.7601\n",
      "Epoch 139/200\n",
      "863/863 [==============================] - 0s 93us/step - loss: 0.4874 - accuracy: 0.7613\n",
      "Epoch 140/200\n",
      "863/863 [==============================] - 0s 87us/step - loss: 0.4831 - accuracy: 0.7648\n",
      "Epoch 141/200\n",
      "863/863 [==============================] - 0s 89us/step - loss: 0.4870 - accuracy: 0.7636\n",
      "Epoch 142/200\n",
      "863/863 [==============================] - 0s 103us/step - loss: 0.4833 - accuracy: 0.7601\n",
      "Epoch 143/200\n",
      "863/863 [==============================] - 0s 108us/step - loss: 0.4845 - accuracy: 0.7520\n",
      "Epoch 144/200\n",
      "863/863 [==============================] - 0s 99us/step - loss: 0.4842 - accuracy: 0.7671\n",
      "Epoch 145/200\n",
      "863/863 [==============================] - 0s 129us/step - loss: 0.4803 - accuracy: 0.7636\n",
      "Epoch 146/200\n",
      "863/863 [==============================] - 0s 115us/step - loss: 0.4832 - accuracy: 0.7543\n",
      "Epoch 147/200\n",
      "863/863 [==============================] - 0s 107us/step - loss: 0.4816 - accuracy: 0.7636\n",
      "Epoch 148/200\n",
      "863/863 [==============================] - 0s 112us/step - loss: 0.4822 - accuracy: 0.7648\n",
      "Epoch 149/200\n",
      "863/863 [==============================] - 0s 119us/step - loss: 0.4814 - accuracy: 0.7706\n",
      "Epoch 150/200\n",
      "863/863 [==============================] - 0s 116us/step - loss: 0.4806 - accuracy: 0.7601\n",
      "Epoch 151/200\n",
      "863/863 [==============================] - 0s 125us/step - loss: 0.4785 - accuracy: 0.7671\n",
      "Epoch 152/200\n",
      "863/863 [==============================] - 0s 118us/step - loss: 0.4802 - accuracy: 0.7636\n",
      "Epoch 153/200\n",
      "863/863 [==============================] - 0s 121us/step - loss: 0.4808 - accuracy: 0.7683\n",
      "Epoch 154/200\n",
      "863/863 [==============================] - 0s 126us/step - loss: 0.4784 - accuracy: 0.7613\n",
      "Epoch 155/200\n",
      "863/863 [==============================] - 0s 119us/step - loss: 0.4782 - accuracy: 0.7578\n",
      "Epoch 156/200\n",
      "863/863 [==============================] - 0s 96us/step - loss: 0.4790 - accuracy: 0.7555\n",
      "Epoch 157/200\n",
      "863/863 [==============================] - 0s 100us/step - loss: 0.4840 - accuracy: 0.7648\n",
      "Epoch 158/200\n"
     ]
    },
    {
     "name": "stdout",
     "output_type": "stream",
     "text": [
      "863/863 [==============================] - 0s 97us/step - loss: 0.4791 - accuracy: 0.7555\n",
      "Epoch 159/200\n",
      "863/863 [==============================] - 0s 94us/step - loss: 0.4785 - accuracy: 0.7543\n",
      "Epoch 160/200\n",
      "863/863 [==============================] - 0s 103us/step - loss: 0.4824 - accuracy: 0.7659\n",
      "Epoch 161/200\n",
      "863/863 [==============================] - 0s 98us/step - loss: 0.4826 - accuracy: 0.7555\n",
      "Epoch 162/200\n",
      "863/863 [==============================] - 0s 124us/step - loss: 0.4788 - accuracy: 0.7532\n",
      "Epoch 163/200\n",
      "863/863 [==============================] - 0s 124us/step - loss: 0.4771 - accuracy: 0.7590\n",
      "Epoch 164/200\n",
      "863/863 [==============================] - 0s 132us/step - loss: 0.4761 - accuracy: 0.7683\n",
      "Epoch 165/200\n",
      "863/863 [==============================] - 0s 124us/step - loss: 0.4734 - accuracy: 0.7636\n",
      "Epoch 166/200\n",
      "863/863 [==============================] - 0s 97us/step - loss: 0.4744 - accuracy: 0.7636\n",
      "Epoch 167/200\n",
      "863/863 [==============================] - 0s 83us/step - loss: 0.4763 - accuracy: 0.7613\n",
      "Epoch 168/200\n",
      "863/863 [==============================] - 0s 85us/step - loss: 0.4747 - accuracy: 0.7683\n",
      "Epoch 169/200\n",
      "863/863 [==============================] - 0s 84us/step - loss: 0.4742 - accuracy: 0.7567\n",
      "Epoch 170/200\n",
      "863/863 [==============================] - 0s 88us/step - loss: 0.4743 - accuracy: 0.7683\n",
      "Epoch 171/200\n",
      "863/863 [==============================] - 0s 80us/step - loss: 0.4731 - accuracy: 0.7694\n",
      "Epoch 172/200\n",
      "863/863 [==============================] - 0s 83us/step - loss: 0.4772 - accuracy: 0.7683\n",
      "Epoch 173/200\n",
      "863/863 [==============================] - 0s 117us/step - loss: 0.4799 - accuracy: 0.7717\n",
      "Epoch 174/200\n",
      "863/863 [==============================] - 0s 103us/step - loss: 0.4772 - accuracy: 0.7578\n",
      "Epoch 175/200\n",
      "863/863 [==============================] - 0s 93us/step - loss: 0.4754 - accuracy: 0.7694\n",
      "Epoch 176/200\n",
      "863/863 [==============================] - 0s 94us/step - loss: 0.4761 - accuracy: 0.7578\n",
      "Epoch 177/200\n",
      "863/863 [==============================] - 0s 97us/step - loss: 0.4781 - accuracy: 0.7671\n",
      "Epoch 178/200\n",
      "863/863 [==============================] - 0s 103us/step - loss: 0.4724 - accuracy: 0.7717\n",
      "Epoch 179/200\n",
      "863/863 [==============================] - 0s 118us/step - loss: 0.4725 - accuracy: 0.7613\n",
      "Epoch 180/200\n",
      "863/863 [==============================] - 0s 122us/step - loss: 0.4733 - accuracy: 0.7706\n",
      "Epoch 181/200\n",
      "863/863 [==============================] - 0s 124us/step - loss: 0.4833 - accuracy: 0.7439\n",
      "Epoch 182/200\n",
      "863/863 [==============================] - 0s 112us/step - loss: 0.4726 - accuracy: 0.7683\n",
      "Epoch 183/200\n",
      "863/863 [==============================] - 0s 91us/step - loss: 0.4681 - accuracy: 0.7636\n",
      "Epoch 184/200\n",
      "863/863 [==============================] - 0s 114us/step - loss: 0.4758 - accuracy: 0.7671\n",
      "Epoch 185/200\n",
      "863/863 [==============================] - 0s 115us/step - loss: 0.4707 - accuracy: 0.7659\n",
      "Epoch 186/200\n",
      "863/863 [==============================] - 0s 115us/step - loss: 0.4696 - accuracy: 0.7798\n",
      "Epoch 187/200\n",
      "863/863 [==============================] - 0s 143us/step - loss: 0.4745 - accuracy: 0.7601\n",
      "Epoch 188/200\n",
      "863/863 [==============================] - 0s 102us/step - loss: 0.4700 - accuracy: 0.7717\n",
      "Epoch 189/200\n",
      "863/863 [==============================] - 0s 95us/step - loss: 0.4765 - accuracy: 0.7648\n",
      "Epoch 190/200\n",
      "863/863 [==============================] - 0s 94us/step - loss: 0.4758 - accuracy: 0.7636\n",
      "Epoch 191/200\n",
      "863/863 [==============================] - 0s 108us/step - loss: 0.4732 - accuracy: 0.7520\n",
      "Epoch 192/200\n",
      "863/863 [==============================] - 0s 108us/step - loss: 0.4696 - accuracy: 0.7764\n",
      "Epoch 193/200\n",
      "863/863 [==============================] - 0s 84us/step - loss: 0.4692 - accuracy: 0.7578\n",
      "Epoch 194/200\n",
      "863/863 [==============================] - 0s 90us/step - loss: 0.4746 - accuracy: 0.7683\n",
      "Epoch 195/200\n",
      "863/863 [==============================] - 0s 89us/step - loss: 0.4663 - accuracy: 0.7717\n",
      "Epoch 196/200\n",
      "863/863 [==============================] - 0s 88us/step - loss: 0.4690 - accuracy: 0.7659\n",
      "Epoch 197/200\n",
      "863/863 [==============================] - 0s 76us/step - loss: 0.4717 - accuracy: 0.7717\n",
      "Epoch 198/200\n",
      "863/863 [==============================] - 0s 116us/step - loss: 0.4643 - accuracy: 0.7740\n",
      "Epoch 199/200\n",
      "863/863 [==============================] - 0s 115us/step - loss: 0.4776 - accuracy: 0.7625\n",
      "Epoch 200/200\n",
      "863/863 [==============================] - 0s 111us/step - loss: 0.4712 - accuracy: 0.7636\n"
     ]
    },
    {
     "data": {
      "text/plain": [
       "<keras.callbacks.callbacks.History at 0x21c6b27aba8>"
      ]
     },
     "execution_count": 122,
     "metadata": {},
     "output_type": "execute_result"
    }
   ],
   "source": [
    "#fitting the model \n",
    "\n",
    "model.fit(X_train, y_train, epochs = 200, batch_size = 20)"
   ]
  },
  {
   "cell_type": "code",
   "execution_count": 123,
   "metadata": {
    "colab": {
     "base_uri": "https://localhost:8080/",
     "height": 118
    },
    "colab_type": "code",
    "id": "Cwhp6gTrjSeO",
    "outputId": "73b5e722-846e-4d0c-9f57-429d99e28929",
    "scrolled": true
   },
   "outputs": [
    {
     "name": "stdout",
     "output_type": "stream",
     "text": [
      "863/863 [==============================] - 0s 67us/step\n",
      "train accuracy \n",
      "accuracy: 76.71%\n",
      "288/288 [==============================] - 0s 27us/step\n",
      "test accuracy \n",
      "accuracy: 70.83%\n"
     ]
    }
   ],
   "source": [
    "# evaluating the model\n",
    "\n",
    "score_1 = model.evaluate(X_train, y_train)\n",
    "print(\"train accuracy \\n%s: %.2f%%\" % (model.metrics_names[1], score_1[1]*100))\n",
    "\n",
    "scores = model.evaluate(X_test, y_test)\n",
    "print(\"test accuracy \\n%s: %.2f%%\" % (model.metrics_names[1], scores[1]*100))"
   ]
  },
  {
   "cell_type": "code",
   "execution_count": 124,
   "metadata": {
    "colab": {
     "base_uri": "https://localhost:8080/",
     "height": 168
    },
    "colab_type": "code",
    "id": "XPBBhB1PjuxN",
    "outputId": "1b10864d-7b27-4b26-90d3-422f520a15f0",
    "scrolled": false
   },
   "outputs": [
    {
     "name": "stdout",
     "output_type": "stream",
     "text": [
      "              precision    recall  f1-score   support\n",
      "\n",
      "           0       0.63      0.83      0.72       128\n",
      "           1       0.82      0.61      0.70       160\n",
      "\n",
      "    accuracy                           0.71       288\n",
      "   macro avg       0.72      0.72      0.71       288\n",
      "weighted avg       0.73      0.71      0.71       288\n",
      "\n"
     ]
    },
    {
     "data": {
      "text/html": [
       "<div>\n",
       "<style scoped>\n",
       "    .dataframe tbody tr th:only-of-type {\n",
       "        vertical-align: middle;\n",
       "    }\n",
       "\n",
       "    .dataframe tbody tr th {\n",
       "        vertical-align: top;\n",
       "    }\n",
       "\n",
       "    .dataframe thead th {\n",
       "        text-align: right;\n",
       "    }\n",
       "</style>\n",
       "<table border=\"1\" class=\"dataframe\">\n",
       "  <thead>\n",
       "    <tr style=\"text-align: right;\">\n",
       "      <th></th>\n",
       "      <th>0</th>\n",
       "    </tr>\n",
       "  </thead>\n",
       "  <tbody>\n",
       "    <tr>\n",
       "      <th>confusion_matrix</th>\n",
       "      <td>[[106, 22], [62, 98]]</td>\n",
       "    </tr>\n",
       "    <tr>\n",
       "      <th>classification_report</th>\n",
       "      <td>precision    recall  f1-score   ...</td>\n",
       "    </tr>\n",
       "  </tbody>\n",
       "</table>\n",
       "</div>"
      ],
      "text/plain": [
       "                                                                       0\n",
       "confusion_matrix                                   [[106, 22], [62, 98]]\n",
       "classification_report                precision    recall  f1-score   ..."
      ]
     },
     "execution_count": 124,
     "metadata": {},
     "output_type": "execute_result"
    }
   ],
   "source": [
    "#calling out the score function\n",
    "\n",
    "score_func(y_test,model.predict(X_test).round())"
   ]
  },
  {
   "cell_type": "code",
   "execution_count": 95,
   "metadata": {
    "colab": {
     "base_uri": "https://localhost:8080/",
     "height": 1000
    },
    "colab_type": "code",
    "id": "pQtVAGEZk2C3",
    "outputId": "931caf9e-6d50-4806-fccc-ed121a65729c"
   },
   "outputs": [
    {
     "name": "stdout",
     "output_type": "stream",
     "text": [
      "WARNING:tensorflow:From C:\\Users\\aayushhingar\\anaconda3\\lib\\site-packages\\keras\\backend\\tensorflow_backend.py:64: The name tf.get_default_graph is deprecated. Please use tf.compat.v1.get_default_graph instead.\n",
      "\n",
      "WARNING:tensorflow:From C:\\Users\\aayushhingar\\anaconda3\\lib\\site-packages\\keras\\backend\\tensorflow_backend.py:497: The name tf.placeholder is deprecated. Please use tf.compat.v1.placeholder instead.\n",
      "\n",
      "WARNING:tensorflow:From C:\\Users\\aayushhingar\\anaconda3\\lib\\site-packages\\keras\\backend\\tensorflow_backend.py:3636: The name tf.random_uniform is deprecated. Please use tf.random.uniform instead.\n",
      "\n",
      "WARNING:tensorflow:From C:\\Users\\aayushhingar\\anaconda3\\lib\\site-packages\\keras\\optimizers.py:711: The name tf.train.Optimizer is deprecated. Please use tf.compat.v1.train.Optimizer instead.\n",
      "\n",
      "WARNING:tensorflow:From C:\\Users\\aayushhingar\\anaconda3\\lib\\site-packages\\keras\\backend\\tensorflow_backend.py:2950: The name tf.log is deprecated. Please use tf.math.log instead.\n",
      "\n",
      "WARNING:tensorflow:From C:\\Users\\aayushhingar\\anaconda3\\lib\\site-packages\\tensorflow\\python\\ops\\nn_impl.py:180: add_dispatch_support.<locals>.wrapper (from tensorflow.python.ops.array_ops) is deprecated and will be removed in a future version.\n",
      "Instructions for updating:\n",
      "Use tf.where in 2.0, which has the same broadcast rule as np.where\n",
      "WARNING:tensorflow:From C:\\Users\\aayushhingar\\anaconda3\\lib\\site-packages\\keras\\backend\\tensorflow_backend.py:958: The name tf.assign_add is deprecated. Please use tf.compat.v1.assign_add instead.\n",
      "\n",
      "WARNING:tensorflow:From C:\\Users\\aayushhingar\\anaconda3\\lib\\site-packages\\keras\\backend\\tensorflow_backend.py:680: calling Constant.__init__ (from tensorflow.python.ops.init_ops) with dtype is deprecated and will be removed in a future version.\n",
      "Instructions for updating:\n",
      "Call initializer instance with the dtype argument instead of passing it to the constructor\n",
      "Epoch 1/200\n",
      "50/50 [==============================] - 0s 5ms/step - loss: 0.7159 - acc: 0.3200\n",
      "Epoch 2/200\n",
      "50/50 [==============================] - 0s 120us/step - loss: 0.7126 - acc: 0.3200\n",
      "Epoch 3/200\n",
      "50/50 [==============================] - 0s 100us/step - loss: 0.7091 - acc: 0.3400\n",
      "Epoch 4/200\n",
      "50/50 [==============================] - 0s 120us/step - loss: 0.7054 - acc: 0.3600\n",
      "Epoch 5/200\n",
      "50/50 [==============================] - 0s 160us/step - loss: 0.7026 - acc: 0.4600\n",
      "Epoch 6/200\n",
      "50/50 [==============================] - 0s 120us/step - loss: 0.7001 - acc: 0.4800\n",
      "Epoch 7/200\n",
      "50/50 [==============================] - 0s 140us/step - loss: 0.6970 - acc: 0.5000\n",
      "Epoch 8/200\n",
      "50/50 [==============================] - 0s 100us/step - loss: 0.6948 - acc: 0.5000\n",
      "Epoch 9/200\n",
      "50/50 [==============================] - 0s 120us/step - loss: 0.6923 - acc: 0.5800\n",
      "Epoch 10/200\n",
      "50/50 [==============================] - 0s 120us/step - loss: 0.6896 - acc: 0.5600\n",
      "Epoch 11/200\n",
      "50/50 [==============================] - 0s 160us/step - loss: 0.6874 - acc: 0.5600\n",
      "Epoch 12/200\n",
      "50/50 [==============================] - 0s 120us/step - loss: 0.6851 - acc: 0.5600\n",
      "Epoch 13/200\n",
      "50/50 [==============================] - 0s 100us/step - loss: 0.6829 - acc: 0.6600\n",
      "Epoch 14/200\n",
      "50/50 [==============================] - 0s 120us/step - loss: 0.6803 - acc: 0.6800\n",
      "Epoch 15/200\n",
      "50/50 [==============================] - 0s 160us/step - loss: 0.6780 - acc: 0.6800\n",
      "Epoch 16/200\n",
      "50/50 [==============================] - 0s 100us/step - loss: 0.6755 - acc: 0.7600\n",
      "Epoch 17/200\n",
      "50/50 [==============================] - 0s 120us/step - loss: 0.6735 - acc: 0.7600\n",
      "Epoch 18/200\n",
      "50/50 [==============================] - 0s 100us/step - loss: 0.6710 - acc: 0.7800\n",
      "Epoch 19/200\n",
      "50/50 [==============================] - 0s 160us/step - loss: 0.6688 - acc: 0.7400\n",
      "Epoch 20/200\n",
      "50/50 [==============================] - 0s 120us/step - loss: 0.6669 - acc: 0.7200\n",
      "Epoch 21/200\n",
      "50/50 [==============================] - 0s 120us/step - loss: 0.6648 - acc: 0.7200\n",
      "Epoch 22/200\n",
      "50/50 [==============================] - 0s 120us/step - loss: 0.6632 - acc: 0.7200\n",
      "Epoch 23/200\n",
      "50/50 [==============================] - 0s 100us/step - loss: 0.6612 - acc: 0.7200\n",
      "Epoch 24/200\n",
      "50/50 [==============================] - 0s 200us/step - loss: 0.6595 - acc: 0.7200\n",
      "Epoch 25/200\n",
      "50/50 [==============================] - 0s 160us/step - loss: 0.6575 - acc: 0.7200\n",
      "Epoch 26/200\n",
      "50/50 [==============================] - 0s 120us/step - loss: 0.6554 - acc: 0.7200\n",
      "Epoch 27/200\n",
      "50/50 [==============================] - 0s 100us/step - loss: 0.6536 - acc: 0.7200\n",
      "Epoch 28/200\n",
      "50/50 [==============================] - 0s 180us/step - loss: 0.6520 - acc: 0.7200\n",
      "Epoch 29/200\n",
      "50/50 [==============================] - 0s 100us/step - loss: 0.6503 - acc: 0.7200\n",
      "Epoch 30/200\n",
      "50/50 [==============================] - 0s 120us/step - loss: 0.6484 - acc: 0.7200\n",
      "Epoch 31/200\n",
      "50/50 [==============================] - 0s 100us/step - loss: 0.6469 - acc: 0.7200\n",
      "Epoch 32/200\n",
      "50/50 [==============================] - 0s 120us/step - loss: 0.6451 - acc: 0.7200\n",
      "Epoch 33/200\n",
      "50/50 [==============================] - 0s 140us/step - loss: 0.6437 - acc: 0.7200\n",
      "Epoch 34/200\n",
      "50/50 [==============================] - 0s 180us/step - loss: 0.6419 - acc: 0.7200\n",
      "Epoch 35/200\n",
      "50/50 [==============================] - 0s 120us/step - loss: 0.6406 - acc: 0.7200\n",
      "Epoch 36/200\n",
      "50/50 [==============================] - 0s 100us/step - loss: 0.6388 - acc: 0.7200\n",
      "Epoch 37/200\n",
      "50/50 [==============================] - 0s 100us/step - loss: 0.6375 - acc: 0.7200\n",
      "Epoch 38/200\n",
      "50/50 [==============================] - 0s 160us/step - loss: 0.6361 - acc: 0.7200\n",
      "Epoch 39/200\n",
      "50/50 [==============================] - 0s 120us/step - loss: 0.6341 - acc: 0.7200\n",
      "Epoch 40/200\n",
      "50/50 [==============================] - 0s 140us/step - loss: 0.6328 - acc: 0.7200\n",
      "Epoch 41/200\n",
      "50/50 [==============================] - 0s 120us/step - loss: 0.6311 - acc: 0.7200\n",
      "Epoch 42/200\n",
      "50/50 [==============================] - 0s 120us/step - loss: 0.6299 - acc: 0.7200\n",
      "Epoch 43/200\n",
      "50/50 [==============================] - 0s 160us/step - loss: 0.6281 - acc: 0.7200\n",
      "Epoch 44/200\n",
      "50/50 [==============================] - 0s 140us/step - loss: 0.6261 - acc: 0.7200\n",
      "Epoch 45/200\n",
      "50/50 [==============================] - 0s 160us/step - loss: 0.6247 - acc: 0.7200\n",
      "Epoch 46/200\n",
      "50/50 [==============================] - 0s 120us/step - loss: 0.6228 - acc: 0.7200\n",
      "Epoch 47/200\n",
      "50/50 [==============================] - 0s 120us/step - loss: 0.6210 - acc: 0.7200\n",
      "Epoch 48/200\n",
      "50/50 [==============================] - 0s 120us/step - loss: 0.6189 - acc: 0.7200\n",
      "Epoch 49/200\n",
      "50/50 [==============================] - 0s 160us/step - loss: 0.6172 - acc: 0.7200\n",
      "Epoch 50/200\n",
      "50/50 [==============================] - 0s 120us/step - loss: 0.6149 - acc: 0.7200\n",
      "Epoch 51/200\n",
      "50/50 [==============================] - 0s 100us/step - loss: 0.6131 - acc: 0.7200\n",
      "Epoch 52/200\n",
      "50/50 [==============================] - 0s 120us/step - loss: 0.6101 - acc: 0.7200\n",
      "Epoch 53/200\n",
      "50/50 [==============================] - 0s 140us/step - loss: 0.6082 - acc: 0.7200\n",
      "Epoch 54/200\n",
      "50/50 [==============================] - 0s 100us/step - loss: 0.6067 - acc: 0.7200\n",
      "Epoch 55/200\n",
      "50/50 [==============================] - 0s 120us/step - loss: 0.6044 - acc: 0.7200\n",
      "Epoch 56/200\n",
      "50/50 [==============================] - 0s 160us/step - loss: 0.6036 - acc: 0.7200\n",
      "Epoch 57/200\n",
      "50/50 [==============================] - 0s 120us/step - loss: 0.6024 - acc: 0.7200\n",
      "Epoch 58/200\n",
      "50/50 [==============================] - 0s 140us/step - loss: 0.6012 - acc: 0.7200\n",
      "Epoch 59/200\n",
      "50/50 [==============================] - 0s 140us/step - loss: 0.6003 - acc: 0.7200\n",
      "Epoch 60/200\n",
      "50/50 [==============================] - 0s 140us/step - loss: 0.5994 - acc: 0.7200\n",
      "Epoch 61/200\n",
      "50/50 [==============================] - 0s 120us/step - loss: 0.5995 - acc: 0.7200\n",
      "Epoch 62/200\n",
      "50/50 [==============================] - 0s 160us/step - loss: 0.5980 - acc: 0.7200\n",
      "Epoch 63/200\n",
      "50/50 [==============================] - 0s 140us/step - loss: 0.5973 - acc: 0.7200\n",
      "Epoch 64/200\n",
      "50/50 [==============================] - 0s 120us/step - loss: 0.5969 - acc: 0.7200\n",
      "Epoch 65/200\n",
      "50/50 [==============================] - 0s 120us/step - loss: 0.5963 - acc: 0.7200\n",
      "Epoch 66/200\n"
     ]
    },
    {
     "name": "stdout",
     "output_type": "stream",
     "text": [
      "50/50 [==============================] - 0s 160us/step - loss: 0.5956 - acc: 0.7200\n",
      "Epoch 67/200\n",
      "50/50 [==============================] - 0s 120us/step - loss: 0.5950 - acc: 0.7200\n",
      "Epoch 68/200\n",
      "50/50 [==============================] - 0s 140us/step - loss: 0.5946 - acc: 0.7200\n",
      "Epoch 69/200\n",
      "50/50 [==============================] - 0s 160us/step - loss: 0.5943 - acc: 0.7200\n",
      "Epoch 70/200\n",
      "50/50 [==============================] - 0s 140us/step - loss: 0.5938 - acc: 0.7200\n",
      "Epoch 71/200\n",
      "50/50 [==============================] - 0s 160us/step - loss: 0.5933 - acc: 0.7200\n",
      "Epoch 72/200\n",
      "50/50 [==============================] - 0s 140us/step - loss: 0.5930 - acc: 0.7200\n",
      "Epoch 73/200\n",
      "50/50 [==============================] - 0s 140us/step - loss: 0.5926 - acc: 0.7200\n",
      "Epoch 74/200\n",
      "50/50 [==============================] - 0s 120us/step - loss: 0.5923 - acc: 0.7200\n",
      "Epoch 75/200\n",
      "50/50 [==============================] - 0s 120us/step - loss: 0.5918 - acc: 0.7200\n",
      "Epoch 76/200\n",
      "50/50 [==============================] - 0s 100us/step - loss: 0.5920 - acc: 0.7200\n",
      "Epoch 77/200\n",
      "50/50 [==============================] - 0s 140us/step - loss: 0.5911 - acc: 0.7200\n",
      "Epoch 78/200\n",
      "50/50 [==============================] - 0s 100us/step - loss: 0.5910 - acc: 0.7200\n",
      "Epoch 79/200\n",
      "50/50 [==============================] - 0s 160us/step - loss: 0.5906 - acc: 0.7200\n",
      "Epoch 80/200\n",
      "50/50 [==============================] - 0s 120us/step - loss: 0.5903 - acc: 0.7200\n",
      "Epoch 81/200\n",
      "50/50 [==============================] - ETA: 0s - loss: 0.6791 - acc: 0.600 - 0s 140us/step - loss: 0.5900 - acc: 0.7200\n",
      "Epoch 82/200\n",
      "50/50 [==============================] - 0s 100us/step - loss: 0.5896 - acc: 0.7200\n",
      "Epoch 83/200\n",
      "50/50 [==============================] - 0s 120us/step - loss: 0.5895 - acc: 0.7200\n",
      "Epoch 84/200\n",
      "50/50 [==============================] - 0s 120us/step - loss: 0.5893 - acc: 0.7200\n",
      "Epoch 85/200\n",
      "50/50 [==============================] - 0s 140us/step - loss: 0.5890 - acc: 0.7200\n",
      "Epoch 86/200\n",
      "50/50 [==============================] - 0s 120us/step - loss: 0.5885 - acc: 0.7200\n",
      "Epoch 87/200\n",
      "50/50 [==============================] - 0s 140us/step - loss: 0.5882 - acc: 0.7200\n",
      "Epoch 88/200\n",
      "50/50 [==============================] - 0s 120us/step - loss: 0.5882 - acc: 0.7200\n",
      "Epoch 89/200\n",
      "50/50 [==============================] - 0s 140us/step - loss: 0.5876 - acc: 0.7200\n",
      "Epoch 90/200\n",
      "50/50 [==============================] - 0s 140us/step - loss: 0.5873 - acc: 0.7200\n",
      "Epoch 91/200\n",
      "50/50 [==============================] - 0s 160us/step - loss: 0.5871 - acc: 0.7200\n",
      "Epoch 92/200\n",
      "50/50 [==============================] - 0s 100us/step - loss: 0.5868 - acc: 0.7200\n",
      "Epoch 93/200\n",
      "50/50 [==============================] - 0s 160us/step - loss: 0.5865 - acc: 0.7200\n",
      "Epoch 94/200\n",
      "50/50 [==============================] - 0s 120us/step - loss: 0.5863 - acc: 0.7200\n",
      "Epoch 95/200\n",
      "50/50 [==============================] - 0s 140us/step - loss: 0.5860 - acc: 0.7200\n",
      "Epoch 96/200\n",
      "50/50 [==============================] - 0s 120us/step - loss: 0.5859 - acc: 0.7200\n",
      "Epoch 97/200\n",
      "50/50 [==============================] - 0s 160us/step - loss: 0.5857 - acc: 0.7200\n",
      "Epoch 98/200\n",
      "50/50 [==============================] - 0s 100us/step - loss: 0.5855 - acc: 0.7200\n",
      "Epoch 99/200\n",
      "50/50 [==============================] - 0s 140us/step - loss: 0.5851 - acc: 0.7200\n",
      "Epoch 100/200\n",
      "50/50 [==============================] - 0s 120us/step - loss: 0.5850 - acc: 0.7200\n",
      "Epoch 101/200\n",
      "50/50 [==============================] - 0s 120us/step - loss: 0.5847 - acc: 0.7200\n",
      "Epoch 102/200\n",
      "50/50 [==============================] - 0s 120us/step - loss: 0.5846 - acc: 0.7200\n",
      "Epoch 103/200\n",
      "50/50 [==============================] - 0s 140us/step - loss: 0.5844 - acc: 0.7200\n",
      "Epoch 104/200\n",
      "50/50 [==============================] - 0s 120us/step - loss: 0.5842 - acc: 0.7200\n",
      "Epoch 105/200\n",
      "50/50 [==============================] - 0s 160us/step - loss: 0.5839 - acc: 0.7200\n",
      "Epoch 106/200\n",
      "50/50 [==============================] - 0s 120us/step - loss: 0.5838 - acc: 0.7200\n",
      "Epoch 107/200\n",
      "50/50 [==============================] - 0s 120us/step - loss: 0.5837 - acc: 0.7200\n",
      "Epoch 108/200\n",
      "50/50 [==============================] - 0s 140us/step - loss: 0.5835 - acc: 0.7200\n",
      "Epoch 109/200\n",
      "50/50 [==============================] - 0s 120us/step - loss: 0.5834 - acc: 0.7200\n",
      "Epoch 110/200\n",
      "50/50 [==============================] - 0s 100us/step - loss: 0.5831 - acc: 0.7200\n",
      "Epoch 111/200\n",
      "50/50 [==============================] - 0s 140us/step - loss: 0.5829 - acc: 0.7200\n",
      "Epoch 112/200\n",
      "50/50 [==============================] - 0s 140us/step - loss: 0.5827 - acc: 0.7200\n",
      "Epoch 113/200\n",
      "50/50 [==============================] - 0s 120us/step - loss: 0.5825 - acc: 0.7200\n",
      "Epoch 114/200\n",
      "50/50 [==============================] - 0s 160us/step - loss: 0.5823 - acc: 0.7200\n",
      "Epoch 115/200\n",
      "50/50 [==============================] - 0s 120us/step - loss: 0.5822 - acc: 0.7200\n",
      "Epoch 116/200\n",
      "50/50 [==============================] - 0s 120us/step - loss: 0.5821 - acc: 0.7200\n",
      "Epoch 117/200\n",
      "50/50 [==============================] - 0s 140us/step - loss: 0.5818 - acc: 0.7200\n",
      "Epoch 118/200\n",
      "50/50 [==============================] - 0s 140us/step - loss: 0.5816 - acc: 0.7200\n",
      "Epoch 119/200\n",
      "50/50 [==============================] - 0s 140us/step - loss: 0.5814 - acc: 0.7200\n",
      "Epoch 120/200\n",
      "50/50 [==============================] - 0s 100us/step - loss: 0.5813 - acc: 0.7200\n",
      "Epoch 121/200\n",
      "50/50 [==============================] - 0s 120us/step - loss: 0.5811 - acc: 0.7200\n",
      "Epoch 122/200\n",
      "50/50 [==============================] - 0s 180us/step - loss: 0.5810 - acc: 0.7200\n",
      "Epoch 123/200\n",
      "50/50 [==============================] - 0s 120us/step - loss: 0.5807 - acc: 0.7200\n",
      "Epoch 124/200\n",
      "50/50 [==============================] - 0s 120us/step - loss: 0.5805 - acc: 0.7200\n",
      "Epoch 125/200\n",
      "50/50 [==============================] - 0s 140us/step - loss: 0.5805 - acc: 0.7200\n",
      "Epoch 126/200\n",
      "50/50 [==============================] - 0s 100us/step - loss: 0.5804 - acc: 0.7200\n",
      "Epoch 127/200\n",
      "50/50 [==============================] - 0s 140us/step - loss: 0.5801 - acc: 0.7200\n",
      "Epoch 128/200\n",
      "50/50 [==============================] - 0s 120us/step - loss: 0.5801 - acc: 0.7200\n",
      "Epoch 129/200\n",
      "50/50 [==============================] - 0s 120us/step - loss: 0.5799 - acc: 0.7200\n",
      "Epoch 130/200\n",
      "50/50 [==============================] - 0s 240us/step - loss: 0.5800 - acc: 0.7200\n",
      "Epoch 131/200\n",
      "50/50 [==============================] - 0s 200us/step - loss: 0.5798 - acc: 0.7200\n",
      "Epoch 132/200\n",
      "50/50 [==============================] - 0s 160us/step - loss: 0.5797 - acc: 0.7200\n",
      "Epoch 133/200\n",
      "50/50 [==============================] - 0s 140us/step - loss: 0.5794 - acc: 0.7200\n",
      "Epoch 134/200\n",
      "50/50 [==============================] - 0s 100us/step - loss: 0.5794 - acc: 0.7200\n",
      "Epoch 135/200\n",
      "50/50 [==============================] - 0s 120us/step - loss: 0.5792 - acc: 0.7200\n",
      "Epoch 136/200\n",
      "50/50 [==============================] - 0s 140us/step - loss: 0.5790 - acc: 0.7200\n",
      "Epoch 137/200\n",
      "50/50 [==============================] - 0s 180us/step - loss: 0.5789 - acc: 0.7200\n",
      "Epoch 138/200\n",
      "50/50 [==============================] - 0s 180us/step - loss: 0.5787 - acc: 0.7200\n",
      "Epoch 139/200\n",
      "50/50 [==============================] - 0s 140us/step - loss: 0.5787 - acc: 0.7200\n",
      "Epoch 140/200\n",
      "50/50 [==============================] - 0s 120us/step - loss: 0.5784 - acc: 0.7200\n",
      "Epoch 141/200\n",
      "50/50 [==============================] - 0s 140us/step - loss: 0.5782 - acc: 0.7200\n",
      "Epoch 142/200\n",
      "50/50 [==============================] - 0s 140us/step - loss: 0.5781 - acc: 0.7200\n",
      "Epoch 143/200\n",
      "50/50 [==============================] - 0s 120us/step - loss: 0.5782 - acc: 0.7200\n",
      "Epoch 144/200\n",
      "50/50 [==============================] - 0s 120us/step - loss: 0.5783 - acc: 0.7200\n",
      "Epoch 145/200\n",
      "50/50 [==============================] - 0s 140us/step - loss: 0.5781 - acc: 0.7200\n",
      "Epoch 146/200\n",
      "50/50 [==============================] - 0s 120us/step - loss: 0.5781 - acc: 0.7200\n",
      "Epoch 147/200\n",
      "50/50 [==============================] - 0s 120us/step - loss: 0.5780 - acc: 0.7200\n",
      "Epoch 148/200\n",
      "50/50 [==============================] - 0s 160us/step - loss: 0.5777 - acc: 0.7200\n",
      "Epoch 149/200\n"
     ]
    },
    {
     "name": "stdout",
     "output_type": "stream",
     "text": [
      "50/50 [==============================] - 0s 120us/step - loss: 0.5775 - acc: 0.7200\n",
      "Epoch 150/200\n",
      "50/50 [==============================] - 0s 160us/step - loss: 0.5773 - acc: 0.7200\n",
      "Epoch 151/200\n",
      "50/50 [==============================] - 0s 160us/step - loss: 0.5774 - acc: 0.7200\n",
      "Epoch 152/200\n",
      "50/50 [==============================] - 0s 120us/step - loss: 0.5771 - acc: 0.7200\n",
      "Epoch 153/200\n",
      "50/50 [==============================] - 0s 140us/step - loss: 0.5769 - acc: 0.7200\n",
      "Epoch 154/200\n",
      "50/50 [==============================] - 0s 160us/step - loss: 0.5768 - acc: 0.7200\n",
      "Epoch 155/200\n",
      "50/50 [==============================] - 0s 120us/step - loss: 0.5767 - acc: 0.7200\n",
      "Epoch 156/200\n",
      "50/50 [==============================] - 0s 160us/step - loss: 0.5766 - acc: 0.7200\n",
      "Epoch 157/200\n",
      "50/50 [==============================] - 0s 140us/step - loss: 0.5765 - acc: 0.7200\n",
      "Epoch 158/200\n",
      "50/50 [==============================] - 0s 160us/step - loss: 0.5764 - acc: 0.7200\n",
      "Epoch 159/200\n",
      "50/50 [==============================] - 0s 120us/step - loss: 0.5761 - acc: 0.7200\n",
      "Epoch 160/200\n",
      "50/50 [==============================] - 0s 120us/step - loss: 0.5761 - acc: 0.7200\n",
      "Epoch 161/200\n",
      "50/50 [==============================] - 0s 180us/step - loss: 0.5759 - acc: 0.7200\n",
      "Epoch 162/200\n",
      "50/50 [==============================] - 0s 120us/step - loss: 0.5759 - acc: 0.7200\n",
      "Epoch 163/200\n",
      "50/50 [==============================] - 0s 140us/step - loss: 0.5756 - acc: 0.7200\n",
      "Epoch 164/200\n",
      "50/50 [==============================] - 0s 140us/step - loss: 0.5755 - acc: 0.7200\n",
      "Epoch 165/200\n",
      "50/50 [==============================] - 0s 140us/step - loss: 0.5754 - acc: 0.7200\n",
      "Epoch 166/200\n",
      "50/50 [==============================] - 0s 120us/step - loss: 0.5754 - acc: 0.7200\n",
      "Epoch 167/200\n",
      "50/50 [==============================] - 0s 160us/step - loss: 0.5753 - acc: 0.7200\n",
      "Epoch 168/200\n",
      "50/50 [==============================] - 0s 120us/step - loss: 0.5750 - acc: 0.7200\n",
      "Epoch 169/200\n",
      "50/50 [==============================] - 0s 140us/step - loss: 0.5749 - acc: 0.7200\n",
      "Epoch 170/200\n",
      "50/50 [==============================] - 0s 180us/step - loss: 0.5748 - acc: 0.7200\n",
      "Epoch 171/200\n",
      "50/50 [==============================] - 0s 120us/step - loss: 0.5747 - acc: 0.7200\n",
      "Epoch 172/200\n",
      "50/50 [==============================] - 0s 120us/step - loss: 0.5747 - acc: 0.7200\n",
      "Epoch 173/200\n",
      "50/50 [==============================] - 0s 120us/step - loss: 0.5745 - acc: 0.7200\n",
      "Epoch 174/200\n",
      "50/50 [==============================] - 0s 120us/step - loss: 0.5744 - acc: 0.7200\n",
      "Epoch 175/200\n",
      "50/50 [==============================] - 0s 100us/step - loss: 0.5743 - acc: 0.7200\n",
      "Epoch 176/200\n",
      "50/50 [==============================] - 0s 180us/step - loss: 0.5742 - acc: 0.7200\n",
      "Epoch 177/200\n",
      "50/50 [==============================] - 0s 140us/step - loss: 0.5740 - acc: 0.7200\n",
      "Epoch 178/200\n",
      "50/50 [==============================] - 0s 100us/step - loss: 0.5739 - acc: 0.7200\n",
      "Epoch 179/200\n",
      "50/50 [==============================] - 0s 100us/step - loss: 0.5739 - acc: 0.7200\n",
      "Epoch 180/200\n",
      "50/50 [==============================] - 0s 140us/step - loss: 0.5736 - acc: 0.7200\n",
      "Epoch 181/200\n",
      "50/50 [==============================] - 0s 140us/step - loss: 0.5735 - acc: 0.7200\n",
      "Epoch 182/200\n",
      "50/50 [==============================] - 0s 100us/step - loss: 0.5733 - acc: 0.7200\n",
      "Epoch 183/200\n",
      "50/50 [==============================] - 0s 120us/step - loss: 0.5732 - acc: 0.7200\n",
      "Epoch 184/200\n",
      "50/50 [==============================] - 0s 140us/step - loss: 0.5732 - acc: 0.7200\n",
      "Epoch 185/200\n",
      "50/50 [==============================] - 0s 140us/step - loss: 0.5730 - acc: 0.7200\n",
      "Epoch 186/200\n",
      "50/50 [==============================] - 0s 140us/step - loss: 0.5729 - acc: 0.7200\n",
      "Epoch 187/200\n",
      "50/50 [==============================] - 0s 140us/step - loss: 0.5728 - acc: 0.7200\n",
      "Epoch 188/200\n",
      "50/50 [==============================] - 0s 120us/step - loss: 0.5728 - acc: 0.7200\n",
      "Epoch 189/200\n",
      "50/50 [==============================] - 0s 120us/step - loss: 0.5728 - acc: 0.7200\n",
      "Epoch 190/200\n",
      "50/50 [==============================] - 0s 140us/step - loss: 0.5725 - acc: 0.7200\n",
      "Epoch 191/200\n",
      "50/50 [==============================] - 0s 120us/step - loss: 0.5723 - acc: 0.7200\n",
      "Epoch 192/200\n",
      "50/50 [==============================] - 0s 140us/step - loss: 0.5722 - acc: 0.7200\n",
      "Epoch 193/200\n",
      "50/50 [==============================] - 0s 120us/step - loss: 0.5721 - acc: 0.7200\n",
      "Epoch 194/200\n",
      "50/50 [==============================] - 0s 120us/step - loss: 0.5720 - acc: 0.7200\n",
      "Epoch 195/200\n",
      "50/50 [==============================] - 0s 120us/step - loss: 0.5718 - acc: 0.7200\n",
      "Epoch 196/200\n",
      "50/50 [==============================] - 0s 120us/step - loss: 0.5720 - acc: 0.7200\n",
      "Epoch 197/200\n",
      "50/50 [==============================] - 0s 120us/step - loss: 0.5715 - acc: 0.7200\n",
      "Epoch 198/200\n",
      "50/50 [==============================] - 0s 120us/step - loss: 0.5715 - acc: 0.7200\n",
      "Epoch 199/200\n",
      "50/50 [==============================] - 0s 140us/step - loss: 0.5715 - acc: 0.7200\n",
      "Epoch 200/200\n",
      "50/50 [==============================] - 0s 140us/step - loss: 0.5713 - acc: 0.7200\n"
     ]
    },
    {
     "data": {
      "text/plain": [
       "<keras.callbacks.History at 0x1bf236aad48>"
      ]
     },
     "execution_count": 95,
     "metadata": {},
     "output_type": "execute_result"
    }
   ],
   "source": [
    "#reducing the dimensionality to 2 dimensions using the best\n",
    "#hyper parameter values\n",
    "\n",
    "X_b = X_train[100:150, [2,5]]\n",
    "y_b = y_train[100:150]\n",
    "model = Sequential()\n",
    "model.add(Dense(12, input_dim = 2, activation = 'relu'))\n",
    "model.add(Dense(8, activation = 'relu'))\n",
    "model.add(Dense(1, activation = 'sigmoid'))\n",
    "# Compile model\n",
    "model.compile(loss = 'binary_crossentropy', optimizer = 'adam', metrics= ['accuracy'])\n",
    "model.fit(X_b, y_b,epochs = 200, batch_size = 20) "
   ]
  },
  {
   "cell_type": "code",
   "execution_count": null,
   "metadata": {},
   "outputs": [],
   "source": []
  }
 ],
 "metadata": {
  "kernelspec": {
   "display_name": "Python 3",
   "language": "python",
   "name": "python3"
  },
  "language_info": {
   "codemirror_mode": {
    "name": "ipython",
    "version": 3
   },
   "file_extension": ".py",
   "mimetype": "text/x-python",
   "name": "python",
   "nbconvert_exporter": "python",
   "pygments_lexer": "ipython3",
   "version": "3.7.6"
  }
 },
 "nbformat": 4,
 "nbformat_minor": 2
}
